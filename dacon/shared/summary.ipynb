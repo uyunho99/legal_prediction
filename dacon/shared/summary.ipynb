{
 "cells": [
  {
   "cell_type": "code",
   "execution_count": 1,
   "metadata": {},
   "outputs": [],
   "source": [
    "import nltk\n",
    "from sklearn.feature_extraction.text import TfidfVectorizer\n",
    "from nltk.tokenize import sent_tokenize\n",
    "import pandas as pd\n",
    "import re\n",
    "\n",
    "import pandas as pd\n",
    "import numpy as np\n",
    "from sklearn.feature_extraction.text import TfidfVectorizer\n",
    "from sklearn.model_selection import train_test_split\n",
    "from sklearn.neural_network import MLPRegressor"
   ]
  },
  {
   "cell_type": "code",
   "execution_count": 5,
   "metadata": {},
   "outputs": [
    {
     "name": "stderr",
     "output_type": "stream",
     "text": [
      "[nltk_data] Downloading package punkt to /home/yunho/nltk_data...\n",
      "[nltk_data]   Package punkt is already up-to-date!\n"
     ]
    },
    {
     "data": {
      "text/plain": [
       "True"
      ]
     },
     "execution_count": 5,
     "metadata": {},
     "output_type": "execute_result"
    }
   ],
   "source": [
    "nltk.download('punkt')"
   ]
  },
  {
   "cell_type": "code",
   "execution_count": 16,
   "metadata": {},
   "outputs": [],
   "source": [
    "nltk.data.path.append(\"nltk_data\")\n",
    "\n",
    "\n",
    "def text_summarize(text):\n",
    "    sentences = sent_tokenize(text) # 문장 단위로 분리\n",
    "    vectorizer = TfidfVectorizer() # TF-IDF 벡터화\n",
    "    sentence_vectors = vectorizer.fit_transform(sentences) # 문장 벡터화\n",
    "\n",
    "    top_n = 1  # 문장 개수\n",
    "    top_sentence_indices = sentence_vectors.sum(axis=1).argsort()[-top_n:] # 문장 벡터화 값이 큰 순서대로 정렬\n",
    "    top_sentence_indices.sort() # 문장 벡터화 값이 큰 순서대로 정렬\n",
    "\n",
    "    summary = \" \".join(sentences[i.item()] for i in top_sentence_indices) # 문장 벡터화 값이 큰 순서대로 정렬된 문장들을 합침\n",
    "\n",
    "    return summary\n",
    "\n",
    "\n",
    "train = pd.read_csv(\"../Data/train.csv\")\n",
    "train[\"facts_summary\"] = train[\"facts\"].apply(lambda x: text_summarize(x))\n",
    "\n",
    "test = pd.read_csv(\"../Data/test.csv\")\n",
    "test[\"facts_summary\"] = test[\"facts\"].apply(lambda x: text_summarize(x))\n",
    "\n",
    "submit = pd.read_csv(\"../Data/sample_submission.csv\")\n",
    "\n",
    "# 부호 제거\n",
    "def alpha_num(text):\n",
    "    return re.sub(r\"[^A-Za-z0-9 ]\", \"\", text)\n",
    "\n",
    "\n",
    "# 불용어 제거\n",
    "stopwords = [\"a\", \"about\", \"above\", \"after\", \"again\", \"against\", \"all\", \"am\", \"an\", \"and\", \"any\", \"are\", \"as\",\n",
    "             \"at\", \"be\", \"because\", \"been\", \"before\", \"being\", \"below\", \"between\", \"both\", \"but\", \"by\", \"could\",\n",
    "             \"did\", \"do\", \"does\", \"doing\", \"down\", \"during\", \"each\", \"few\", \"for\", \"from\", \"further\", \"had\", \"has\",\n",
    "             \"have\", \"having\", \"he\", \"he'd\", \"he'll\", \"he's\", \"her\", \"here\", \"here's\", \"hers\", \"herself\", \"him\",\n",
    "             \"himself\",\n",
    "             \"his\", \"how\", \"how's\", \"i\", \"i'd\", \"i'll\", \"i'm\", \"i've\", \"if\", \"in\", \"into\", \"is\", \"it\", \"it's\", \"its\",\n",
    "             \"itself\",\n",
    "             \"let's\", \"me\", \"more\", \"most\", \"my\", \"myself\", \"nor\", \"of\", \"on\", \"once\", \"only\", \"or\", \"other\", \"ought\",\n",
    "             \"our\", \"ours\",\n",
    "             \"ourselves\", \"out\", \"over\", \"own\", \"same\", \"she\", \"she'd\", \"she'll\", \"she's\", \"should\", \"so\", \"some\",\n",
    "             \"such\", \"than\", \"that\",\n",
    "             \"that's\", \"the\", \"their\", \"theirs\", \"them\", \"themselves\", \"then\", \"there\", \"there's\", \"these\", \"they\",\n",
    "             \"they'd\", \"they'll\",\n",
    "             \"they're\", \"they've\", \"this\", \"those\", \"through\", \"to\", \"too\", \"under\", \"until\", \"up\", \"very\", \"was\", \"we\",\n",
    "             \"we'd\", \"we'll\",\n",
    "             \"we're\", \"we've\", \"were\", \"what\", \"what's\", \"when\", \"when's\", \"where\", \"where's\", \"which\", \"while\", \"who\",\n",
    "             \"who's\", \"whom\",\n",
    "             \"why\", \"why's\", \"with\", \"would\", \"you\", \"you'd\", \"you'll\", \"you're\", \"you've\", \"your\", \"yours\", \"yourself\",\n",
    "             \"yourselves\"]\n",
    "\n",
    "\n",
    "def remove_stopwords(text):\n",
    "    final_text = []\n",
    "    for i in text.split():\n",
    "        if i.strip().lower() not in stopwords:\n",
    "            final_text.append(i.strip())\n",
    "    return \" \".join(final_text)\n",
    "\n",
    "\n",
    "# 중복제거\n",
    "def delete_duplication(text):\n",
    "    words = text.split()\n",
    "    unique_words = []\n",
    "\n",
    "    for word in words:\n",
    "        if word not in unique_words:\n",
    "            unique_words.append(word)\n",
    "\n",
    "    result = \" \".join(unique_words)\n",
    "    return result\n",
    "\n",
    "\n",
    "train[\"facts_summary\"] = train[\"facts_summary\"].str.lower()\n",
    "test[\"facts_summary\"] = test[\"facts_summary\"].str.lower()\n",
    "train[\"facts_summary\"] = train[\"facts_summary\"].apply(alpha_num).apply(remove_stopwords).apply(delete_duplication)\n",
    "test[\"facts_summary\"] = test[\"facts_summary\"].apply(alpha_num).apply(remove_stopwords).apply(delete_duplication)"
   ]
  },
  {
   "cell_type": "code",
   "execution_count": 21,
   "metadata": {},
   "outputs": [
    {
     "data": {
      "text/plain": [
       "\"Carol Anne Bond was found guilty of trying to poison her husband's mistress, Myrlinda Haynes, with toxic chemicals at least 24 times over the course of several months. A grand jury in the Eastern District of Pennsylvania charged Bond with two counts of possessing and using a chemical weapon, in violation of a criminal statute implementing the treaty obligations of the United States under the 1993 Chemical Weapons Convention. The grand jury also charged Bond with two counts of mail theft. Bond's attorneys argue that the statute was intended to deal with rogue states and terrorists and that their client should have been prosecuted under state law instead. Bond, a laboratory technician, stole the chemical potassium dichromate from the company where she worked. Haynes was not injured. Bond's husband had a child with Haynes while married to Bond. Haynes had contacted police and postal authorities after finding the chemicals at her home. In September 2009, the U.S. Court of Appeals for the Third Circuit held that Bond lacked standing to challenge the constitutionality of the statute on the basis of the Tenth Amendment.\\n\""
      ]
     },
     "execution_count": 21,
     "metadata": {},
     "output_type": "execute_result"
    }
   ],
   "source": [
    "train[\"facts\"][1234]"
   ]
  },
  {
   "cell_type": "code",
   "execution_count": 22,
   "metadata": {},
   "outputs": [
    {
     "data": {
      "text/plain": [
       "'carol anne bond found guilty trying poison husbands mistress myrlinda haynes toxic chemicals least 24 times course several months'"
      ]
     },
     "execution_count": 22,
     "metadata": {},
     "output_type": "execute_result"
    }
   ],
   "source": [
    "train[\"facts_summary\"][1234]"
   ]
  },
  {
   "cell_type": "code",
   "execution_count": null,
   "metadata": {},
   "outputs": [],
   "source": []
  }
 ],
 "metadata": {
  "kernelspec": {
   "display_name": "nlp",
   "language": "python",
   "name": "python3"
  },
  "language_info": {
   "codemirror_mode": {
    "name": "ipython",
    "version": 3
   },
   "file_extension": ".py",
   "mimetype": "text/x-python",
   "name": "python",
   "nbconvert_exporter": "python",
   "pygments_lexer": "ipython3",
   "version": "3.8.16"
  },
  "orig_nbformat": 4
 },
 "nbformat": 4,
 "nbformat_minor": 2
}
