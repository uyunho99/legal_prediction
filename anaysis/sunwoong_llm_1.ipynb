{
 "cells": [
  {
   "cell_type": "code",
   "execution_count": 7,
   "metadata": {
    "ExecuteTime": {
     "end_time": "2023-07-03T03:09:49.568861308Z",
     "start_time": "2023-07-03T03:09:49.523755068Z"
    }
   },
   "outputs": [
    {
     "name": "stderr",
     "output_type": "stream",
     "text": [
      "2023-07-03 14:45:42.451462: I tensorflow/core/platform/cpu_feature_guard.cc:193] This TensorFlow binary is optimized with oneAPI Deep Neural Network Library (oneDNN) to use the following CPU instructions in performance-critical operations:  AVX2 AVX512F AVX512_VNNI FMA\n",
      "To enable them in other operations, rebuild TensorFlow with the appropriate compiler flags.\n",
      "2023-07-03 14:45:42.561925: I tensorflow/core/util/port.cc:104] oneDNN custom operations are on. You may see slightly different numerical results due to floating-point round-off errors from different computation orders. To turn them off, set the environment variable `TF_ENABLE_ONEDNN_OPTS=0`.\n",
      "2023-07-03 14:45:43.043541: W tensorflow/compiler/xla/stream_executor/platform/default/dso_loader.cc:64] Could not load dynamic library 'libnvinfer.so.7'; dlerror: libnvinfer.so.7: cannot open shared object file: No such file or directory; LD_LIBRARY_PATH: /usr/local/cuda-11.8/lib64${LD_LIBRARY_PATH:+:/usr/lib/mesa-diverted/x86_64-linux-gnu:/usr/lib/x86_64-linux-gnu/mesa:/usr/lib/x86_64-linux-gnu/dri:/usr/lib/x86_64-linux-gnu/gallium-pipe:/usr/local/cuda-11.8/lib64}\n",
      "2023-07-03 14:45:43.043596: W tensorflow/compiler/xla/stream_executor/platform/default/dso_loader.cc:64] Could not load dynamic library 'libnvinfer_plugin.so.7'; dlerror: libnvinfer_plugin.so.7: cannot open shared object file: No such file or directory; LD_LIBRARY_PATH: /usr/local/cuda-11.8/lib64${LD_LIBRARY_PATH:+:/usr/lib/mesa-diverted/x86_64-linux-gnu:/usr/lib/x86_64-linux-gnu/mesa:/usr/lib/x86_64-linux-gnu/dri:/usr/lib/x86_64-linux-gnu/gallium-pipe:/usr/local/cuda-11.8/lib64}\n",
      "2023-07-03 14:45:43.043602: W tensorflow/compiler/tf2tensorrt/utils/py_utils.cc:38] TF-TRT Warning: Cannot dlopen some TensorRT libraries. If you would like to use Nvidia GPU with TensorRT, please make sure the missing libraries mentioned above are installed properly.\n"
     ]
    }
   ],
   "source": [
    "import numpy as np\n",
    "import pandas as pd\n",
    "import matplotlib.pyplot as plt\n",
    "import re, spacy\n",
    "\n",
    "import string\n",
    "from pandarallel import pandarallel"
   ]
  },
  {
   "cell_type": "code",
   "execution_count": 8,
   "metadata": {
    "ExecuteTime": {
     "end_time": "2023-07-03T03:09:49.757036282Z",
     "start_time": "2023-07-03T03:09:49.691194819Z"
    }
   },
   "outputs": [],
   "source": [
    "train_df = pd.read_csv('../Data/train.csv')\n",
    "test_df = pd.read_csv('../Data/test.csv')"
   ]
  },
  {
   "cell_type": "code",
   "execution_count": 9,
   "metadata": {
    "ExecuteTime": {
     "end_time": "2023-07-03T03:09:49.921442830Z",
     "start_time": "2023-07-03T03:09:49.873571201Z"
    }
   },
   "outputs": [],
   "source": [
    "column_rename = {'first_party': 'fp',\n",
    "                 'second_party': 'sp',\n",
    "                 'first_party_winner': 'label'}\n",
    "\n",
    "train_df.rename(columns=column_rename, inplace=True)\n",
    "test_df.rename(columns=column_rename, inplace=True)"
   ]
  },
  {
   "cell_type": "code",
   "execution_count": 10,
   "metadata": {
    "ExecuteTime": {
     "end_time": "2023-07-03T03:09:50.232932358Z",
     "start_time": "2023-07-03T03:09:50.215427813Z"
    }
   },
   "outputs": [
    {
     "data": {
      "text/html": [
       "<div>\n",
       "<style scoped>\n",
       "    .dataframe tbody tr th:only-of-type {\n",
       "        vertical-align: middle;\n",
       "    }\n",
       "\n",
       "    .dataframe tbody tr th {\n",
       "        vertical-align: top;\n",
       "    }\n",
       "\n",
       "    .dataframe thead th {\n",
       "        text-align: right;\n",
       "    }\n",
       "</style>\n",
       "<table border=\"1\" class=\"dataframe\">\n",
       "  <thead>\n",
       "    <tr style=\"text-align: right;\">\n",
       "      <th></th>\n",
       "      <th>ID</th>\n",
       "      <th>fp</th>\n",
       "      <th>sp</th>\n",
       "      <th>facts</th>\n",
       "      <th>label</th>\n",
       "    </tr>\n",
       "  </thead>\n",
       "  <tbody>\n",
       "    <tr>\n",
       "      <th>0</th>\n",
       "      <td>TRAIN_0000</td>\n",
       "      <td>Phil A. St. Amant</td>\n",
       "      <td>Herman A. Thompson</td>\n",
       "      <td>On June 27, 1962, Phil St. Amant, a candidate ...</td>\n",
       "      <td>1</td>\n",
       "    </tr>\n",
       "    <tr>\n",
       "      <th>1</th>\n",
       "      <td>TRAIN_0001</td>\n",
       "      <td>Stephen Duncan</td>\n",
       "      <td>Lawrence Owens</td>\n",
       "      <td>Ramon Nelson was riding his bike when he suffe...</td>\n",
       "      <td>0</td>\n",
       "    </tr>\n",
       "    <tr>\n",
       "      <th>2</th>\n",
       "      <td>TRAIN_0002</td>\n",
       "      <td>Billy Joe Magwood</td>\n",
       "      <td>Tony Patterson, Warden, et al.</td>\n",
       "      <td>An Alabama state court convicted Billy Joe Mag...</td>\n",
       "      <td>1</td>\n",
       "    </tr>\n",
       "    <tr>\n",
       "      <th>3</th>\n",
       "      <td>TRAIN_0003</td>\n",
       "      <td>Linkletter</td>\n",
       "      <td>Walker</td>\n",
       "      <td>Victor Linkletter was convicted in state court...</td>\n",
       "      <td>0</td>\n",
       "    </tr>\n",
       "    <tr>\n",
       "      <th>4</th>\n",
       "      <td>TRAIN_0004</td>\n",
       "      <td>William Earl Fikes</td>\n",
       "      <td>Alabama</td>\n",
       "      <td>On April 24, 1953 in Selma, Alabama, an intrud...</td>\n",
       "      <td>1</td>\n",
       "    </tr>\n",
       "    <tr>\n",
       "      <th>...</th>\n",
       "      <td>...</td>\n",
       "      <td>...</td>\n",
       "      <td>...</td>\n",
       "      <td>...</td>\n",
       "      <td>...</td>\n",
       "    </tr>\n",
       "    <tr>\n",
       "      <th>2473</th>\n",
       "      <td>TRAIN_2473</td>\n",
       "      <td>HollyFrontier Cheyenne Refining, LLC, et al.</td>\n",
       "      <td>Renewable Fuels Association, et al.</td>\n",
       "      <td>Congress amended the Clean Air Act through the...</td>\n",
       "      <td>1</td>\n",
       "    </tr>\n",
       "    <tr>\n",
       "      <th>2474</th>\n",
       "      <td>TRAIN_2474</td>\n",
       "      <td>Grupo Mexicano de Desarrollo, S. A.</td>\n",
       "      <td>Alliance Bond Fund, Inc.</td>\n",
       "      <td>Alliance Bond Fund, Inc., an investment fund, ...</td>\n",
       "      <td>1</td>\n",
       "    </tr>\n",
       "    <tr>\n",
       "      <th>2475</th>\n",
       "      <td>TRAIN_2475</td>\n",
       "      <td>Peguero</td>\n",
       "      <td>United States</td>\n",
       "      <td>In 1992, the District Court sentenced Manuel D...</td>\n",
       "      <td>0</td>\n",
       "    </tr>\n",
       "    <tr>\n",
       "      <th>2476</th>\n",
       "      <td>TRAIN_2476</td>\n",
       "      <td>Immigration and Naturalization Service</td>\n",
       "      <td>St. Cyr</td>\n",
       "      <td>On March 8, 1996, Enrico St. Cyr, a lawful per...</td>\n",
       "      <td>0</td>\n",
       "    </tr>\n",
       "    <tr>\n",
       "      <th>2477</th>\n",
       "      <td>TRAIN_2477</td>\n",
       "      <td>Markman</td>\n",
       "      <td>Westview Instruments, Inc.</td>\n",
       "      <td>Herbert Markman owns the patent to a system th...</td>\n",
       "      <td>0</td>\n",
       "    </tr>\n",
       "  </tbody>\n",
       "</table>\n",
       "<p>2478 rows × 5 columns</p>\n",
       "</div>"
      ],
      "text/plain": [
       "              ID                                            fp  \\\n",
       "0     TRAIN_0000                             Phil A. St. Amant   \n",
       "1     TRAIN_0001                                Stephen Duncan   \n",
       "2     TRAIN_0002                             Billy Joe Magwood   \n",
       "3     TRAIN_0003                                    Linkletter   \n",
       "4     TRAIN_0004                            William Earl Fikes   \n",
       "...          ...                                           ...   \n",
       "2473  TRAIN_2473  HollyFrontier Cheyenne Refining, LLC, et al.   \n",
       "2474  TRAIN_2474           Grupo Mexicano de Desarrollo, S. A.   \n",
       "2475  TRAIN_2475                                       Peguero   \n",
       "2476  TRAIN_2476        Immigration and Naturalization Service   \n",
       "2477  TRAIN_2477                                       Markman   \n",
       "\n",
       "                                       sp  \\\n",
       "0                      Herman A. Thompson   \n",
       "1                          Lawrence Owens   \n",
       "2          Tony Patterson, Warden, et al.   \n",
       "3                                  Walker   \n",
       "4                                 Alabama   \n",
       "...                                   ...   \n",
       "2473  Renewable Fuels Association, et al.   \n",
       "2474             Alliance Bond Fund, Inc.   \n",
       "2475                        United States   \n",
       "2476                              St. Cyr   \n",
       "2477           Westview Instruments, Inc.   \n",
       "\n",
       "                                                  facts  label  \n",
       "0     On June 27, 1962, Phil St. Amant, a candidate ...      1  \n",
       "1     Ramon Nelson was riding his bike when he suffe...      0  \n",
       "2     An Alabama state court convicted Billy Joe Mag...      1  \n",
       "3     Victor Linkletter was convicted in state court...      0  \n",
       "4     On April 24, 1953 in Selma, Alabama, an intrud...      1  \n",
       "...                                                 ...    ...  \n",
       "2473  Congress amended the Clean Air Act through the...      1  \n",
       "2474  Alliance Bond Fund, Inc., an investment fund, ...      1  \n",
       "2475  In 1992, the District Court sentenced Manuel D...      0  \n",
       "2476  On March 8, 1996, Enrico St. Cyr, a lawful per...      0  \n",
       "2477  Herbert Markman owns the patent to a system th...      0  \n",
       "\n",
       "[2478 rows x 5 columns]"
      ]
     },
     "execution_count": 10,
     "metadata": {},
     "output_type": "execute_result"
    }
   ],
   "source": [
    "train_df"
   ]
  },
  {
   "cell_type": "code",
   "execution_count": 11,
   "metadata": {
    "ExecuteTime": {
     "end_time": "2023-07-03T03:09:50.754374725Z",
     "start_time": "2023-07-03T03:09:50.746505645Z"
    },
    "collapsed": false
   },
   "outputs": [],
   "source": [
    "legal_verbs = {'argue': 740,\n",
    "               'violate': 651,\n",
    "               'sue': 526,\n",
    "               'allege': 468,\n",
    "               'convict': 436,\n",
    "               'claim': 393,\n",
    "               'accuse': 391,\n",
    "               'implicate': 387,}"
   ]
  },
  {
   "cell_type": "code",
   "execution_count": 104,
   "metadata": {
    "ExecuteTime": {
     "end_time": "2023-07-03T05:36:56.644002557Z",
     "start_time": "2023-07-03T05:36:56.592279824Z"
    },
    "collapsed": false
   },
   "outputs": [],
   "source": [
    "fp_name = 'The First Party'\n",
    "sp_name = 'The Second Party'\n",
    "\n",
    "\n",
    "def regex_cleaning(fact_subj):\n",
    "    semi_punctuation = re.sub(rf'[\"\\']', '', string.punctuation)\n",
    "    fact_subj = fact_subj.replace('’', \"'\")\n",
    "    fact_subj = fact_subj.replace('‘', \"'\")\n",
    "    fact_subj = fact_subj.replace('“', '\"')\n",
    "    fact_subj = fact_subj.replace('”', '\"')\n",
    "    fact_subj = fact_subj.replace('–', '-')\n",
    "    fact_subj = re.sub(rf\"[\\d\\s]+\", r' ', fact_subj)\n",
    "    fact_subj = re.sub(rf\"({fp_name} ?)+\", f'{fp_name} ', fact_subj)\n",
    "    fact_subj = re.sub(rf\"({sp_name} ?)+\", f'{sp_name} ', fact_subj)\n",
    "    # fact_subj = re.sub(rf\"([\\\"'])\\1+ \", r'\\1', fact_subj)\n",
    "    fact_subj = re.sub(rf\"([\\\"'])\\1? +([\\w{semi_punctuation}]+)\\2? +([\\\"'])\\3?\", r'\\1\\2\\3', fact_subj)\n",
    "    fact_subj = re.sub(rf\" +([{semi_punctuation}])\", r'\\1', fact_subj)\n",
    "    fact_subj = re.sub(rf\" 's \", \"'s \", fact_subj)\n",
    "    fact_subj = re.sub(r'([^\\w\\s])\\1+', r'\\1', fact_subj)\n",
    "    \n",
    "    return fact_subj.strip()\n",
    "\n",
    "def inspect_token(fact_tokens):\n",
    "    fp_name_list = [n.lower() for n in fp.replace(',', '').split() if len(n) > 1]\n",
    "    sp_name_list = [n.lower() for n in sp.replace(',', '').split() if len(n) > 1]\n",
    "\n",
    "    fp_name_list_added = fp_name_list.copy()\n",
    "    sp_name_list_added = sp_name_list.copy()\n",
    "\n",
    "    for n in fp_name_list:\n",
    "        changed_name = re.findall(rf\"{n} ?\\([a-z]+\\)\", fact_tokens.text.lower())\n",
    "        if changed_name:\n",
    "            fp_name_list_added.extend([re.sub(rf'({n}|[ {string.punctuation}])', '', cn) for cn in changed_name])\n",
    "\n",
    "    for n in sp_name_list:\n",
    "        changed_name = re.findall(rf\"{n} ?\\([a-z]+\\)\", fact_tokens.text.lower())\n",
    "        if changed_name:\n",
    "            sp_name_list_added.extend([re.sub(rf'({n}|[ {string.punctuation}])', '', cn) for cn in changed_name])\n",
    "\n",
    "    fp_name_list = fp_name_list_added\n",
    "    sp_name_list = sp_name_list_added\n",
    "\n",
    "    def is_in_namelist(token):\n",
    "        if 'NN' in token.tag_ or 'PROPN' in token.pos_:\n",
    "            if token.text.lower() in fp_name_list:\n",
    "                return fp_name\n",
    "            elif token.text.lower() in sp_name_list:\n",
    "                return sp_name\n",
    "        return token.text\n",
    "\n",
    "    def is_has_legal_verb(token, strong=False):\n",
    "        if 'NN' in token.tag_ or 'PROPN' in token.pos_:\n",
    "            head = token.head\n",
    "            if head.text.lower() in fp_name_list:\n",
    "                if token.pos_ == 'PROPN':\n",
    "                    fp_name_list.append(token.text.lower())\n",
    "                if strong:\n",
    "                    return fp_name\n",
    "            elif head.text.lower() in sp_name_list:\n",
    "                if token.pos_ == 'PROPN':\n",
    "                    sp_name_list.append(token.text.lower())\n",
    "                if strong:\n",
    "                    return sp_name\n",
    "            elif 'VBD' in head.tag_ and head.lemma_ in legal_verbs:\n",
    "                return is_in_namelist(token)\n",
    "        return token.text\n",
    "\n",
    "    before_len_fp = 0\n",
    "    before_len_sp = 0\n",
    "\n",
    "    fact_subj = [token.text for token in fact_tokens]\n",
    "\n",
    "    while before_len_fp != len(fp_name_list) or before_len_sp != len(sp_name_list):\n",
    "        for i, token in enumerate(reversed(fact_tokens)):\n",
    "            party = is_in_namelist(token)\n",
    "            if not party:\n",
    "                party = is_has_legal_verb(token)\n",
    "            fact_subj[len(fact_tokens) - i - 1] = party\n",
    "\n",
    "        before_len_fp = len(fp_name_list)\n",
    "        before_len_sp = len(sp_name_list)\n",
    "\n",
    "\n",
    "    fact_subj = ' '.join(fact_subj)\n",
    "    # fact_subj = re.sub(rf'[{string.punctuation}]+', r' ', fact_subj)\n",
    "    # \"\"\" (.,?\"!@#)\"\"\"\n",
    "    return regex_cleaning(fact_subj)"
   ]
  },
  {
   "cell_type": "code",
   "execution_count": 105,
   "metadata": {
    "ExecuteTime": {
     "end_time": "2023-07-03T05:36:57.175451602Z",
     "start_time": "2023-07-03T05:36:56.753290353Z"
    },
    "collapsed": false
   },
   "outputs": [],
   "source": [
    "nlp = spacy.load('en_core_web_sm')"
   ]
  },
  {
   "cell_type": "code",
   "execution_count": 106,
   "metadata": {
    "ExecuteTime": {
     "end_time": "2023-07-03T05:36:57.299676164Z",
     "start_time": "2023-07-03T05:36:57.264613103Z"
    },
    "collapsed": false
   },
   "outputs": [
    {
     "name": "stdout",
     "output_type": "stream",
     "text": [
      "first_party:  Carol Anne Bond\n",
      "second_party:  United States\n",
      "facts:  Carol Anne Bond was found guilty of trying to poison her husband's mistress, Myrlinda Haynes, with toxic chemicals at least 24 times over the course of several months. A grand jury in the Eastern District of Pennsylvania charged Bond with two counts of possessing and using a chemical weapon, in violation of a criminal statute implementing the treaty obligations of the United States under the 1993 Chemical Weapons Convention. The grand jury also charged Bond with two counts of mail theft. Bond's attorneys argue that the statute was intended to deal with rogue states and terrorists and that their client should have been prosecuted under state law instead. Bond, a laboratory technician, stole the chemical potassium dichromate from the company where she worked. Haynes was not injured. Bond's husband had a child with Haynes while married to Bond. Haynes had contacted police and postal authorities after finding the chemicals at her home. In September 2009, the U.S. Court of Appeals for the Third Circuit held that Bond lacked standing to challenge the constitutionality of the statute on the basis of the Tenth Amendment.\n",
      "\n"
     ]
    }
   ],
   "source": [
    "idx = 1234\n",
    "fp = train_df['fp'][idx]\n",
    "sp = train_df['sp'][idx]\n",
    "facts = train_df['facts'][idx]\n",
    "fact_tokens = nlp(facts)\n",
    "\n",
    "print('first_party: ', fp)\n",
    "print('second_party: ', sp)\n",
    "print('facts: ', facts)"
   ]
  },
  {
   "cell_type": "code",
   "execution_count": 107,
   "metadata": {
    "ExecuteTime": {
     "end_time": "2023-07-03T05:36:58.504761638Z",
     "start_time": "2023-07-03T05:36:58.474143007Z"
    },
    "collapsed": false
   },
   "outputs": [
    {
     "data": {
      "text/plain": [
       "\"The First Party was found guilty of trying to poison her husband's mistress, Myrlinda Haynes, with toxic chemicals at least times over the course of several months. A grand jury in the Eastern District of Pennsylvania charged The First Party with two counts of possessing and using a chemical weapon, in violation of a criminal statute implementing the treaty obligations of the The Second Party under the Chemical Weapons Convention. The grand jury also charged The First Party with two counts of mail theft. The First Party's attorneys argue that the statute was intended to deal with rogue The Second Party and terrorists and that their client should have been prosecuted under state law instead. The First Party, a laboratory technician, stole the chemical potassium dichromate from the company where she worked. Haynes was not injured. The First Party's husband had a child with Haynes while married to The First Party. Haynes had contacted police and postal authorities after finding the chemicals at her home. In September, the U.S. Court of Appeals for the Third Circuit held that The First Party lacked standing to challenge the constitutionality of the statute on the basis of the Tenth Amendment.\""
      ]
     },
     "execution_count": 107,
     "metadata": {},
     "output_type": "execute_result"
    }
   ],
   "source": [
    "inspect_token(fact_tokens)"
   ]
  },
  {
   "cell_type": "code",
   "execution_count": 83,
   "metadata": {
    "ExecuteTime": {
     "end_time": "2023-07-03T03:11:27.861596322Z",
     "start_time": "2023-07-03T03:11:13.836819041Z"
    },
    "collapsed": false
   },
   "outputs": [
    {
     "name": "stdout",
     "output_type": "stream",
     "text": [
      "INFO: Pandarallel will run on 8 workers.\n",
      "INFO: Pandarallel will use Memory file system to transfer data between the main process and workers.\n"
     ]
    },
    {
     "data": {
      "application/vnd.jupyter.widget-view+json": {
       "model_id": "57bf556c06194bbaa994640e869c1bb8",
       "version_major": 2,
       "version_minor": 0
      },
      "text/plain": [
       "VBox(children=(HBox(children=(IntProgress(value=0, description='0.00%', max=310), Label(value='0 / 310'))), HB…"
      ]
     },
     "metadata": {},
     "output_type": "display_data"
    },
    {
     "ename": "KeyboardInterrupt",
     "evalue": "",
     "output_type": "error",
     "traceback": [
      "\u001b[0;31m---------------------------------------------------------------------------\u001b[0m",
      "\u001b[0;31mKeyboardInterrupt\u001b[0m                         Traceback (most recent call last)",
      "\u001b[1;32m/home/user/PycharmProjects/legal_prediction/anaysis/sunwoong_llm_1.ipynb 셀 12\u001b[0m in \u001b[0;36m<cell line: 2>\u001b[0;34m()\u001b[0m\n\u001b[1;32m      <a href='vscode-notebook-cell://ssh-remote%2B166.104.112.89/home/user/PycharmProjects/legal_prediction/anaysis/sunwoong_llm_1.ipynb#X12sdnNjb2RlLXJlbW90ZQ%3D%3D?line=0'>1</a>\u001b[0m pandarallel\u001b[39m.\u001b[39minitialize(progress_bar\u001b[39m=\u001b[39m\u001b[39mTrue\u001b[39;00m, nb_workers\u001b[39m=\u001b[39m\u001b[39m8\u001b[39m)\n\u001b[0;32m----> <a href='vscode-notebook-cell://ssh-remote%2B166.104.112.89/home/user/PycharmProjects/legal_prediction/anaysis/sunwoong_llm_1.ipynb#X12sdnNjb2RlLXJlbW90ZQ%3D%3D?line=1'>2</a>\u001b[0m train_df[\u001b[39m'\u001b[39m\u001b[39mfact_tokens\u001b[39m\u001b[39m'\u001b[39m] \u001b[39m=\u001b[39m train_df[\u001b[39m'\u001b[39;49m\u001b[39mfacts\u001b[39;49m\u001b[39m'\u001b[39;49m]\u001b[39m.\u001b[39;49mparallel_apply(nlp)\n",
      "File \u001b[0;32m~/anaconda3/envs/nlp/lib/python3.8/site-packages/pandarallel/core.py:307\u001b[0m, in \u001b[0;36mparallelize_with_memory_file_system.<locals>.closure\u001b[0;34m(data, user_defined_function, *user_defined_function_args, **user_defined_function_kwargs)\u001b[0m\n\u001b[1;32m    299\u001b[0m generation \u001b[39m=\u001b[39m count()\n\u001b[1;32m    301\u001b[0m \u001b[39mwhile\u001b[39;00m \u001b[39many\u001b[39m(\n\u001b[1;32m    302\u001b[0m     (\n\u001b[1;32m    303\u001b[0m         worker_status \u001b[39m==\u001b[39m WorkerStatus\u001b[39m.\u001b[39mRunning\n\u001b[1;32m    304\u001b[0m         \u001b[39mfor\u001b[39;00m worker_status \u001b[39min\u001b[39;00m workers_status\n\u001b[1;32m    305\u001b[0m     )\n\u001b[1;32m    306\u001b[0m ):\n\u001b[0;32m--> 307\u001b[0m     message: Tuple[\u001b[39mint\u001b[39m, WorkerStatus, Any] \u001b[39m=\u001b[39m master_workers_queue\u001b[39m.\u001b[39;49mget()\n\u001b[1;32m    308\u001b[0m     worker_index, worker_status, payload \u001b[39m=\u001b[39m message\n\u001b[1;32m    309\u001b[0m     workers_status[worker_index] \u001b[39m=\u001b[39m worker_status\n",
      "File \u001b[0;32m<string>:2\u001b[0m, in \u001b[0;36mget\u001b[0;34m(self, *args, **kwds)\u001b[0m\n",
      "File \u001b[0;32m~/anaconda3/envs/nlp/lib/python3.8/multiprocessing/managers.py:835\u001b[0m, in \u001b[0;36mBaseProxy._callmethod\u001b[0;34m(self, methodname, args, kwds)\u001b[0m\n\u001b[1;32m    832\u001b[0m     conn \u001b[39m=\u001b[39m \u001b[39mself\u001b[39m\u001b[39m.\u001b[39m_tls\u001b[39m.\u001b[39mconnection\n\u001b[1;32m    834\u001b[0m conn\u001b[39m.\u001b[39msend((\u001b[39mself\u001b[39m\u001b[39m.\u001b[39m_id, methodname, args, kwds))\n\u001b[0;32m--> 835\u001b[0m kind, result \u001b[39m=\u001b[39m conn\u001b[39m.\u001b[39;49mrecv()\n\u001b[1;32m    837\u001b[0m \u001b[39mif\u001b[39;00m kind \u001b[39m==\u001b[39m \u001b[39m'\u001b[39m\u001b[39m#RETURN\u001b[39m\u001b[39m'\u001b[39m:\n\u001b[1;32m    838\u001b[0m     \u001b[39mreturn\u001b[39;00m result\n",
      "File \u001b[0;32m~/anaconda3/envs/nlp/lib/python3.8/multiprocessing/connection.py:250\u001b[0m, in \u001b[0;36m_ConnectionBase.recv\u001b[0;34m(self)\u001b[0m\n\u001b[1;32m    248\u001b[0m \u001b[39mself\u001b[39m\u001b[39m.\u001b[39m_check_closed()\n\u001b[1;32m    249\u001b[0m \u001b[39mself\u001b[39m\u001b[39m.\u001b[39m_check_readable()\n\u001b[0;32m--> 250\u001b[0m buf \u001b[39m=\u001b[39m \u001b[39mself\u001b[39;49m\u001b[39m.\u001b[39;49m_recv_bytes()\n\u001b[1;32m    251\u001b[0m \u001b[39mreturn\u001b[39;00m _ForkingPickler\u001b[39m.\u001b[39mloads(buf\u001b[39m.\u001b[39mgetbuffer())\n",
      "File \u001b[0;32m~/anaconda3/envs/nlp/lib/python3.8/multiprocessing/connection.py:414\u001b[0m, in \u001b[0;36mConnection._recv_bytes\u001b[0;34m(self, maxsize)\u001b[0m\n\u001b[1;32m    413\u001b[0m \u001b[39mdef\u001b[39;00m \u001b[39m_recv_bytes\u001b[39m(\u001b[39mself\u001b[39m, maxsize\u001b[39m=\u001b[39m\u001b[39mNone\u001b[39;00m):\n\u001b[0;32m--> 414\u001b[0m     buf \u001b[39m=\u001b[39m \u001b[39mself\u001b[39;49m\u001b[39m.\u001b[39;49m_recv(\u001b[39m4\u001b[39;49m)\n\u001b[1;32m    415\u001b[0m     size, \u001b[39m=\u001b[39m struct\u001b[39m.\u001b[39munpack(\u001b[39m\"\u001b[39m\u001b[39m!i\u001b[39m\u001b[39m\"\u001b[39m, buf\u001b[39m.\u001b[39mgetvalue())\n\u001b[1;32m    416\u001b[0m     \u001b[39mif\u001b[39;00m size \u001b[39m==\u001b[39m \u001b[39m-\u001b[39m\u001b[39m1\u001b[39m:\n",
      "File \u001b[0;32m~/anaconda3/envs/nlp/lib/python3.8/multiprocessing/connection.py:379\u001b[0m, in \u001b[0;36mConnection._recv\u001b[0;34m(self, size, read)\u001b[0m\n\u001b[1;32m    377\u001b[0m remaining \u001b[39m=\u001b[39m size\n\u001b[1;32m    378\u001b[0m \u001b[39mwhile\u001b[39;00m remaining \u001b[39m>\u001b[39m \u001b[39m0\u001b[39m:\n\u001b[0;32m--> 379\u001b[0m     chunk \u001b[39m=\u001b[39m read(handle, remaining)\n\u001b[1;32m    380\u001b[0m     n \u001b[39m=\u001b[39m \u001b[39mlen\u001b[39m(chunk)\n\u001b[1;32m    381\u001b[0m     \u001b[39mif\u001b[39;00m n \u001b[39m==\u001b[39m \u001b[39m0\u001b[39m:\n",
      "\u001b[0;31mKeyboardInterrupt\u001b[0m: "
     ]
    }
   ],
   "source": [
    "pandarallel.initialize(progress_bar=True, nb_workers=8)\n",
    "train_df['fact_tokens'] = train_df['facts'].parallel_apply(nlp)"
   ]
  },
  {
   "cell_type": "code",
   "execution_count": 27,
   "metadata": {
    "ExecuteTime": {
     "end_time": "2023-07-03T03:12:23.422000107Z",
     "start_time": "2023-07-03T03:12:14.085144194Z"
    },
    "collapsed": false
   },
   "outputs": [
    {
     "data": {
      "application/vnd.jupyter.widget-view+json": {
       "model_id": "7125c44a668c412d94e22ac7fbd9a0f0",
       "version_major": 2,
       "version_minor": 0
      },
      "text/plain": [
       "VBox(children=(HBox(children=(IntProgress(value=0, description='0.00%', max=155), Label(value='0 / 155'))), HB…"
      ]
     },
     "metadata": {},
     "output_type": "display_data"
    }
   ],
   "source": [
    "test_df['fact_tokens'] = test_df['facts'].parallel_apply(nlp)"
   ]
  },
  {
   "cell_type": "code",
   "execution_count": 31,
   "metadata": {
    "ExecuteTime": {
     "end_time": "2023-07-03T03:14:56.342860737Z",
     "start_time": "2023-07-03T03:14:56.300855655Z"
    },
    "collapsed": false
   },
   "outputs": [],
   "source": [
    "def change_fp_sp(text):\n",
    "    removed_fp = re.sub(fp_name, 'TMP_SP', text)\n",
    "    removed_sp = re.sub(sp_name, 'TMP_FP', removed_fp)\n",
    "    changed_fp = re.sub('TMP_SP', sp_name, removed_sp)\n",
    "    changed_sp = re.sub('TMP_FP', fp_name, changed_fp)\n",
    "    return changed_sp"
   ]
  },
  {
   "cell_type": "code",
   "execution_count": 32,
   "metadata": {
    "ExecuteTime": {
     "end_time": "2023-07-03T03:15:09.840968957Z",
     "start_time": "2023-07-03T03:15:09.792684262Z"
    },
    "collapsed": false
   },
   "outputs": [
    {
     "data": {
      "text/plain": [
       "'On June The First Party a candidate for public office made a television speech in Baton Rouge Louisiana During this speech The First Party accused his political opponent of being a Communist and of being involved in criminal activities with the head of the local Teamsters Union Finally The First Party implicated The Second Party an East Baton Rouge deputy sheriff in a scheme to move money between the Teamsters Union and The First Party ’s political opponent The Second Party successfully sued The First Party for defamation Louisiana ’s First Circuit Court of Appeals reversed holding that The Second Party did not show The First Party acted with “ malice ” The Second Party then appealed to the Supreme Court of Louisiana That court held that although public figures forfeit some of their First Amendment protection from defamation The First Party accused The Second Party of a crime with utter disregard of whether the remarks were true Finally that court held that the First Amendment protects uninhibited robust debate rather than an open season to shoot down the good name of anyone who happens to be a public servant '"
      ]
     },
     "execution_count": 32,
     "metadata": {},
     "output_type": "execute_result"
    }
   ],
   "source": [
    "inspect_token(train_df['fact_tokens'][0])"
   ]
  },
  {
   "cell_type": "code",
   "execution_count": 33,
   "metadata": {
    "ExecuteTime": {
     "end_time": "2023-07-03T03:15:15.808814524Z",
     "start_time": "2023-07-03T03:15:15.741437507Z"
    },
    "collapsed": false
   },
   "outputs": [
    {
     "data": {
      "text/plain": [
       "'On June The Second Party a candidate for public office made a television speech in Baton Rouge Louisiana During this speech The Second Party accused his political opponent of being a Communist and of being involved in criminal activities with the head of the local Teamsters Union Finally The Second Party implicated The First Party an East Baton Rouge deputy sheriff in a scheme to move money between the Teamsters Union and The Second Party ’s political opponent The First Party successfully sued The Second Party for defamation Louisiana ’s First Circuit Court of Appeals reversed holding that The First Party did not show The Second Party acted with “ malice ” The First Party then appealed to the Supreme Court of Louisiana That court held that although public figures forfeit some of their First Amendment protection from defamation The Second Party accused The First Party of a crime with utter disregard of whether the remarks were true Finally that court held that the First Amendment protects uninhibited robust debate rather than an open season to shoot down the good name of anyone who happens to be a public servant '"
      ]
     },
     "execution_count": 33,
     "metadata": {},
     "output_type": "execute_result"
    }
   ],
   "source": [
    "change_fp_sp(inspect_token(train_df['fact_tokens'][0]))"
   ]
  },
  {
   "cell_type": "code",
   "execution_count": 34,
   "metadata": {
    "ExecuteTime": {
     "end_time": "2023-07-03T03:16:10.492353337Z",
     "start_time": "2023-07-03T03:16:10.445683895Z"
    },
    "collapsed": false
   },
   "outputs": [
    {
     "data": {
      "text/plain": [
       "'On June 27, 1962, Phil St. Amant, a candidate for public office, made a television speech in Baton Rouge, Louisiana.  During this speech, St. Amant accused his political opponent of being a Communist and of being involved in criminal activities with the head of the local Teamsters Union.  Finally, St. Amant implicated Herman Thompson, an East Baton Rouge deputy sheriff, in a scheme to move money between the Teamsters Union and St. Amant’s political opponent. \\nThompson successfully sued St. Amant for defamation.  Louisiana’s First Circuit Court of Appeals reversed, holding that Thompson did not show St. Amant acted with “malice.”  Thompson then appealed to the Supreme Court of Louisiana.  That court held that, although public figures forfeit some of their First Amendment protection from defamation, St. Amant accused Thompson of a crime with utter disregard of whether the remarks were true.  Finally, that court held that the First Amendment protects uninhibited, robust debate, rather than an open season to shoot down the good name of anyone who happens to be a public servant. \\n'"
      ]
     },
     "execution_count": 34,
     "metadata": {},
     "output_type": "execute_result"
    }
   ],
   "source": [
    "train_df['facts'][0]"
   ]
  }
 ],
 "metadata": {
  "kernelspec": {
   "display_name": "nlp",
   "language": "python",
   "name": "python3"
  },
  "language_info": {
   "codemirror_mode": {
    "name": "ipython",
    "version": 3
   },
   "file_extension": ".py",
   "mimetype": "text/x-python",
   "name": "python",
   "nbconvert_exporter": "python",
   "pygments_lexer": "ipython3",
   "version": "3.8.13"
  },
  "orig_nbformat": 4
 },
 "nbformat": 4,
 "nbformat_minor": 2
}
