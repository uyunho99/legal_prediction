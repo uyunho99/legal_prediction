{
 "cells": [
  {
   "cell_type": "code",
   "execution_count": 35,
   "metadata": {},
   "outputs": [],
   "source": [
    "import numpy as np\n",
    "import pandas as pd\n",
    "import matplotlib.pyplot as plt\n",
    "import re, spacy\n",
    "\n",
    "import string\n",
    "from pandarallel import pandarallel\n"
   ]
  },
  {
   "cell_type": "code",
   "execution_count": 36,
   "metadata": {},
   "outputs": [
    {
     "data": {
      "text/html": [
       "<div>\n",
       "<style scoped>\n",
       "    .dataframe tbody tr th:only-of-type {\n",
       "        vertical-align: middle;\n",
       "    }\n",
       "\n",
       "    .dataframe tbody tr th {\n",
       "        vertical-align: top;\n",
       "    }\n",
       "\n",
       "    .dataframe thead th {\n",
       "        text-align: right;\n",
       "    }\n",
       "</style>\n",
       "<table border=\"1\" class=\"dataframe\">\n",
       "  <thead>\n",
       "    <tr style=\"text-align: right;\">\n",
       "      <th></th>\n",
       "      <th>ID</th>\n",
       "      <th>first_party</th>\n",
       "      <th>second_party</th>\n",
       "      <th>facts</th>\n",
       "      <th>first_party_winner</th>\n",
       "    </tr>\n",
       "  </thead>\n",
       "  <tbody>\n",
       "    <tr>\n",
       "      <th>0</th>\n",
       "      <td>TRAIN_0000</td>\n",
       "      <td>Phil A. St. Amant</td>\n",
       "      <td>Herman A. Thompson</td>\n",
       "      <td>On June 27, 1962, Phil St. Amant, a candidate ...</td>\n",
       "      <td>1</td>\n",
       "    </tr>\n",
       "    <tr>\n",
       "      <th>1</th>\n",
       "      <td>TRAIN_0001</td>\n",
       "      <td>Stephen Duncan</td>\n",
       "      <td>Lawrence Owens</td>\n",
       "      <td>Ramon Nelson was riding his bike when he suffe...</td>\n",
       "      <td>0</td>\n",
       "    </tr>\n",
       "    <tr>\n",
       "      <th>2</th>\n",
       "      <td>TRAIN_0002</td>\n",
       "      <td>Billy Joe Magwood</td>\n",
       "      <td>Tony Patterson, Warden, et al.</td>\n",
       "      <td>An Alabama state court convicted Billy Joe Mag...</td>\n",
       "      <td>1</td>\n",
       "    </tr>\n",
       "    <tr>\n",
       "      <th>3</th>\n",
       "      <td>TRAIN_0003</td>\n",
       "      <td>Linkletter</td>\n",
       "      <td>Walker</td>\n",
       "      <td>Victor Linkletter was convicted in state court...</td>\n",
       "      <td>0</td>\n",
       "    </tr>\n",
       "    <tr>\n",
       "      <th>4</th>\n",
       "      <td>TRAIN_0004</td>\n",
       "      <td>William Earl Fikes</td>\n",
       "      <td>Alabama</td>\n",
       "      <td>On April 24, 1953 in Selma, Alabama, an intrud...</td>\n",
       "      <td>1</td>\n",
       "    </tr>\n",
       "    <tr>\n",
       "      <th>...</th>\n",
       "      <td>...</td>\n",
       "      <td>...</td>\n",
       "      <td>...</td>\n",
       "      <td>...</td>\n",
       "      <td>...</td>\n",
       "    </tr>\n",
       "    <tr>\n",
       "      <th>2473</th>\n",
       "      <td>TRAIN_2473</td>\n",
       "      <td>HollyFrontier Cheyenne Refining, LLC, et al.</td>\n",
       "      <td>Renewable Fuels Association, et al.</td>\n",
       "      <td>Congress amended the Clean Air Act through the...</td>\n",
       "      <td>1</td>\n",
       "    </tr>\n",
       "    <tr>\n",
       "      <th>2474</th>\n",
       "      <td>TRAIN_2474</td>\n",
       "      <td>Grupo Mexicano de Desarrollo, S. A.</td>\n",
       "      <td>Alliance Bond Fund, Inc.</td>\n",
       "      <td>Alliance Bond Fund, Inc., an investment fund, ...</td>\n",
       "      <td>1</td>\n",
       "    </tr>\n",
       "    <tr>\n",
       "      <th>2475</th>\n",
       "      <td>TRAIN_2475</td>\n",
       "      <td>Peguero</td>\n",
       "      <td>United States</td>\n",
       "      <td>In 1992, the District Court sentenced Manuel D...</td>\n",
       "      <td>0</td>\n",
       "    </tr>\n",
       "    <tr>\n",
       "      <th>2476</th>\n",
       "      <td>TRAIN_2476</td>\n",
       "      <td>Immigration and Naturalization Service</td>\n",
       "      <td>St. Cyr</td>\n",
       "      <td>On March 8, 1996, Enrico St. Cyr, a lawful per...</td>\n",
       "      <td>0</td>\n",
       "    </tr>\n",
       "    <tr>\n",
       "      <th>2477</th>\n",
       "      <td>TRAIN_2477</td>\n",
       "      <td>Markman</td>\n",
       "      <td>Westview Instruments, Inc.</td>\n",
       "      <td>Herbert Markman owns the patent to a system th...</td>\n",
       "      <td>0</td>\n",
       "    </tr>\n",
       "  </tbody>\n",
       "</table>\n",
       "<p>2478 rows × 5 columns</p>\n",
       "</div>"
      ],
      "text/plain": [
       "              ID                                   first_party   \n",
       "0     TRAIN_0000                             Phil A. St. Amant  \\\n",
       "1     TRAIN_0001                                Stephen Duncan   \n",
       "2     TRAIN_0002                             Billy Joe Magwood   \n",
       "3     TRAIN_0003                                    Linkletter   \n",
       "4     TRAIN_0004                            William Earl Fikes   \n",
       "...          ...                                           ...   \n",
       "2473  TRAIN_2473  HollyFrontier Cheyenne Refining, LLC, et al.   \n",
       "2474  TRAIN_2474           Grupo Mexicano de Desarrollo, S. A.   \n",
       "2475  TRAIN_2475                                       Peguero   \n",
       "2476  TRAIN_2476        Immigration and Naturalization Service   \n",
       "2477  TRAIN_2477                                       Markman   \n",
       "\n",
       "                             second_party   \n",
       "0                      Herman A. Thompson  \\\n",
       "1                          Lawrence Owens   \n",
       "2          Tony Patterson, Warden, et al.   \n",
       "3                                  Walker   \n",
       "4                                 Alabama   \n",
       "...                                   ...   \n",
       "2473  Renewable Fuels Association, et al.   \n",
       "2474             Alliance Bond Fund, Inc.   \n",
       "2475                        United States   \n",
       "2476                              St. Cyr   \n",
       "2477           Westview Instruments, Inc.   \n",
       "\n",
       "                                                  facts  first_party_winner  \n",
       "0     On June 27, 1962, Phil St. Amant, a candidate ...                   1  \n",
       "1     Ramon Nelson was riding his bike when he suffe...                   0  \n",
       "2     An Alabama state court convicted Billy Joe Mag...                   1  \n",
       "3     Victor Linkletter was convicted in state court...                   0  \n",
       "4     On April 24, 1953 in Selma, Alabama, an intrud...                   1  \n",
       "...                                                 ...                 ...  \n",
       "2473  Congress amended the Clean Air Act through the...                   1  \n",
       "2474  Alliance Bond Fund, Inc., an investment fund, ...                   1  \n",
       "2475  In 1992, the District Court sentenced Manuel D...                   0  \n",
       "2476  On March 8, 1996, Enrico St. Cyr, a lawful per...                   0  \n",
       "2477  Herbert Markman owns the patent to a system th...                   0  \n",
       "\n",
       "[2478 rows x 5 columns]"
      ]
     },
     "execution_count": 36,
     "metadata": {},
     "output_type": "execute_result"
    }
   ],
   "source": [
    "train_df = pd.read_csv('../Data/train.csv')\n",
    "test_df = pd.read_csv('../Data/test.csv')\n",
    "\n",
    "train_df"
   ]
  },
  {
   "cell_type": "code",
   "execution_count": 37,
   "metadata": {},
   "outputs": [],
   "source": [
    "nlp = spacy.load('en_core_web_sm')"
   ]
  },
  {
   "cell_type": "code",
   "execution_count": 38,
   "metadata": {},
   "outputs": [
    {
     "name": "stdout",
     "output_type": "stream",
     "text": [
      "first_party:  Phil A. St. Amant\n",
      "second_party:  Herman A. Thompson\n",
      "facts:  On June 27, 1962, Phil St. Amant, a candidate for public office, made a television speech in Baton Rouge, Louisiana.  During this speech, St. Amant accused his political opponent of being a Communist and of being involved in criminal activities with the head of the local Teamsters Union.  Finally, St. Amant implicated Herman Thompson, an East Baton Rouge deputy sheriff, in a scheme to move money between the Teamsters Union and St. Amant’s political opponent. \n",
      "Thompson successfully sued St. Amant for defamation.  Louisiana’s First Circuit Court of Appeals reversed, holding that Thompson did not show St. Amant acted with “malice.”  Thompson then appealed to the Supreme Court of Louisiana.  That court held that, although public figures forfeit some of their First Amendment protection from defamation, St. Amant accused Thompson of a crime with utter disregard of whether the remarks were true.  Finally, that court held that the First Amendment protects uninhibited, robust debate, rather than an open season to shoot down the good name of anyone who happens to be a public servant. \n",
      "\n"
     ]
    }
   ],
   "source": [
    "idx = 0\n",
    "fp = train_df['first_party'][idx]\n",
    "sp = train_df['second_party'][idx]\n",
    "facts = train_df['facts'][idx]\n",
    "fact_tokens = nlp(facts)\n",
    "\n",
    "print('first_party: ', fp)\n",
    "print('second_party: ', sp)\n",
    "print('facts: ', facts)\n"
   ]
  },
  {
   "cell_type": "code",
   "execution_count": 39,
   "metadata": {},
   "outputs": [],
   "source": [
    "legal_verbs = {'argue': 740,\n",
    "               'violate': 651,\n",
    "               'sue': 526,\n",
    "               'allege': 468,\n",
    "               'convict': 436,\n",
    "               'claim': 393,\n",
    "               'accuse': 391,\n",
    "               'implicate': 387,}"
   ]
  },
  {
   "cell_type": "code",
   "execution_count": 40,
   "metadata": {},
   "outputs": [],
   "source": [
    "def inspect_token(fact_tokens):\n",
    "    fp_name = 'The First Party'\n",
    "    sp_name = 'The Second Party'\n",
    "\n",
    "    fp_name_list = [n.lower() for n in fp.replace(',', '').split() if len(n) > 1]\n",
    "    sp_name_list = [n.lower() for n in sp.replace(',', '').split() if len(n) > 1]\n",
    "\n",
    "    fp_name_list_added = fp_name_list.copy()\n",
    "    sp_name_list_added = sp_name_list.copy()\n",
    "\n",
    "    for n in fp_name_list:\n",
    "        changed_name = re.findall(rf\"{n} ?\\([a-z]+\\)\", fact_tokens.text.lower())\n",
    "        if changed_name:\n",
    "            fp_name_list_added.extend([re.sub(rf'({n}|[ {string.punctuation}])', '', cn) for cn in changed_name])\n",
    "\n",
    "    for n in sp_name_list:\n",
    "        changed_name = re.findall(rf\"{n} ?\\([a-z]+\\)\", fact_tokens.text.lower())\n",
    "        if changed_name:\n",
    "            sp_name_list_added.extend([re.sub(rf'({n}|[ {string.punctuation}])', '', cn) for cn in changed_name])\n",
    "\n",
    "    fp_name_list = fp_name_list_added\n",
    "    sp_name_list = sp_name_list_added\n",
    "\n",
    "    def is_in_namelist(token):\n",
    "        if 'NN' in token.tag_ or 'PROPN' in token.pos_:\n",
    "            if token.text.lower() in fp_name_list:\n",
    "                return fp_name\n",
    "            elif token.text.lower() in sp_name_list:\n",
    "                return sp_name\n",
    "        return token.text\n",
    "\n",
    "    def is_has_legal_verb(token, strong=False):\n",
    "        if 'NN' in token.tag_ or 'PROPN' in token.pos_:\n",
    "            head = token.head\n",
    "            if head.text.lower() in fp_name_list:\n",
    "                if token.pos_ == 'PROPN':\n",
    "                    fp_name_list.append(token.text.lower())\n",
    "                if strong:\n",
    "                    return fp_name\n",
    "            elif head.text.lower() in sp_name_list:\n",
    "                if token.pos_ == 'PROPN':\n",
    "                    sp_name_list.append(token.text.lower())\n",
    "                if strong:\n",
    "                    return sp_name\n",
    "            elif 'VBD' in head.tag_ and head.lemma_ in legal_verbs:\n",
    "                return is_in_namelist(token)\n",
    "        return token.text\n",
    "\n",
    "    before_len_fp = 0\n",
    "    before_len_sp = 0\n",
    "\n",
    "    fact_subj = [token.text for token in fact_tokens]\n",
    "\n",
    "    while before_len_fp != len(fp_name_list) or before_len_sp != len(sp_name_list):\n",
    "        for i, token in enumerate(reversed(fact_tokens)):\n",
    "            party = is_in_namelist(token)\n",
    "            if not party:\n",
    "                party = is_has_legal_verb(token)\n",
    "            fact_subj[len(fact_tokens) - i - 1] = party\n",
    "\n",
    "        before_len_fp = len(fp_name_list)\n",
    "        before_len_sp = len(sp_name_list)\n",
    "\n",
    "\n",
    "    fact_subj = ' '.join(fact_subj)\n",
    "    fact_subj = re.sub(rf'[{string.punctuation}]+', r' ', fact_subj)\n",
    "    fact_subj = re.sub(rf\"[\\d\\s]+\", r' ', fact_subj)\n",
    "    fact_subj = re.sub(rf\"({fp_name} ?)+\", f'{fp_name} ', fact_subj)\n",
    "    fact_subj = re.sub(rf\"({sp_name} ?)+\", f'{sp_name} ', fact_subj)\n",
    "    return fact_subj"
   ]
  },
  {
   "attachments": {},
   "cell_type": "markdown",
   "metadata": {},
   "source": [
    "('file', 895),\n",
    " ('hold', 820),\n",
    " ('argue', 740),\n",
    " ('violate', 651),\n",
    " ('find', 627),\n",
    " ('sue', 526),\n",
    " ('deny', 522),\n",
    " ('allege', 468),\n",
    " ('have', 456),\n",
    " ('convict', 436),\n",
    " ('affirm', 434),\n",
    " ('appeal', 418),\n",
    " ('claim', 393),\n",
    " ('grant', 390),\n",
    " ('seek', 361),\n",
    " ('require', 356),\n",
    " ('rule', 342),\n",
    " ('dismiss', 331),\n",
    " ('reverse', 319),\n",
    " ('make', 293),"
   ]
  },
  {
   "cell_type": "code",
   "execution_count": 41,
   "metadata": {},
   "outputs": [
    {
     "data": {
      "text/plain": [
       "'On June The First Party a candidate for public office made a television speech in Baton Rouge Louisiana During this speech The First Party accused his political opponent of being a Communist and of being involved in criminal activities with the head of the local Teamsters Union Finally The First Party implicated The Second Party an East Baton Rouge deputy sheriff in a scheme to move money between the Teamsters Union and The First Party ’s political opponent The Second Party successfully sued The First Party for defamation Louisiana ’s First Circuit Court of Appeals reversed holding that The Second Party did not show The First Party acted with “ malice ” The Second Party then appealed to the Supreme Court of Louisiana That court held that although public figures forfeit some of their First Amendment protection from defamation The First Party accused The Second Party of a crime with utter disregard of whether the remarks were true Finally that court held that the First Amendment protects uninhibited robust debate rather than an open season to shoot down the good name of anyone who happens to be a public servant '"
      ]
     },
     "execution_count": 41,
     "metadata": {},
     "output_type": "execute_result"
    }
   ],
   "source": [
    "inspect_token(fact_tokens)"
   ]
  },
  {
   "cell_type": "code",
   "execution_count": 42,
   "metadata": {},
   "outputs": [],
   "source": [
    "import re\n",
    "\n",
    "def mask_text(text, words_to_mask):\n",
    "    MASK_TOKEN = '[MASK]'\n",
    "    for phrase in words_to_mask:\n",
    "        # Escape special regex characters\n",
    "        phrase = re.escape(phrase)\n",
    "        text = re.sub(phrase, MASK_TOKEN, text, flags=re.IGNORECASE)\n",
    "    return text"
   ]
  },
  {
   "cell_type": "code",
   "execution_count": 43,
   "metadata": {},
   "outputs": [
    {
     "name": "stdout",
     "output_type": "stream",
     "text": [
      "On June The First Party a candidate for public office made a television speech in Baton Rouge Louisiana During this speech The First Party accused his political opponent of being a Communist and of being involved in criminal activities with the head of the local Teamsters Union Finally The First Party implicated The Second Party an East Baton Rouge deputy sheriff in a scheme to move money between the Teamsters Union and The First Party ’s political opponent The Second Party successfully sued The First Party for defamation Louisiana ’s First Circuit Court of Appeals reversed holding that The Second Party did not show The First Party acted with “ malice ” The Second Party then appealed to the Supreme Court of Louisiana That court held that although public figures forfeit some of their First Amendment protection from defamation The First Party accused The Second Party of a crime with utter disregard of whether the remarks were true Finally that court held that the First Amendment protects uninhibited robust debate rather than an open season to shoot down the good name of anyone who happens to be a public servant \n",
      "On June [MASK] a candidate for public office made a television speech in Baton Rouge Louisiana During this speech [MASK] accused his political opponent of being a Communist and of being involved in criminal activities with the head of the local Teamsters Union Finally [MASK] implicated [MASK] an East Baton Rouge deputy sheriff in a scheme to move money between the Teamsters Union and [MASK] ’s political opponent [MASK] successfully sued [MASK] for defamation Louisiana ’s First Circuit Court of Appeals reversed holding that [MASK] did not show [MASK] acted with “ malice ” [MASK] then appealed to the Supreme Court of Louisiana That court held that although public figures forfeit some of their First Amendment protection from defamation [MASK] accused [MASK] of a crime with utter disregard of whether the remarks were true Finally that court held that the First Amendment protects uninhibited robust debate rather than an open season to shoot down the good name of anyone who happens to be a public servant \n"
     ]
    }
   ],
   "source": [
    "words_to_mask = ['The First Party', 'The Second Party']\n",
    "print(inspect_token(fact_tokens))\n",
    "masked = mask_text(inspect_token(fact_tokens), words_to_mask)\n",
    "print(masked)"
   ]
  },
  {
   "cell_type": "code",
   "execution_count": 44,
   "metadata": {},
   "outputs": [],
   "source": [
    "column_rename = {'first_party': 'fp',\n",
    "                 'second_party': 'sp',\n",
    "                 'first_party_winner': 'label'}\n",
    "\n",
    "train_df.rename(columns=column_rename, inplace=True)\n",
    "test_df.rename(columns=column_rename, inplace=True)"
   ]
  },
  {
   "cell_type": "code",
   "execution_count": 45,
   "metadata": {},
   "outputs": [
    {
     "data": {
      "text/html": [
       "<div>\n",
       "<style scoped>\n",
       "    .dataframe tbody tr th:only-of-type {\n",
       "        vertical-align: middle;\n",
       "    }\n",
       "\n",
       "    .dataframe tbody tr th {\n",
       "        vertical-align: top;\n",
       "    }\n",
       "\n",
       "    .dataframe thead th {\n",
       "        text-align: right;\n",
       "    }\n",
       "</style>\n",
       "<table border=\"1\" class=\"dataframe\">\n",
       "  <thead>\n",
       "    <tr style=\"text-align: right;\">\n",
       "      <th></th>\n",
       "      <th>ID</th>\n",
       "      <th>fp</th>\n",
       "      <th>sp</th>\n",
       "      <th>facts</th>\n",
       "      <th>label</th>\n",
       "    </tr>\n",
       "  </thead>\n",
       "  <tbody>\n",
       "    <tr>\n",
       "      <th>0</th>\n",
       "      <td>TRAIN_0000</td>\n",
       "      <td>Phil A. St. Amant</td>\n",
       "      <td>Herman A. Thompson</td>\n",
       "      <td>On June 27, 1962, Phil St. Amant, a candidate ...</td>\n",
       "      <td>1</td>\n",
       "    </tr>\n",
       "    <tr>\n",
       "      <th>1</th>\n",
       "      <td>TRAIN_0001</td>\n",
       "      <td>Stephen Duncan</td>\n",
       "      <td>Lawrence Owens</td>\n",
       "      <td>Ramon Nelson was riding his bike when he suffe...</td>\n",
       "      <td>0</td>\n",
       "    </tr>\n",
       "    <tr>\n",
       "      <th>2</th>\n",
       "      <td>TRAIN_0002</td>\n",
       "      <td>Billy Joe Magwood</td>\n",
       "      <td>Tony Patterson, Warden, et al.</td>\n",
       "      <td>An Alabama state court convicted Billy Joe Mag...</td>\n",
       "      <td>1</td>\n",
       "    </tr>\n",
       "    <tr>\n",
       "      <th>3</th>\n",
       "      <td>TRAIN_0003</td>\n",
       "      <td>Linkletter</td>\n",
       "      <td>Walker</td>\n",
       "      <td>Victor Linkletter was convicted in state court...</td>\n",
       "      <td>0</td>\n",
       "    </tr>\n",
       "    <tr>\n",
       "      <th>4</th>\n",
       "      <td>TRAIN_0004</td>\n",
       "      <td>William Earl Fikes</td>\n",
       "      <td>Alabama</td>\n",
       "      <td>On April 24, 1953 in Selma, Alabama, an intrud...</td>\n",
       "      <td>1</td>\n",
       "    </tr>\n",
       "    <tr>\n",
       "      <th>...</th>\n",
       "      <td>...</td>\n",
       "      <td>...</td>\n",
       "      <td>...</td>\n",
       "      <td>...</td>\n",
       "      <td>...</td>\n",
       "    </tr>\n",
       "    <tr>\n",
       "      <th>4951</th>\n",
       "      <td>TRAIN_2473</td>\n",
       "      <td>Renewable Fuels Association, et al.</td>\n",
       "      <td>HollyFrontier Cheyenne Refining, LLC, et al.</td>\n",
       "      <td>Congress amended the Clean Air Act through the...</td>\n",
       "      <td>0</td>\n",
       "    </tr>\n",
       "    <tr>\n",
       "      <th>4952</th>\n",
       "      <td>TRAIN_2474</td>\n",
       "      <td>Alliance Bond Fund, Inc.</td>\n",
       "      <td>Grupo Mexicano de Desarrollo, S. A.</td>\n",
       "      <td>Alliance Bond Fund, Inc., an investment fund, ...</td>\n",
       "      <td>0</td>\n",
       "    </tr>\n",
       "    <tr>\n",
       "      <th>4953</th>\n",
       "      <td>TRAIN_2475</td>\n",
       "      <td>United States</td>\n",
       "      <td>Peguero</td>\n",
       "      <td>In 1992, the District Court sentenced Manuel D...</td>\n",
       "      <td>1</td>\n",
       "    </tr>\n",
       "    <tr>\n",
       "      <th>4954</th>\n",
       "      <td>TRAIN_2476</td>\n",
       "      <td>St. Cyr</td>\n",
       "      <td>Immigration and Naturalization Service</td>\n",
       "      <td>On March 8, 1996, Enrico St. Cyr, a lawful per...</td>\n",
       "      <td>1</td>\n",
       "    </tr>\n",
       "    <tr>\n",
       "      <th>4955</th>\n",
       "      <td>TRAIN_2477</td>\n",
       "      <td>Westview Instruments, Inc.</td>\n",
       "      <td>Markman</td>\n",
       "      <td>Herbert Markman owns the patent to a system th...</td>\n",
       "      <td>1</td>\n",
       "    </tr>\n",
       "  </tbody>\n",
       "</table>\n",
       "<p>4956 rows × 5 columns</p>\n",
       "</div>"
      ],
      "text/plain": [
       "              ID                                   fp   \n",
       "0     TRAIN_0000                    Phil A. St. Amant  \\\n",
       "1     TRAIN_0001                       Stephen Duncan   \n",
       "2     TRAIN_0002                    Billy Joe Magwood   \n",
       "3     TRAIN_0003                           Linkletter   \n",
       "4     TRAIN_0004                   William Earl Fikes   \n",
       "...          ...                                  ...   \n",
       "4951  TRAIN_2473  Renewable Fuels Association, et al.   \n",
       "4952  TRAIN_2474             Alliance Bond Fund, Inc.   \n",
       "4953  TRAIN_2475                        United States   \n",
       "4954  TRAIN_2476                              St. Cyr   \n",
       "4955  TRAIN_2477           Westview Instruments, Inc.   \n",
       "\n",
       "                                                sp   \n",
       "0                               Herman A. Thompson  \\\n",
       "1                                   Lawrence Owens   \n",
       "2                   Tony Patterson, Warden, et al.   \n",
       "3                                           Walker   \n",
       "4                                          Alabama   \n",
       "...                                            ...   \n",
       "4951  HollyFrontier Cheyenne Refining, LLC, et al.   \n",
       "4952           Grupo Mexicano de Desarrollo, S. A.   \n",
       "4953                                       Peguero   \n",
       "4954        Immigration and Naturalization Service   \n",
       "4955                                       Markman   \n",
       "\n",
       "                                                  facts  label  \n",
       "0     On June 27, 1962, Phil St. Amant, a candidate ...      1  \n",
       "1     Ramon Nelson was riding his bike when he suffe...      0  \n",
       "2     An Alabama state court convicted Billy Joe Mag...      1  \n",
       "3     Victor Linkletter was convicted in state court...      0  \n",
       "4     On April 24, 1953 in Selma, Alabama, an intrud...      1  \n",
       "...                                                 ...    ...  \n",
       "4951  Congress amended the Clean Air Act through the...      0  \n",
       "4952  Alliance Bond Fund, Inc., an investment fund, ...      0  \n",
       "4953  In 1992, the District Court sentenced Manuel D...      1  \n",
       "4954  On March 8, 1996, Enrico St. Cyr, a lawful per...      1  \n",
       "4955  Herbert Markman owns the patent to a system th...      1  \n",
       "\n",
       "[4956 rows x 5 columns]"
      ]
     },
     "execution_count": 45,
     "metadata": {},
     "output_type": "execute_result"
    }
   ],
   "source": [
    "aug_df = pd.DataFrame({'ID': train_df['ID'],\n",
    "                       'fp': train_df['sp'],\n",
    "                       'sp': train_df['fp'],\n",
    "                       'facts': train_df['facts'],\n",
    "                       'label': 1-train_df['label']})\n",
    "\n",
    "\n",
    "train_df = pd.concat([train_df, aug_df], ignore_index=True)\n",
    "train_df"
   ]
  },
  {
   "cell_type": "code",
   "execution_count": 46,
   "metadata": {},
   "outputs": [],
   "source": [
    "# train_df['fp'] = train_df['fp'].str.lower()\n",
    "# train_df['sp'] = train_df['sp'].str.lower()\n",
    "# train_df['facts'] = train_df['facts'].str.lower()\n",
    "\n",
    "# test_df['fp'] = test_df['fp'].str.lower()\n",
    "# test_df['sp'] = test_df['sp'].str.lower()\n",
    "# test_df['facts'] = test_df['facts'].str.lower()"
   ]
  },
  {
   "cell_type": "code",
   "execution_count": 47,
   "metadata": {},
   "outputs": [
    {
     "data": {
      "text/plain": [
       "This is a test of the tokenize function."
      ]
     },
     "execution_count": 47,
     "metadata": {},
     "output_type": "execute_result"
    }
   ],
   "source": [
    "import spacy\n",
    "\n",
    "nlp = spacy.load(\"en_core_web_sm\")\n",
    "doc = nlp(\"This is a test of the tokenize function.\")\n",
    "doc"
   ]
  },
  {
   "cell_type": "code",
   "execution_count": 48,
   "metadata": {},
   "outputs": [],
   "source": [
    "import string\n",
    "\n",
    "nlp = spacy.load(\"en_core_web_sm\")"
   ]
  },
  {
   "cell_type": "code",
   "execution_count": 49,
   "metadata": {},
   "outputs": [
    {
     "name": "stdout",
     "output_type": "stream",
     "text": [
      "INFO: Pandarallel will run on 64 workers.\n",
      "INFO: Pandarallel will use Memory file system to transfer data between the main process and workers.\n"
     ]
    },
    {
     "data": {
      "application/vnd.jupyter.widget-view+json": {
       "model_id": "1d7899a60a774b58868223a000abe10e",
       "version_major": 2,
       "version_minor": 0
      },
      "text/plain": [
       "VBox(children=(HBox(children=(IntProgress(value=0, description='0.00%', max=78), Label(value='0 / 78'))), HBox…"
      ]
     },
     "metadata": {},
     "output_type": "display_data"
    }
   ],
   "source": [
    "from pandarallel import pandarallel\n",
    "\n",
    "pandarallel.initialize(progress_bar=True)\n",
    "train_df['new_facts'] = train_df.parallel_apply(lambda x: inspect_token(nlp(x['facts'])), axis=1)"
   ]
  },
  {
   "cell_type": "code",
   "execution_count": 34,
   "metadata": {},
   "outputs": [
    {
     "data": {
      "text/html": [
       "<div>\n",
       "<style scoped>\n",
       "    .dataframe tbody tr th:only-of-type {\n",
       "        vertical-align: middle;\n",
       "    }\n",
       "\n",
       "    .dataframe tbody tr th {\n",
       "        vertical-align: top;\n",
       "    }\n",
       "\n",
       "    .dataframe thead th {\n",
       "        text-align: right;\n",
       "    }\n",
       "</style>\n",
       "<table border=\"1\" class=\"dataframe\">\n",
       "  <thead>\n",
       "    <tr style=\"text-align: right;\">\n",
       "      <th></th>\n",
       "      <th>ID</th>\n",
       "      <th>fp</th>\n",
       "      <th>sp</th>\n",
       "      <th>facts</th>\n",
       "      <th>label</th>\n",
       "      <th>new_facts</th>\n",
       "    </tr>\n",
       "  </thead>\n",
       "  <tbody>\n",
       "    <tr>\n",
       "      <th>0</th>\n",
       "      <td>TRAIN_0000</td>\n",
       "      <td>Phil A. St. Amant</td>\n",
       "      <td>Herman A. Thompson</td>\n",
       "      <td>On June 27, 1962, Phil St. Amant, a candidate ...</td>\n",
       "      <td>1</td>\n",
       "      <td>On June The First Party a candidate for public...</td>\n",
       "    </tr>\n",
       "    <tr>\n",
       "      <th>1</th>\n",
       "      <td>TRAIN_0001</td>\n",
       "      <td>Stephen Duncan</td>\n",
       "      <td>Lawrence Owens</td>\n",
       "      <td>Ramon Nelson was riding his bike when he suffe...</td>\n",
       "      <td>0</td>\n",
       "      <td>Ramon Nelson was riding his bike when he suffe...</td>\n",
       "    </tr>\n",
       "    <tr>\n",
       "      <th>2</th>\n",
       "      <td>TRAIN_0002</td>\n",
       "      <td>Billy Joe Magwood</td>\n",
       "      <td>Tony Patterson, Warden, et al.</td>\n",
       "      <td>An Alabama state court convicted Billy Joe Mag...</td>\n",
       "      <td>1</td>\n",
       "      <td>An Alabama state court convicted Billy Joe Mag...</td>\n",
       "    </tr>\n",
       "    <tr>\n",
       "      <th>3</th>\n",
       "      <td>TRAIN_0003</td>\n",
       "      <td>Linkletter</td>\n",
       "      <td>Walker</td>\n",
       "      <td>Victor Linkletter was convicted in state court...</td>\n",
       "      <td>0</td>\n",
       "      <td>Victor Linkletter was convicted in state court...</td>\n",
       "    </tr>\n",
       "    <tr>\n",
       "      <th>4</th>\n",
       "      <td>TRAIN_0004</td>\n",
       "      <td>William Earl Fikes</td>\n",
       "      <td>Alabama</td>\n",
       "      <td>On April 24, 1953 in Selma, Alabama, an intrud...</td>\n",
       "      <td>1</td>\n",
       "      <td>On April in Selma Alabama an intruder broke in...</td>\n",
       "    </tr>\n",
       "    <tr>\n",
       "      <th>...</th>\n",
       "      <td>...</td>\n",
       "      <td>...</td>\n",
       "      <td>...</td>\n",
       "      <td>...</td>\n",
       "      <td>...</td>\n",
       "      <td>...</td>\n",
       "    </tr>\n",
       "    <tr>\n",
       "      <th>4951</th>\n",
       "      <td>TRAIN_2473</td>\n",
       "      <td>Renewable Fuels Association, et al.</td>\n",
       "      <td>HollyFrontier Cheyenne Refining, LLC, et al.</td>\n",
       "      <td>Congress amended the Clean Air Act through the...</td>\n",
       "      <td>0</td>\n",
       "      <td>Congress amended the Clean Air Act through the...</td>\n",
       "    </tr>\n",
       "    <tr>\n",
       "      <th>4952</th>\n",
       "      <td>TRAIN_2474</td>\n",
       "      <td>Alliance Bond Fund, Inc.</td>\n",
       "      <td>Grupo Mexicano de Desarrollo, S. A.</td>\n",
       "      <td>Alliance Bond Fund, Inc., an investment fund, ...</td>\n",
       "      <td>0</td>\n",
       "      <td>Alliance Bond Fund Inc an investment fund purc...</td>\n",
       "    </tr>\n",
       "    <tr>\n",
       "      <th>4953</th>\n",
       "      <td>TRAIN_2475</td>\n",
       "      <td>United States</td>\n",
       "      <td>Peguero</td>\n",
       "      <td>In 1992, the District Court sentenced Manuel D...</td>\n",
       "      <td>1</td>\n",
       "      <td>In the District Court sentenced Manuel D Pegue...</td>\n",
       "    </tr>\n",
       "    <tr>\n",
       "      <th>4954</th>\n",
       "      <td>TRAIN_2476</td>\n",
       "      <td>St. Cyr</td>\n",
       "      <td>Immigration and Naturalization Service</td>\n",
       "      <td>On March 8, 1996, Enrico St. Cyr, a lawful per...</td>\n",
       "      <td>1</td>\n",
       "      <td>On March Enrico The First Party Cyr a lawful p...</td>\n",
       "    </tr>\n",
       "    <tr>\n",
       "      <th>4955</th>\n",
       "      <td>TRAIN_2477</td>\n",
       "      <td>Westview Instruments, Inc.</td>\n",
       "      <td>Markman</td>\n",
       "      <td>Herbert Markman owns the patent to a system th...</td>\n",
       "      <td>1</td>\n",
       "      <td>Herbert Markman owns the patent to a system th...</td>\n",
       "    </tr>\n",
       "  </tbody>\n",
       "</table>\n",
       "<p>4956 rows × 6 columns</p>\n",
       "</div>"
      ],
      "text/plain": [
       "              ID                                   fp   \n",
       "0     TRAIN_0000                    Phil A. St. Amant  \\\n",
       "1     TRAIN_0001                       Stephen Duncan   \n",
       "2     TRAIN_0002                    Billy Joe Magwood   \n",
       "3     TRAIN_0003                           Linkletter   \n",
       "4     TRAIN_0004                   William Earl Fikes   \n",
       "...          ...                                  ...   \n",
       "4951  TRAIN_2473  Renewable Fuels Association, et al.   \n",
       "4952  TRAIN_2474             Alliance Bond Fund, Inc.   \n",
       "4953  TRAIN_2475                        United States   \n",
       "4954  TRAIN_2476                              St. Cyr   \n",
       "4955  TRAIN_2477           Westview Instruments, Inc.   \n",
       "\n",
       "                                                sp   \n",
       "0                               Herman A. Thompson  \\\n",
       "1                                   Lawrence Owens   \n",
       "2                   Tony Patterson, Warden, et al.   \n",
       "3                                           Walker   \n",
       "4                                          Alabama   \n",
       "...                                            ...   \n",
       "4951  HollyFrontier Cheyenne Refining, LLC, et al.   \n",
       "4952           Grupo Mexicano de Desarrollo, S. A.   \n",
       "4953                                       Peguero   \n",
       "4954        Immigration and Naturalization Service   \n",
       "4955                                       Markman   \n",
       "\n",
       "                                                  facts  label   \n",
       "0     On June 27, 1962, Phil St. Amant, a candidate ...      1  \\\n",
       "1     Ramon Nelson was riding his bike when he suffe...      0   \n",
       "2     An Alabama state court convicted Billy Joe Mag...      1   \n",
       "3     Victor Linkletter was convicted in state court...      0   \n",
       "4     On April 24, 1953 in Selma, Alabama, an intrud...      1   \n",
       "...                                                 ...    ...   \n",
       "4951  Congress amended the Clean Air Act through the...      0   \n",
       "4952  Alliance Bond Fund, Inc., an investment fund, ...      0   \n",
       "4953  In 1992, the District Court sentenced Manuel D...      1   \n",
       "4954  On March 8, 1996, Enrico St. Cyr, a lawful per...      1   \n",
       "4955  Herbert Markman owns the patent to a system th...      1   \n",
       "\n",
       "                                              new_facts  \n",
       "0     On June The First Party a candidate for public...  \n",
       "1     Ramon Nelson was riding his bike when he suffe...  \n",
       "2     An Alabama state court convicted Billy Joe Mag...  \n",
       "3     Victor Linkletter was convicted in state court...  \n",
       "4     On April in Selma Alabama an intruder broke in...  \n",
       "...                                                 ...  \n",
       "4951  Congress amended the Clean Air Act through the...  \n",
       "4952  Alliance Bond Fund Inc an investment fund purc...  \n",
       "4953  In the District Court sentenced Manuel D Pegue...  \n",
       "4954  On March Enrico The First Party Cyr a lawful p...  \n",
       "4955  Herbert Markman owns the patent to a system th...  \n",
       "\n",
       "[4956 rows x 6 columns]"
      ]
     },
     "execution_count": 34,
     "metadata": {},
     "output_type": "execute_result"
    }
   ],
   "source": [
    "train_df"
   ]
  },
  {
   "cell_type": "code",
   "execution_count": 50,
   "metadata": {},
   "outputs": [
    {
     "name": "stdout",
     "output_type": "stream",
     "text": [
      "INFO: Pandarallel will run on 64 workers.\n",
      "INFO: Pandarallel will use Memory file system to transfer data between the main process and workers.\n"
     ]
    },
    {
     "data": {
      "application/vnd.jupyter.widget-view+json": {
       "model_id": "7686b735e899438691c33dd635672ea2",
       "version_major": 2,
       "version_minor": 0
      },
      "text/plain": [
       "VBox(children=(HBox(children=(IntProgress(value=0, description='0.00%', max=78), Label(value='0 / 78'))), HBox…"
      ]
     },
     "metadata": {},
     "output_type": "display_data"
    }
   ],
   "source": [
    "pandarallel.initialize(progress_bar=True)\n",
    "train_df['masked_facts'] = train_df['new_facts'].parallel_apply(lambda x: mask_text(x, words_to_mask))"
   ]
  },
  {
   "cell_type": "code",
   "execution_count": 51,
   "metadata": {},
   "outputs": [
    {
     "name": "stdout",
     "output_type": "stream",
     "text": [
      "On June The First Party a candidate for public office made a television speech in Baton Rouge Louisiana During this speech The First Party accused his political opponent of being a Communist and of being involved in criminal activities with the head of the local Teamsters Union Finally The First Party implicated The Second Party an East Baton Rouge deputy sheriff in a scheme to move money between the Teamsters Union and The First Party ’s political opponent The Second Party successfully sued The First Party for defamation Louisiana ’s First Circuit Court of Appeals reversed holding that The Second Party did not show The First Party acted with “ malice ” The Second Party then appealed to the Supreme Court of Louisiana That court held that although public figures forfeit some of their First Amendment protection from defamation The First Party accused The Second Party of a crime with utter disregard of whether the remarks were true Finally that court held that the First Amendment protects uninhibited robust debate rather than an open season to shoot down the good name of anyone who happens to be a public servant \n",
      "On June [MASK] a candidate for public office made a television speech in Baton Rouge Louisiana During this speech [MASK] accused his political opponent of being a Communist and of being involved in criminal activities with the head of the local Teamsters Union Finally [MASK] implicated [MASK] an East Baton Rouge deputy sheriff in a scheme to move money between the Teamsters Union and [MASK] ’s political opponent [MASK] successfully sued [MASK] for defamation Louisiana ’s First Circuit Court of Appeals reversed holding that [MASK] did not show [MASK] acted with “ malice ” [MASK] then appealed to the Supreme Court of Louisiana That court held that although public figures forfeit some of their First Amendment protection from defamation [MASK] accused [MASK] of a crime with utter disregard of whether the remarks were true Finally that court held that the First Amendment protects uninhibited robust debate rather than an open season to shoot down the good name of anyone who happens to be a public servant \n"
     ]
    }
   ],
   "source": [
    "print(train_df['new_facts'][0])\n",
    "print(train_df['masked_facts'][0])"
   ]
  },
  {
   "cell_type": "code",
   "execution_count": 52,
   "metadata": {},
   "outputs": [
    {
     "name": "stdout",
     "output_type": "stream",
     "text": [
      "INFO: Pandarallel will run on 64 workers.\n",
      "INFO: Pandarallel will use Memory file system to transfer data between the main process and workers.\n"
     ]
    },
    {
     "data": {
      "application/vnd.jupyter.widget-view+json": {
       "model_id": "54b4ccfa10b94c27b32f2df0880fc2c8",
       "version_major": 2,
       "version_minor": 0
      },
      "text/plain": [
       "VBox(children=(HBox(children=(IntProgress(value=0, description='0.00%', max=20), Label(value='0 / 20'))), HBox…"
      ]
     },
     "metadata": {},
     "output_type": "display_data"
    }
   ],
   "source": [
    "pandarallel.initialize(progress_bar=True)\n",
    "test_df['new_facts'] = test_df.parallel_apply(lambda x: inspect_token(nlp(x['facts'])), axis=1)"
   ]
  },
  {
   "cell_type": "code",
   "execution_count": 53,
   "metadata": {},
   "outputs": [
    {
     "name": "stdout",
     "output_type": "stream",
     "text": [
      "INFO: Pandarallel will run on 64 workers.\n",
      "INFO: Pandarallel will use Memory file system to transfer data between the main process and workers.\n"
     ]
    },
    {
     "data": {
      "application/vnd.jupyter.widget-view+json": {
       "model_id": "8b03f6ebc76549c9b9a3ead8abb5c489",
       "version_major": 2,
       "version_minor": 0
      },
      "text/plain": [
       "VBox(children=(HBox(children=(IntProgress(value=0, description='0.00%', max=20), Label(value='0 / 20'))), HBox…"
      ]
     },
     "metadata": {},
     "output_type": "display_data"
    }
   ],
   "source": [
    "pandarallel.initialize(progress_bar=True)\n",
    "test_df['masked_facts'] = test_df['new_facts'].parallel_apply(lambda x: mask_text(x, words_to_mask))"
   ]
  },
  {
   "cell_type": "code",
   "execution_count": 57,
   "metadata": {},
   "outputs": [
    {
     "name": "stdout",
     "output_type": "stream",
     "text": [
      "Original text: On June 27, 1962, Phil St. Amant, a candidate for public office, made a television speech in Baton Rouge, Louisiana.  During this speech, St. Amant accused his political opponent of being a Communist and of being involved in criminal activities with the head of the local Teamsters Union.  Finally, St. Amant implicated Herman Thompson, an East Baton Rouge deputy sheriff, in a scheme to move money between the Teamsters Union and St. Amant’s political opponent. \n",
      "Thompson successfully sued St. Amant for defamation.  Louisiana’s First Circuit Court of Appeals reversed, holding that Thompson did not show St. Amant acted with “malice.”  Thompson then appealed to the Supreme Court of Louisiana.  That court held that, although public figures forfeit some of their First Amendment protection from defamation, St. Amant accused Thompson of a crime with utter disregard of whether the remarks were true.  Finally, that court held that the First Amendment protects uninhibited, robust debate, rather than an open season to shoot down the good name of anyone who happens to be a public servant. \n",
      "\n",
      "Party Encoded text: On June The First Party a candidate for public office made a television speech in Baton Rouge Louisiana During this speech The First Party accused his political opponent of being a Communist and of being involved in criminal activities with the head of the local Teamsters Union Finally The First Party implicated The Second Party an East Baton Rouge deputy sheriff in a scheme to move money between the Teamsters Union and The First Party ’s political opponent The Second Party successfully sued The First Party for defamation Louisiana ’s First Circuit Court of Appeals reversed holding that The Second Party did not show The First Party acted with “ malice ” The Second Party then appealed to the Supreme Court of Louisiana That court held that although public figures forfeit some of their First Amendment protection from defamation The First Party accused The Second Party of a crime with utter disregard of whether the remarks were true Finally that court held that the First Amendment protects uninhibited robust debate rather than an open season to shoot down the good name of anyone who happens to be a public servant \n",
      "Masked text: On June [MASK] a candidate for public office made a television speech in Baton Rouge Louisiana During this speech [MASK] accused his political opponent of being a Communist and of being involved in criminal activities with the head of the local Teamsters Union Finally [MASK] implicated [MASK] an East Baton Rouge deputy sheriff in a scheme to move money between the Teamsters Union and [MASK] ’s political opponent [MASK] successfully sued [MASK] for defamation Louisiana ’s First Circuit Court of Appeals reversed holding that [MASK] did not show [MASK] acted with “ malice ” [MASK] then appealed to the Supreme Court of Louisiana That court held that although public figures forfeit some of their First Amendment protection from defamation [MASK] accused [MASK] of a crime with utter disregard of whether the remarks were true Finally that court held that the First Amendment protects uninhibited robust debate rather than an open season to shoot down the good name of anyone who happens to be a public servant \n",
      "Decoded text: [CLS] on june [MASK] a candidate for public office made a television speech in baton rouge louisiana during this speech [MASK] accused his political opponent of being a communist and of being involved in criminal activities with the head of the local teamsters union finally [MASK] implicated [MASK] an east baton rouge deputy sheriff in a scheme to move money between the teamsters union and [MASK] ’ s political opponent [MASK] successfully sued [MASK] for defamation louisiana ’ s first circuit court of appeals reversed holding that [MASK] did not show [MASK] acted with “ malice ” [MASK] then appealed to the supreme court of louisiana that court held that although public figures forfeit some of their first amendment protection from defamation [MASK] accused [MASK] of a crime with utter disregard of whether the remarks were true finally that court held that the first amendment protects uninhibited robust debate rather than an open season to shoot down the good name of anyone who happens to be a public servant [SEP]\n"
     ]
    }
   ],
   "source": [
    "from transformers import BertTokenizer\n",
    "\n",
    "tokenizer = BertTokenizer.from_pretrained('bert-base-uncased')\n",
    "train_df['tokenized_text'] = train_df['masked_facts'].apply(lambda x: tokenizer.encode(x, truncation=True, max_length=512))\n",
    "train_df['decoded_text'] = train_df['tokenized_text'].apply(lambda x: tokenizer.decode(x))\n",
    "\n",
    "# Print the original, masked, and decoded text for the first row\n",
    "print(\"Original text:\", train_df['facts'].iloc[0])\n",
    "print(\"Party Encoded text:\", train_df['new_facts'].iloc[0])\n",
    "print(\"Masked text:\", train_df['masked_facts'].iloc[0])\n",
    "print(\"Decoded text:\", train_df['decoded_text'].iloc[0])"
   ]
  },
  {
   "cell_type": "code",
   "execution_count": 73,
   "metadata": {},
   "outputs": [
    {
     "data": {
      "text/html": [
       "<div>\n",
       "<style scoped>\n",
       "    .dataframe tbody tr th:only-of-type {\n",
       "        vertical-align: middle;\n",
       "    }\n",
       "\n",
       "    .dataframe tbody tr th {\n",
       "        vertical-align: top;\n",
       "    }\n",
       "\n",
       "    .dataframe thead th {\n",
       "        text-align: right;\n",
       "    }\n",
       "</style>\n",
       "<table border=\"1\" class=\"dataframe\">\n",
       "  <thead>\n",
       "    <tr style=\"text-align: right;\">\n",
       "      <th></th>\n",
       "      <th>ID</th>\n",
       "      <th>fp</th>\n",
       "      <th>sp</th>\n",
       "      <th>facts</th>\n",
       "      <th>label</th>\n",
       "      <th>new_facts</th>\n",
       "      <th>masked_facts</th>\n",
       "      <th>tokenized_text</th>\n",
       "      <th>decoded_text</th>\n",
       "    </tr>\n",
       "  </thead>\n",
       "  <tbody>\n",
       "    <tr>\n",
       "      <th>0</th>\n",
       "      <td>TRAIN_0000</td>\n",
       "      <td>Phil A. St. Amant</td>\n",
       "      <td>Herman A. Thompson</td>\n",
       "      <td>On June 27, 1962, Phil St. Amant, a candidate ...</td>\n",
       "      <td>1</td>\n",
       "      <td>On June The First Party a candidate for public...</td>\n",
       "      <td>On June [MASK] a candidate for public office m...</td>\n",
       "      <td>[101, 2006, 2238, 103, 1037, 4018, 2005, 2270,...</td>\n",
       "      <td>[CLS] on june [MASK] a candidate for public of...</td>\n",
       "    </tr>\n",
       "    <tr>\n",
       "      <th>1</th>\n",
       "      <td>TRAIN_0001</td>\n",
       "      <td>Stephen Duncan</td>\n",
       "      <td>Lawrence Owens</td>\n",
       "      <td>Ramon Nelson was riding his bike when he suffe...</td>\n",
       "      <td>0</td>\n",
       "      <td>Ramon Nelson was riding his bike when he suffe...</td>\n",
       "      <td>Ramon Nelson was riding his bike when he suffe...</td>\n",
       "      <td>[101, 12716, 5912, 2001, 5559, 2010, 7997, 204...</td>\n",
       "      <td>[CLS] ramon nelson was riding his bike when he...</td>\n",
       "    </tr>\n",
       "    <tr>\n",
       "      <th>2</th>\n",
       "      <td>TRAIN_0002</td>\n",
       "      <td>Billy Joe Magwood</td>\n",
       "      <td>Tony Patterson, Warden, et al.</td>\n",
       "      <td>An Alabama state court convicted Billy Joe Mag...</td>\n",
       "      <td>1</td>\n",
       "      <td>An Alabama state court convicted Billy Joe Mag...</td>\n",
       "      <td>An Alabama state court convicted Billy Joe Mag...</td>\n",
       "      <td>[101, 2019, 6041, 2110, 2457, 7979, 5006, 3533...</td>\n",
       "      <td>[CLS] an alabama state court convicted billy j...</td>\n",
       "    </tr>\n",
       "    <tr>\n",
       "      <th>3</th>\n",
       "      <td>TRAIN_0003</td>\n",
       "      <td>Linkletter</td>\n",
       "      <td>Walker</td>\n",
       "      <td>Victor Linkletter was convicted in state court...</td>\n",
       "      <td>0</td>\n",
       "      <td>Victor Linkletter was convicted in state court...</td>\n",
       "      <td>Victor Linkletter was convicted in state court...</td>\n",
       "      <td>[101, 5125, 4957, 27901, 2099, 2001, 7979, 199...</td>\n",
       "      <td>[CLS] victor linkletter was convicted in state...</td>\n",
       "    </tr>\n",
       "    <tr>\n",
       "      <th>4</th>\n",
       "      <td>TRAIN_0004</td>\n",
       "      <td>William Earl Fikes</td>\n",
       "      <td>Alabama</td>\n",
       "      <td>On April 24, 1953 in Selma, Alabama, an intrud...</td>\n",
       "      <td>1</td>\n",
       "      <td>On April in Selma Alabama an intruder broke in...</td>\n",
       "      <td>On April in Selma Alabama an intruder broke in...</td>\n",
       "      <td>[101, 2006, 2258, 1999, 28112, 6041, 2019, 228...</td>\n",
       "      <td>[CLS] on april in selma alabama an intruder br...</td>\n",
       "    </tr>\n",
       "    <tr>\n",
       "      <th>...</th>\n",
       "      <td>...</td>\n",
       "      <td>...</td>\n",
       "      <td>...</td>\n",
       "      <td>...</td>\n",
       "      <td>...</td>\n",
       "      <td>...</td>\n",
       "      <td>...</td>\n",
       "      <td>...</td>\n",
       "      <td>...</td>\n",
       "    </tr>\n",
       "    <tr>\n",
       "      <th>4951</th>\n",
       "      <td>TRAIN_2473</td>\n",
       "      <td>Renewable Fuels Association, et al.</td>\n",
       "      <td>HollyFrontier Cheyenne Refining, LLC, et al.</td>\n",
       "      <td>Congress amended the Clean Air Act through the...</td>\n",
       "      <td>0</td>\n",
       "      <td>Congress amended the Clean Air Act through the...</td>\n",
       "      <td>Congress amended the Clean Air Act through the...</td>\n",
       "      <td>[101, 3519, 13266, 1996, 4550, 2250, 2552, 208...</td>\n",
       "      <td>[CLS] congress amended the clean air act throu...</td>\n",
       "    </tr>\n",
       "    <tr>\n",
       "      <th>4952</th>\n",
       "      <td>TRAIN_2474</td>\n",
       "      <td>Alliance Bond Fund, Inc.</td>\n",
       "      <td>Grupo Mexicano de Desarrollo, S. A.</td>\n",
       "      <td>Alliance Bond Fund, Inc., an investment fund, ...</td>\n",
       "      <td>0</td>\n",
       "      <td>Alliance Bond Fund Inc an investment fund purc...</td>\n",
       "      <td>Alliance Bond Fund Inc an investment fund purc...</td>\n",
       "      <td>[101, 4707, 5416, 4636, 4297, 2019, 5211, 4636...</td>\n",
       "      <td>[CLS] alliance bond fund inc an investment fun...</td>\n",
       "    </tr>\n",
       "    <tr>\n",
       "      <th>4953</th>\n",
       "      <td>TRAIN_2475</td>\n",
       "      <td>United States</td>\n",
       "      <td>Peguero</td>\n",
       "      <td>In 1992, the District Court sentenced Manuel D...</td>\n",
       "      <td>1</td>\n",
       "      <td>In the District Court sentenced Manuel D Pegue...</td>\n",
       "      <td>In the District Court sentenced Manuel D Pegue...</td>\n",
       "      <td>[101, 1999, 1996, 2212, 2457, 7331, 7762, 1040...</td>\n",
       "      <td>[CLS] in the district court sentenced manuel d...</td>\n",
       "    </tr>\n",
       "    <tr>\n",
       "      <th>4954</th>\n",
       "      <td>TRAIN_2476</td>\n",
       "      <td>St. Cyr</td>\n",
       "      <td>Immigration and Naturalization Service</td>\n",
       "      <td>On March 8, 1996, Enrico St. Cyr, a lawful per...</td>\n",
       "      <td>1</td>\n",
       "      <td>On March Enrico The First Party Cyr a lawful p...</td>\n",
       "      <td>On March Enrico [MASK] Cyr a lawful permanent ...</td>\n",
       "      <td>[101, 2006, 2233, 21982, 103, 22330, 2099, 103...</td>\n",
       "      <td>[CLS] on march enrico [MASK] cyr a lawful perm...</td>\n",
       "    </tr>\n",
       "    <tr>\n",
       "      <th>4955</th>\n",
       "      <td>TRAIN_2477</td>\n",
       "      <td>Westview Instruments, Inc.</td>\n",
       "      <td>Markman</td>\n",
       "      <td>Herbert Markman owns the patent to a system th...</td>\n",
       "      <td>1</td>\n",
       "      <td>Herbert Markman owns the patent to a system th...</td>\n",
       "      <td>Herbert Markman owns the patent to a system th...</td>\n",
       "      <td>[101, 7253, 2928, 2386, 8617, 1996, 7353, 2000...</td>\n",
       "      <td>[CLS] herbert markman owns the patent to a sys...</td>\n",
       "    </tr>\n",
       "  </tbody>\n",
       "</table>\n",
       "<p>4950 rows × 9 columns</p>\n",
       "</div>"
      ],
      "text/plain": [
       "              ID                                   fp   \n",
       "0     TRAIN_0000                    Phil A. St. Amant  \\\n",
       "1     TRAIN_0001                       Stephen Duncan   \n",
       "2     TRAIN_0002                    Billy Joe Magwood   \n",
       "3     TRAIN_0003                           Linkletter   \n",
       "4     TRAIN_0004                   William Earl Fikes   \n",
       "...          ...                                  ...   \n",
       "4951  TRAIN_2473  Renewable Fuels Association, et al.   \n",
       "4952  TRAIN_2474             Alliance Bond Fund, Inc.   \n",
       "4953  TRAIN_2475                        United States   \n",
       "4954  TRAIN_2476                              St. Cyr   \n",
       "4955  TRAIN_2477           Westview Instruments, Inc.   \n",
       "\n",
       "                                                sp   \n",
       "0                               Herman A. Thompson  \\\n",
       "1                                   Lawrence Owens   \n",
       "2                   Tony Patterson, Warden, et al.   \n",
       "3                                           Walker   \n",
       "4                                          Alabama   \n",
       "...                                            ...   \n",
       "4951  HollyFrontier Cheyenne Refining, LLC, et al.   \n",
       "4952           Grupo Mexicano de Desarrollo, S. A.   \n",
       "4953                                       Peguero   \n",
       "4954        Immigration and Naturalization Service   \n",
       "4955                                       Markman   \n",
       "\n",
       "                                                  facts  label   \n",
       "0     On June 27, 1962, Phil St. Amant, a candidate ...      1  \\\n",
       "1     Ramon Nelson was riding his bike when he suffe...      0   \n",
       "2     An Alabama state court convicted Billy Joe Mag...      1   \n",
       "3     Victor Linkletter was convicted in state court...      0   \n",
       "4     On April 24, 1953 in Selma, Alabama, an intrud...      1   \n",
       "...                                                 ...    ...   \n",
       "4951  Congress amended the Clean Air Act through the...      0   \n",
       "4952  Alliance Bond Fund, Inc., an investment fund, ...      0   \n",
       "4953  In 1992, the District Court sentenced Manuel D...      1   \n",
       "4954  On March 8, 1996, Enrico St. Cyr, a lawful per...      1   \n",
       "4955  Herbert Markman owns the patent to a system th...      1   \n",
       "\n",
       "                                              new_facts   \n",
       "0     On June The First Party a candidate for public...  \\\n",
       "1     Ramon Nelson was riding his bike when he suffe...   \n",
       "2     An Alabama state court convicted Billy Joe Mag...   \n",
       "3     Victor Linkletter was convicted in state court...   \n",
       "4     On April in Selma Alabama an intruder broke in...   \n",
       "...                                                 ...   \n",
       "4951  Congress amended the Clean Air Act through the...   \n",
       "4952  Alliance Bond Fund Inc an investment fund purc...   \n",
       "4953  In the District Court sentenced Manuel D Pegue...   \n",
       "4954  On March Enrico The First Party Cyr a lawful p...   \n",
       "4955  Herbert Markman owns the patent to a system th...   \n",
       "\n",
       "                                           masked_facts   \n",
       "0     On June [MASK] a candidate for public office m...  \\\n",
       "1     Ramon Nelson was riding his bike when he suffe...   \n",
       "2     An Alabama state court convicted Billy Joe Mag...   \n",
       "3     Victor Linkletter was convicted in state court...   \n",
       "4     On April in Selma Alabama an intruder broke in...   \n",
       "...                                                 ...   \n",
       "4951  Congress amended the Clean Air Act through the...   \n",
       "4952  Alliance Bond Fund Inc an investment fund purc...   \n",
       "4953  In the District Court sentenced Manuel D Pegue...   \n",
       "4954  On March Enrico [MASK] Cyr a lawful permanent ...   \n",
       "4955  Herbert Markman owns the patent to a system th...   \n",
       "\n",
       "                                         tokenized_text   \n",
       "0     [101, 2006, 2238, 103, 1037, 4018, 2005, 2270,...  \\\n",
       "1     [101, 12716, 5912, 2001, 5559, 2010, 7997, 204...   \n",
       "2     [101, 2019, 6041, 2110, 2457, 7979, 5006, 3533...   \n",
       "3     [101, 5125, 4957, 27901, 2099, 2001, 7979, 199...   \n",
       "4     [101, 2006, 2258, 1999, 28112, 6041, 2019, 228...   \n",
       "...                                                 ...   \n",
       "4951  [101, 3519, 13266, 1996, 4550, 2250, 2552, 208...   \n",
       "4952  [101, 4707, 5416, 4636, 4297, 2019, 5211, 4636...   \n",
       "4953  [101, 1999, 1996, 2212, 2457, 7331, 7762, 1040...   \n",
       "4954  [101, 2006, 2233, 21982, 103, 22330, 2099, 103...   \n",
       "4955  [101, 7253, 2928, 2386, 8617, 1996, 7353, 2000...   \n",
       "\n",
       "                                           decoded_text  \n",
       "0     [CLS] on june [MASK] a candidate for public of...  \n",
       "1     [CLS] ramon nelson was riding his bike when he...  \n",
       "2     [CLS] an alabama state court convicted billy j...  \n",
       "3     [CLS] victor linkletter was convicted in state...  \n",
       "4     [CLS] on april in selma alabama an intruder br...  \n",
       "...                                                 ...  \n",
       "4951  [CLS] congress amended the clean air act throu...  \n",
       "4952  [CLS] alliance bond fund inc an investment fun...  \n",
       "4953  [CLS] in the district court sentenced manuel d...  \n",
       "4954  [CLS] on march enrico [MASK] cyr a lawful perm...  \n",
       "4955  [CLS] herbert markman owns the patent to a sys...  \n",
       "\n",
       "[4950 rows x 9 columns]"
      ]
     },
     "execution_count": 73,
     "metadata": {},
     "output_type": "execute_result"
    }
   ],
   "source": [
    "train_df"
   ]
  },
  {
   "cell_type": "code",
   "execution_count": 74,
   "metadata": {},
   "outputs": [
    {
     "data": {
      "text/plain": [
       "count    4950.000000\n",
       "mean      174.109899\n",
       "std        82.001006\n",
       "min        14.000000\n",
       "25%       120.000000\n",
       "50%       164.000000\n",
       "75%       218.000000\n",
       "max       932.000000\n",
       "Name: facts, dtype: float64"
      ]
     },
     "execution_count": 74,
     "metadata": {},
     "output_type": "execute_result"
    }
   ],
   "source": [
    "train_df['facts'].apply(lambda x: len(x.split())).describe()"
   ]
  },
  {
   "cell_type": "code",
   "execution_count": 75,
   "metadata": {},
   "outputs": [],
   "source": [
    "train_df = train_df[train_df['facts'].apply(lambda x: len(x.split())) >= 14]"
   ]
  },
  {
   "cell_type": "code",
   "execution_count": 114,
   "metadata": {},
   "outputs": [],
   "source": [
    "from sklearn.model_selection import train_test_split\n",
    "\n",
    "X_train, X_val, y_train, y_val = train_test_split(train_df['masked_facts'], train_df['label'], test_size=0.2, random_state=42, stratify=train_df['label'])"
   ]
  },
  {
   "cell_type": "code",
   "execution_count": 115,
   "metadata": {},
   "outputs": [],
   "source": [
    "from sklearn.decomposition import TruncatedSVD\n",
    "from sklearn.feature_extraction.text import TfidfVectorizer\n",
    "\n",
    "vectorizer = TfidfVectorizer(ngram_range=(1, 3), max_features=300)\n",
    "X_train_vec = vectorizer.fit_transform(X_train)\n",
    "X_val_vec = vectorizer.transform(X_val)"
   ]
  },
  {
   "cell_type": "code",
   "execution_count": 116,
   "metadata": {},
   "outputs": [],
   "source": [
    "svd = TruncatedSVD(n_components=150, random_state=42)\n",
    "X_train_vec = svd.fit_transform(X_train_vec)\n",
    "X_val_vec = svd.transform(X_val_vec)"
   ]
  },
  {
   "cell_type": "code",
   "execution_count": 117,
   "metadata": {},
   "outputs": [
    {
     "data": {
      "text/html": [
       "<style>#sk-container-id-5 {color: black;background-color: white;}#sk-container-id-5 pre{padding: 0;}#sk-container-id-5 div.sk-toggleable {background-color: white;}#sk-container-id-5 label.sk-toggleable__label {cursor: pointer;display: block;width: 100%;margin-bottom: 0;padding: 0.3em;box-sizing: border-box;text-align: center;}#sk-container-id-5 label.sk-toggleable__label-arrow:before {content: \"▸\";float: left;margin-right: 0.25em;color: #696969;}#sk-container-id-5 label.sk-toggleable__label-arrow:hover:before {color: black;}#sk-container-id-5 div.sk-estimator:hover label.sk-toggleable__label-arrow:before {color: black;}#sk-container-id-5 div.sk-toggleable__content {max-height: 0;max-width: 0;overflow: hidden;text-align: left;background-color: #f0f8ff;}#sk-container-id-5 div.sk-toggleable__content pre {margin: 0.2em;color: black;border-radius: 0.25em;background-color: #f0f8ff;}#sk-container-id-5 input.sk-toggleable__control:checked~div.sk-toggleable__content {max-height: 200px;max-width: 100%;overflow: auto;}#sk-container-id-5 input.sk-toggleable__control:checked~label.sk-toggleable__label-arrow:before {content: \"▾\";}#sk-container-id-5 div.sk-estimator input.sk-toggleable__control:checked~label.sk-toggleable__label {background-color: #d4ebff;}#sk-container-id-5 div.sk-label input.sk-toggleable__control:checked~label.sk-toggleable__label {background-color: #d4ebff;}#sk-container-id-5 input.sk-hidden--visually {border: 0;clip: rect(1px 1px 1px 1px);clip: rect(1px, 1px, 1px, 1px);height: 1px;margin: -1px;overflow: hidden;padding: 0;position: absolute;width: 1px;}#sk-container-id-5 div.sk-estimator {font-family: monospace;background-color: #f0f8ff;border: 1px dotted black;border-radius: 0.25em;box-sizing: border-box;margin-bottom: 0.5em;}#sk-container-id-5 div.sk-estimator:hover {background-color: #d4ebff;}#sk-container-id-5 div.sk-parallel-item::after {content: \"\";width: 100%;border-bottom: 1px solid gray;flex-grow: 1;}#sk-container-id-5 div.sk-label:hover label.sk-toggleable__label {background-color: #d4ebff;}#sk-container-id-5 div.sk-serial::before {content: \"\";position: absolute;border-left: 1px solid gray;box-sizing: border-box;top: 0;bottom: 0;left: 50%;z-index: 0;}#sk-container-id-5 div.sk-serial {display: flex;flex-direction: column;align-items: center;background-color: white;padding-right: 0.2em;padding-left: 0.2em;position: relative;}#sk-container-id-5 div.sk-item {position: relative;z-index: 1;}#sk-container-id-5 div.sk-parallel {display: flex;align-items: stretch;justify-content: center;background-color: white;position: relative;}#sk-container-id-5 div.sk-item::before, #sk-container-id-5 div.sk-parallel-item::before {content: \"\";position: absolute;border-left: 1px solid gray;box-sizing: border-box;top: 0;bottom: 0;left: 50%;z-index: -1;}#sk-container-id-5 div.sk-parallel-item {display: flex;flex-direction: column;z-index: 1;position: relative;background-color: white;}#sk-container-id-5 div.sk-parallel-item:first-child::after {align-self: flex-end;width: 50%;}#sk-container-id-5 div.sk-parallel-item:last-child::after {align-self: flex-start;width: 50%;}#sk-container-id-5 div.sk-parallel-item:only-child::after {width: 0;}#sk-container-id-5 div.sk-dashed-wrapped {border: 1px dashed gray;margin: 0 0.4em 0.5em 0.4em;box-sizing: border-box;padding-bottom: 0.4em;background-color: white;}#sk-container-id-5 div.sk-label label {font-family: monospace;font-weight: bold;display: inline-block;line-height: 1.2em;}#sk-container-id-5 div.sk-label-container {text-align: center;}#sk-container-id-5 div.sk-container {/* jupyter's `normalize.less` sets `[hidden] { display: none; }` but bootstrap.min.css set `[hidden] { display: none !important; }` so we also need the `!important` here to be able to override the default hidden behavior on the sphinx rendered scikit-learn.org. See: https://github.com/scikit-learn/scikit-learn/issues/21755 */display: inline-block !important;position: relative;}#sk-container-id-5 div.sk-text-repr-fallback {display: none;}</style><div id=\"sk-container-id-5\" class=\"sk-top-container\"><div class=\"sk-text-repr-fallback\"><pre>SVC(C=1, probability=True)</pre><b>In a Jupyter environment, please rerun this cell to show the HTML representation or trust the notebook. <br />On GitHub, the HTML representation is unable to render, please try loading this page with nbviewer.org.</b></div><div class=\"sk-container\" hidden><div class=\"sk-item\"><div class=\"sk-estimator sk-toggleable\"><input class=\"sk-toggleable__control sk-hidden--visually\" id=\"sk-estimator-id-5\" type=\"checkbox\" checked><label for=\"sk-estimator-id-5\" class=\"sk-toggleable__label sk-toggleable__label-arrow\">SVC</label><div class=\"sk-toggleable__content\"><pre>SVC(C=1, probability=True)</pre></div></div></div></div></div>"
      ],
      "text/plain": [
       "SVC(C=1, probability=True)"
      ]
     },
     "execution_count": 117,
     "metadata": {},
     "output_type": "execute_result"
    }
   ],
   "source": [
    "from sklearn.svm import SVC\n",
    "\n",
    "clf = SVC(C=1, kernel='rbf', gamma='scale', probability=True)\n",
    "clf.fit(X_train_vec, y_train)"
   ]
  },
  {
   "cell_type": "code",
   "execution_count": 118,
   "metadata": {},
   "outputs": [
    {
     "name": "stdout",
     "output_type": "stream",
     "text": [
      "0.7535353535353535\n"
     ]
    }
   ],
   "source": [
    "from sklearn.metrics import roc_auc_score, accuracy_score\n",
    "\n",
    "y_pred = clf.predict_proba(X_val_vec).argmax(axis=1)\n",
    "print(roc_auc_score(y_val, y_pred))"
   ]
  },
  {
   "cell_type": "code",
   "execution_count": 119,
   "metadata": {},
   "outputs": [
    {
     "name": "stdout",
     "output_type": "stream",
     "text": [
      "0.7535353535353535\n"
     ]
    }
   ],
   "source": [
    "print(accuracy_score(y_val, y_pred))"
   ]
  },
  {
   "cell_type": "code",
   "execution_count": 120,
   "metadata": {},
   "outputs": [
    {
     "data": {
      "text/plain": [
       "array([0, 0, 1, 0, 1, 1, 1, 0, 1, 0, 1, 0, 0, 1, 0, 1, 1, 0, 0, 1, 1, 0,\n",
       "       0, 0, 1, 1, 0, 0, 1, 0, 0, 0, 0, 0, 0, 1, 1, 1, 0, 0, 0, 1, 1, 0,\n",
       "       0, 1, 1, 0, 1, 0, 1, 1, 1, 0, 0, 0, 1, 0, 0, 1, 0, 1, 0, 0, 0, 0,\n",
       "       0, 0, 0, 1, 0, 0, 0, 0, 0, 0, 0, 0, 1, 1, 1, 1, 1, 0, 1, 0, 1, 1,\n",
       "       1, 0, 1, 1, 1, 1, 0, 0, 0, 1, 1, 0, 0, 0, 0, 0, 1, 1, 1, 0, 0, 1,\n",
       "       1, 1, 0, 0, 0, 1, 0, 1, 0, 0, 0, 0, 1, 1, 1, 1, 0, 0, 1, 1, 0, 0,\n",
       "       0, 1, 1, 1, 0, 1, 1, 1, 0, 0, 0, 0, 1, 0, 0, 0, 0, 0, 0, 0, 0, 1,\n",
       "       1, 0, 0, 0, 1, 0, 0, 1, 1, 0, 0, 0, 0, 1, 1, 1, 1, 0, 0, 1, 0, 1,\n",
       "       0, 1, 0, 0, 0, 1, 0, 0, 0, 0, 1, 1, 1, 1, 0, 1, 0, 1, 1, 0, 0, 0,\n",
       "       1, 0, 0, 0, 0, 1, 1, 0, 1, 0, 1, 1, 0, 0, 1, 1, 0, 1, 1, 1, 0, 0,\n",
       "       0, 1, 1, 0, 1, 1, 1, 1, 0, 1, 0, 0, 0, 0, 0, 0, 1, 0, 1, 1, 0, 0,\n",
       "       0, 0, 0, 1, 0, 0, 0, 0, 0, 0, 1, 1, 1, 1, 1, 0, 1, 0, 0, 1, 0, 0,\n",
       "       0, 0, 1, 1, 0, 1, 1, 0, 0, 1, 1, 1, 0, 0, 1, 1, 1, 1, 1, 1, 0, 1,\n",
       "       0, 1, 1, 1, 1, 0, 1, 0, 1, 0, 1, 0, 1, 1, 0, 0, 1, 0, 0, 0, 1, 0,\n",
       "       1, 0, 0, 1, 0, 1, 1, 0, 0, 1, 0, 1, 0, 0, 0, 0, 1, 0, 1, 0, 1, 0,\n",
       "       1, 0, 1, 1, 1, 0, 1, 0, 1, 0, 1, 0, 1, 0, 0, 0, 0, 1, 1, 1, 0, 1,\n",
       "       0, 0, 1, 1, 1, 1, 0, 1, 1, 1, 0, 1, 1, 1, 0, 0, 1, 0, 0, 1, 1, 0,\n",
       "       0, 1, 0, 0, 1, 0, 0, 0, 0, 0, 0, 0, 1, 0, 1, 0, 1, 0, 1, 0, 1, 0,\n",
       "       0, 1, 1, 0, 1, 1, 1, 0, 0, 0, 1, 1, 1, 1, 0, 1, 0, 1, 0, 1, 1, 0,\n",
       "       0, 0, 0, 1, 1, 0, 0, 0, 0, 0, 0, 0, 0, 0, 1, 1, 1, 1, 0, 0, 1, 1,\n",
       "       1, 1, 0, 0, 0, 0, 1, 0, 0, 0, 1, 1, 0, 1, 1, 1, 1, 0, 0, 1, 0, 1,\n",
       "       1, 0, 1, 1, 0, 1, 1, 0, 1, 1, 1, 1, 1, 0, 0, 0, 0, 1, 0, 0, 1, 1,\n",
       "       1, 1, 1, 0, 0, 1, 0, 1, 1, 0, 0, 0, 1, 1, 1, 1, 0, 1, 0, 1, 0, 0,\n",
       "       1, 1, 1, 1, 1, 1, 1, 1, 1, 1, 1, 1, 1, 0, 1, 0, 0, 1, 1, 0, 0, 0,\n",
       "       1, 1, 0, 0, 0, 1, 0, 0, 1, 1, 0, 1, 0, 0, 1, 1, 1, 0, 1, 0, 0, 0,\n",
       "       0, 0, 0, 0, 1, 0, 1, 0, 0, 0, 0, 0, 0, 0, 0, 0, 1, 0, 0, 0, 0, 1,\n",
       "       0, 0, 0, 0, 1, 1, 1, 1, 0, 1, 1, 1, 1, 0, 1, 0, 0, 0, 1, 1, 0, 0,\n",
       "       1, 0, 1, 1, 1, 0, 0, 1, 1, 1, 1, 0, 1, 1, 1, 0, 1, 0, 1, 0, 0, 0,\n",
       "       1, 0, 0, 0, 1, 0, 1, 0, 1, 0, 1, 0, 0, 1, 1, 1, 1, 0, 1, 1, 0, 1,\n",
       "       0, 1, 0, 1, 1, 1, 0, 1, 0, 0, 0, 1, 0, 1, 1, 0, 1, 1, 1, 0, 0, 1,\n",
       "       0, 0, 1, 0, 0, 1, 1, 1, 0, 0, 0, 0, 0, 0, 1, 1, 0, 1, 1, 0, 0, 1,\n",
       "       0, 1, 1, 1, 1, 0, 0, 0, 0, 1, 0, 1, 0, 1, 0, 0, 1, 0, 0, 0, 0, 0,\n",
       "       0, 0, 0, 1, 0, 0, 1, 1, 1, 0, 1, 0, 1, 0, 0, 0, 0, 1, 0, 0, 0, 0,\n",
       "       1, 0, 1, 0, 0, 0, 0, 1, 0, 1, 0, 1, 0, 1, 1, 1, 1, 0, 1, 1, 1, 1,\n",
       "       1, 1, 1, 1, 1, 0, 1, 1, 0, 0, 1, 0, 1, 1, 0, 1, 0, 1, 0, 1, 1, 0,\n",
       "       1, 0, 1, 0, 1, 0, 1, 1, 1, 0, 0, 1, 1, 0, 0, 1, 1, 1, 1, 1, 1, 0,\n",
       "       1, 0, 0, 1, 1, 1, 1, 1, 0, 0, 0, 0, 1, 1, 0, 1, 0, 0, 1, 1, 1, 1,\n",
       "       0, 1, 1, 1, 0, 0, 0, 1, 1, 1, 0, 0, 1, 0, 1, 0, 0, 0, 0, 1, 1, 0,\n",
       "       0, 1, 0, 0, 1, 1, 0, 0, 0, 1, 0, 1, 0, 0, 1, 1, 0, 1, 0, 1, 1, 0,\n",
       "       0, 1, 0, 0, 1, 0, 0, 1, 0, 1, 0, 1, 0, 1, 0, 0, 0, 1, 1, 1, 1, 0,\n",
       "       0, 1, 0, 1, 1, 1, 0, 1, 0, 1, 1, 1, 1, 0, 1, 0, 0, 1, 1, 1, 1, 0,\n",
       "       1, 1, 1, 1, 0, 1, 0, 0, 1, 1, 0, 1, 1, 1, 1, 1, 0, 1, 0, 0, 1, 1,\n",
       "       1, 0, 1, 1, 0, 1, 0, 0, 0, 0, 1, 0, 0, 0, 0, 1, 0, 1, 1, 1, 0, 1,\n",
       "       0, 0, 1, 1, 1, 0, 0, 0, 0, 0, 0, 0, 1, 1, 1, 0, 1, 0, 1, 0, 1, 0,\n",
       "       0, 0, 0, 1, 1, 0, 0, 0, 1, 1, 0, 1, 1, 0, 1, 1, 0, 1, 1, 0, 0, 0])"
      ]
     },
     "execution_count": 120,
     "metadata": {},
     "output_type": "execute_result"
    }
   ],
   "source": [
    "y_pred = clf.predict_proba(X_val_vec).argmax(axis=1)\n",
    "y_pred"
   ]
  },
  {
   "cell_type": "code",
   "execution_count": 121,
   "metadata": {},
   "outputs": [
    {
     "data": {
      "text/plain": [
       "0.7535353535353535"
      ]
     },
     "execution_count": 121,
     "metadata": {},
     "output_type": "execute_result"
    }
   ],
   "source": [
    "accuracy_score(y_val, y_pred)"
   ]
  },
  {
   "cell_type": "code",
   "execution_count": 122,
   "metadata": {},
   "outputs": [],
   "source": [
    "X_test_vec = vectorizer.transform(test_df['masked_facts'])\n",
    "X_test_vec = svd.transform(X_test_vec.toarray())"
   ]
  },
  {
   "cell_type": "code",
   "execution_count": 123,
   "metadata": {},
   "outputs": [
    {
     "data": {
      "text/plain": [
       "array([0, 1, 1, ..., 0, 1, 0])"
      ]
     },
     "execution_count": 123,
     "metadata": {},
     "output_type": "execute_result"
    }
   ],
   "source": [
    "y_pred = clf.predict_proba(X_test_vec).argmax(axis=1)\n",
    "y_pred\n"
   ]
  },
  {
   "cell_type": "code",
   "execution_count": 125,
   "metadata": {},
   "outputs": [
    {
     "data": {
      "text/plain": [
       "0.482258064516129"
      ]
     },
     "execution_count": 125,
     "metadata": {},
     "output_type": "execute_result"
    }
   ],
   "source": [
    "y_pred.mean()"
   ]
  },
  {
   "cell_type": "code",
   "execution_count": 126,
   "metadata": {},
   "outputs": [],
   "source": [
    "submission = pd.DataFrame({'ID': test_df['ID'], 'first_party_winner': y_pred})"
   ]
  },
  {
   "cell_type": "code",
   "execution_count": 29,
   "metadata": {},
   "outputs": [
    {
     "data": {
      "text/html": [
       "<div>\n",
       "<style scoped>\n",
       "    .dataframe tbody tr th:only-of-type {\n",
       "        vertical-align: middle;\n",
       "    }\n",
       "\n",
       "    .dataframe tbody tr th {\n",
       "        vertical-align: top;\n",
       "    }\n",
       "\n",
       "    .dataframe thead th {\n",
       "        text-align: right;\n",
       "    }\n",
       "</style>\n",
       "<table border=\"1\" class=\"dataframe\">\n",
       "  <thead>\n",
       "    <tr style=\"text-align: right;\">\n",
       "      <th></th>\n",
       "      <th>ID</th>\n",
       "      <th>first_party_winner</th>\n",
       "    </tr>\n",
       "  </thead>\n",
       "  <tbody>\n",
       "    <tr>\n",
       "      <th>0</th>\n",
       "      <td>TEST_0000</td>\n",
       "      <td>0</td>\n",
       "    </tr>\n",
       "    <tr>\n",
       "      <th>1</th>\n",
       "      <td>TEST_0001</td>\n",
       "      <td>1</td>\n",
       "    </tr>\n",
       "    <tr>\n",
       "      <th>2</th>\n",
       "      <td>TEST_0002</td>\n",
       "      <td>1</td>\n",
       "    </tr>\n",
       "    <tr>\n",
       "      <th>3</th>\n",
       "      <td>TEST_0003</td>\n",
       "      <td>0</td>\n",
       "    </tr>\n",
       "    <tr>\n",
       "      <th>4</th>\n",
       "      <td>TEST_0004</td>\n",
       "      <td>1</td>\n",
       "    </tr>\n",
       "    <tr>\n",
       "      <th>...</th>\n",
       "      <td>...</td>\n",
       "      <td>...</td>\n",
       "    </tr>\n",
       "    <tr>\n",
       "      <th>1235</th>\n",
       "      <td>TEST_1235</td>\n",
       "      <td>1</td>\n",
       "    </tr>\n",
       "    <tr>\n",
       "      <th>1236</th>\n",
       "      <td>TEST_1236</td>\n",
       "      <td>0</td>\n",
       "    </tr>\n",
       "    <tr>\n",
       "      <th>1237</th>\n",
       "      <td>TEST_1237</td>\n",
       "      <td>0</td>\n",
       "    </tr>\n",
       "    <tr>\n",
       "      <th>1238</th>\n",
       "      <td>TEST_1238</td>\n",
       "      <td>1</td>\n",
       "    </tr>\n",
       "    <tr>\n",
       "      <th>1239</th>\n",
       "      <td>TEST_1239</td>\n",
       "      <td>0</td>\n",
       "    </tr>\n",
       "  </tbody>\n",
       "</table>\n",
       "<p>1240 rows × 2 columns</p>\n",
       "</div>"
      ],
      "text/plain": [
       "             ID  first_party_winner\n",
       "0     TEST_0000                   0\n",
       "1     TEST_0001                   1\n",
       "2     TEST_0002                   1\n",
       "3     TEST_0003                   0\n",
       "4     TEST_0004                   1\n",
       "...         ...                 ...\n",
       "1235  TEST_1235                   1\n",
       "1236  TEST_1236                   0\n",
       "1237  TEST_1237                   0\n",
       "1238  TEST_1238                   1\n",
       "1239  TEST_1239                   0\n",
       "\n",
       "[1240 rows x 2 columns]"
      ]
     },
     "execution_count": 29,
     "metadata": {},
     "output_type": "execute_result"
    }
   ],
   "source": [
    "submission"
   ]
  },
  {
   "cell_type": "code",
   "execution_count": 57,
   "metadata": {},
   "outputs": [],
   "source": [
    "submission.to_csv('ml_submission4.csv', index=False)"
   ]
  },
  {
   "cell_type": "code",
   "execution_count": 58,
   "metadata": {},
   "outputs": [],
   "source": [
    "tmp = pd.read_csv('ml_submission2.csv')"
   ]
  },
  {
   "cell_type": "code",
   "execution_count": 59,
   "metadata": {},
   "outputs": [
    {
     "data": {
      "text/plain": [
       "0.00967741935483871"
      ]
     },
     "execution_count": 59,
     "metadata": {},
     "output_type": "execute_result"
    }
   ],
   "source": [
    "(tmp['first_party_winner'] - submission['first_party_winner']).mean()"
   ]
  },
  {
   "cell_type": "code",
   "execution_count": null,
   "metadata": {},
   "outputs": [],
   "source": []
  }
 ],
 "metadata": {
  "kernelspec": {
   "display_name": "nlp",
   "language": "python",
   "name": "python3"
  },
  "language_info": {
   "codemirror_mode": {
    "name": "ipython",
    "version": 3
   },
   "file_extension": ".py",
   "mimetype": "text/x-python",
   "name": "python",
   "nbconvert_exporter": "python",
   "pygments_lexer": "ipython3",
   "version": "3.8.16"
  },
  "orig_nbformat": 4
 },
 "nbformat": 4,
 "nbformat_minor": 2
}
