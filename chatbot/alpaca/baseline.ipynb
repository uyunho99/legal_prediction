{
 "cells": [
  {
   "cell_type": "markdown",
   "metadata": {},
   "source": [
    "## Dataset"
   ]
  },
  {
   "cell_type": "code",
   "execution_count": 1,
   "metadata": {},
   "outputs": [
    {
     "name": "stderr",
     "output_type": "stream",
     "text": [
      "Found cached dataset lbox_open (/home/yunho/.cache/huggingface/datasets/lbox___lbox_open/ljp_criminal/0.2.0/3d5761e2d9292b674a2adabbe7f4bc200d1985908e6f657e7953c9bf247da7ae)\n"
     ]
    },
    {
     "data": {
      "application/vnd.jupyter.widget-view+json": {
       "model_id": "ee180df688a44b3692177c4c5529f8aa",
       "version_major": 2,
       "version_minor": 0
      },
      "text/plain": [
       "  0%|          | 0/4 [00:00<?, ?it/s]"
      ]
     },
     "metadata": {},
     "output_type": "display_data"
    },
    {
     "data": {
      "text/plain": [
       "DatasetDict({\n",
       "    train: Dataset({\n",
       "        features: ['id', 'casetype', 'casename', 'facts', 'reason', 'label', 'ruling'],\n",
       "        num_rows: 8400\n",
       "    })\n",
       "    validation: Dataset({\n",
       "        features: ['id', 'casetype', 'casename', 'facts', 'reason', 'label', 'ruling'],\n",
       "        num_rows: 1050\n",
       "    })\n",
       "    test: Dataset({\n",
       "        features: ['id', 'casetype', 'casename', 'facts', 'reason', 'label', 'ruling'],\n",
       "        num_rows: 1050\n",
       "    })\n",
       "    test2: Dataset({\n",
       "        features: ['id', 'casetype', 'casename', 'facts', 'reason', 'label', 'ruling'],\n",
       "        num_rows: 928\n",
       "    })\n",
       "})"
      ]
     },
     "execution_count": 1,
     "metadata": {},
     "output_type": "execute_result"
    }
   ],
   "source": [
    "from datasets import load_dataset\n",
    "\n",
    "data_ljp_criminal = load_dataset(\"lbox/lbox_open\", \"ljp_criminal\")\n",
    "\n",
    "data_ljp_criminal"
   ]
  },
  {
   "cell_type": "code",
   "execution_count": 2,
   "metadata": {},
   "outputs": [
    {
     "data": {
      "text/plain": [
       "{'id': 0,\n",
       " 'casetype': 'criminal',\n",
       " 'casename': '강제추행',\n",
       " 'facts': '피고인은 2020. 9. 25. 23:45경 포항시 남구 B에 있는 피해자 C(여, 62세) 운영의 D에서 피해자와 함께 술을 마신 후 결제를 하고 나왔고, 피해자가 피고인을 배웅하자 갑자기 피해자의 양 손목을 잡고 포항시 남구 E에 있는 F 출입구까지 약 20m 가량 끌고 간 뒤, 피해자를 강제로 끌어안고 입을 맞추며 손으로 피해자의 가슴을 수회 만졌다.\\n이로써 피고인은 피해자를 강제로 추행하였다.',\n",
       " 'reason': '양형의 이유\\n1. 법률상 처단형의 범위: 징역 1월 ∼ 10년\\n2. 양형기준에 따른 권고형의 범위\\n[유형의 결정] 성범죄 > 01. 일반적 기준 > 나. 강제추행죄(13세 이상 대상) > [제1유형] 일반강제추행\\n[특별양형인자] 감경요소 : 처벌불원\\n[권고영역 및 권고형의 범위] 감경영역, 징역 1월∼1년\\n3. 선고형의 결정 :\\n추행의 정도가 가볍지 않은 점을 고려하여 징역형으로 처벌하되, 피고인이 이 사건 범행을 인정하고 있는 점, 피해자와 합의하여 피해자가 피고인의 처벌을 원하지 않는 점, 그 밖에 피고인의 나이, 성행, 환경, 범행의 동기와 경위, 범행 후의 정황 등 이 사건 변론에 나타난 여러 양형조건을 종합하여 주문과 같이 형을 정한다.\\n신상정보 등록 및 제출의무\\n판시 범죄사실에 관한 유죄판결이 확정되는 경우 피고인은 성폭력범죄의 처벌 등에 관한 특례법 제42조 제1항에 의하여 신상정보 등록대상자에 해당하게 되므로, 같은 법 제43조에 따라 관할기관에 신상정보를 제출할 의무가 있다.',\n",
       " 'label': {'text': '징역 6월',\n",
       "  'fine_lv': 0,\n",
       "  'imprisonment_with_labor_lv': 2,\n",
       "  'imprisonment_without_labor_lv': 0},\n",
       " 'ruling': {'text': '피고인을 징역 6월에 처한다.\\n다만, 이 판결 확정일부터 2년간 위 형의 집행을 유예한다.\\n피고인에게 40시간의 성폭력치료강의 수강을 명한다.',\n",
       "  'parse': {'fine': {'type': '', 'unit': '', 'value': -1},\n",
       "   'imprisonment': {'type': '징역', 'unit': 'mo', 'value': 6}}}}"
      ]
     },
     "execution_count": 2,
     "metadata": {},
     "output_type": "execute_result"
    }
   ],
   "source": [
    "train_data = data_ljp_criminal['train']\n",
    "train_data[0]"
   ]
  },
  {
   "cell_type": "markdown",
   "metadata": {},
   "source": [
    "- id: a data id.\n",
    "- casetype: a case type. The value is always criminal.\n",
    "- casename: a case name.\n",
    "- facts: facts (사실관계) extracted from reasoning (이유) section of individual cases.\n",
    "- label\n",
    "    - fine_lv: a label representing individual ranges of the fine amount. See our paper for the detail.\n",
    "    - imprisonment_with_labor_lv: a label representing the ranges of the imprisonemnt with labor.\n",
    "    - imprisonment_without_labor_lv: a label for the imprisonment without labor case.\n",
    "- reason: the reason for the punishment (양형의 이유).\n",
    "- ruling: the ruling (주문) and its parsing result. \"\" and -1 indicates null values.\n",
    "\n",
    "| instruction | input | output |\n",
    "| --- | --- | --- |\n",
    "| casename을 맞추세요 | facts | casename(강제추행 등) |\n",
    "| --- | --- | --- |\n",
    "| 판결 이유를 설명하세요 | (casetype) + facts | reason |\n",
    "| --- | --- | --- |\n",
    "| 판결을 예측해보세요 | facts + reason | label // ruling(text, parse) |\n",
    "| 벌금을 예측해보세요 | facts + reason | fine_lv // ruling(parse-fine)|\n",
    "| 징역을 예측해보세요 | facts + reason | imprisonment_without_labor_lv // ruling(pares-imprisonment) |"
   ]
  },
  {
   "cell_type": "code",
   "execution_count": 3,
   "metadata": {},
   "outputs": [
    {
     "data": {
      "text/plain": [
       "Counter({'강제추행': 1200,\n",
       "         '공무집행방해': 1200,\n",
       "         '교통사고처리특례법위반(치상)': 1200,\n",
       "         '도로교통법위반(음주운전)': 1200,\n",
       "         '사기': 1200,\n",
       "         '상해': 1200,\n",
       "         '폭행': 1200})"
      ]
     },
     "execution_count": 3,
     "metadata": {},
     "output_type": "execute_result"
    }
   ],
   "source": [
    "from collections import Counter\n",
    "\n",
    "Counter(train_data['casename'])"
   ]
  },
  {
   "cell_type": "code",
   "execution_count": 4,
   "metadata": {},
   "outputs": [
    {
     "name": "stdout",
     "output_type": "stream",
     "text": [
      "[{'instruction': '사건 종류를 분류하시오.', 'input': '피고인은 2020. 9. 25. 23:45경 포항시 남구 B에 있는 피해자 C(여, 62세) 운영의 D에서 피해자와 함께 술을 마신 후 결제를 하고 나왔고, 피해자가 피고인을 배웅하자 갑자기 피해자의 양 손목을 잡고 포항시 남구 E에 있는 F 출입구까지 약 20m 가량 끌고 간 뒤, 피해자를 강제로 끌어안고 입을 맞추며 손으로 피해자의 가슴을 수회 만졌다.\\n이로써 피고인은 피해자를 강제로 추행하였다.', 'output': '강제추행'}, {'instruction': '사건 종류를 분류하시오.', 'input': '피고인은 2019. 9.5. 08:16경 9호선 전동차를 타고 가던 중, 서울 서초구 B에 있는 C역에서 하차하면서 옆에 있던 피해자 D(가명, 여, 30세)의 음부 부분을 손등으로 갑자기 1회 만져 피해자를 강제로 추행하였다.', 'output': '강제추행'}, {'instruction': '사건 종류를 분류하시오.', 'input': '피고인은 2019. 8. 19. 23:00경 서울 강서구 C 오피스텔 D동 1층 입구에서 피해자 E(가명, 여, 25세)에게 전화번호를 알려 달라고 요구하였으나, 피해자가 이를 거부하자 \"너가 뭐가 그렇게 잘났어, 너가 그렇게 대단해. \"라고 말하면서 갑자기 손으로 피해자의 손목을 잡고, 피해자의 오른쪽 가슴을 움켜쥐어 피해자를 강제로 추행하였다.', 'output': '강제추행'}, {'instruction': '사건 종류를 분류하시오.', 'input': '피고인은 2021. 10. 5. 01:00경 피해자 B(가명, 여, 24세)의 주거지인 논산시 C에 있는 오피스텔에서, 방바닥에서 잠을 자다가 일어나 피해자가 누워있는 침대에 올라가 갑자기 피해자의 몸 뒤쪽에 밀착하고 누워 약 3분간 피해자를 껴안고 엉덩이에 성기를 비벼 피해자를 강제로 추행하였다.', 'output': '강제추행'}, {'instruction': '사건 종류를 분류하시오.', 'input': '피고인은 인천 서구 B에 있는 \\'C\\' 식당의 실장으로 근무하는 자이고, 피해자 D(여, 19세)가 위 식당의 아르바이트생으로 일하면서 피해자와 서로 알게 되었다.\\n피고인은 2019. 10. 15. 00:00경, 인천 서구 E 3층에 있는 \\'F노래주점\\'내 4번 방에서, 피해자와 함께 술을 마시던 중 노래를 부르고 있는 피해자에게 갑자기 다가가 손으로 피해자의 종아리와 발 부위를 주무르고 이마와 왼쪽 손등에 입을 맞추고, 이에 피해자가 \"저 남자친구 있는데 왜 이러세요\"라고 말하며 거부함에도 팔로 피해자의 허리와 어깨를 감싸 안는 등의 방법으로 피해자를 강제로 추행하였다.', 'output': '강제추행'}]\n",
      "[{'instruction': '사건 종류를 분류하시오.', 'input': '피고인은 2019. 9. 6. 12:28경 대구 달서구 B시장 내 C 앞 야외 테이블에서 술을 마시다가 소주병을 깨트리며 소란을 피우고, 이에 위 식당 손님인 피해자 D(61세)가 피고인이 깨진 소주병에 손을 다친 것을 보고 위 식당 업주에게 \"저 사람에게 휴지를 좀줘라\"라고 말하자, 이를 듣고 피해자에게 다가가 아무런 이유 없이 오른손으로 피해자의 얼굴과 목, 가슴 부위를 수회 밀치고, 피해자의 목을 감싸 조르는 등 폭행하였다.', 'output': '폭행'}, {'instruction': '사건 종류를 분류하시오.', 'input': '피고인은 2019. 4.3. 08:30경 경기 고양시 일산동구 B 빌딩 14층 승강기 앞 복도에서 평소 사이가 좋지 않은 직장 상사인 피해자 C(45세)이 휴대전화로 피고인을 향해 동영상을 찍는 것에 화가 나 가슴으로 피해자의 가슴 부분을 밀치고 손으로 피해자의 얼굴을 1회 때려 폭행하였다.', 'output': '폭행'}, {'instruction': '사건 종류를 분류하시오.', 'input': \"피고인은 2019. 3. 29. 22:00경 부산 기장군 B에 있는 'C' 식당에서 피해자 D(남, 40세)과 같이 술을 마시던 중 피해자와 말다툼을 하게 되었고, 피해자가 피고인의 얼굴에 소주를 뿌린 것에 화가 나 소주병을 들고 병 안에 든 소주를 피해자의 얼굴에 부어 피해자를 폭행하였다.\", 'output': '폭행'}, {'instruction': '사건 종류를 분류하시오.', 'input': '피고인은 2021. 2. 1. 20:05경 안산시 상록구 B에 있는 자신이 운영하는 C 앞길에 피해자 D(51세)이 (차량번호 1 생략) 렉스턴 차량을 주차하는 것을 보고 피해자에게 영업장 앞이니 차량을 빼달라고 요구했으나 피해자가 이에 응하지 않았다는 이유로 격분하여 운전석에 앉아 있던 피해자의 멱살을 한손으로 2-3회 잡아 당기고, 왼손으로 피해자의 빰을 1회 때려 폭행하였다.', 'output': '폭행'}, {'instruction': '사건 종류를 분류하시오.', 'input': \"피고인은 2019. 1. 5. 18:30경부터 같은 날 19:00경까지 사이에 부산 부산진구 B에 있는 ‘C식당'에서 피해자 D(62세)과 함께 술을 마시던 중 피고인이 피해자의 일행에게 험담을 한다는 이유로 피해자와 사이에 시비가 붙자 식당 밖으로 나가 피해자와 말다툼을 하던 중 피해자의 멱살을 잡고 흔들어 피해자를 폭행하였다.\", 'output': '폭행'}]\n",
      "8400\n"
     ]
    }
   ],
   "source": [
    "# casename from input\n",
    "casename_dataset = []\n",
    "for data in train_data:\n",
    "    new_data = {}\n",
    "    new_data['instruction'] = '사건 종류를 분류하시오.'\n",
    "    new_data['input'] = data['facts']\n",
    "    new_data['output'] = data['casename']\n",
    "    casename_dataset.append(new_data)\n",
    "    \n",
    "print(casename_dataset[:5])\n",
    "print(casename_dataset[-5:])\n",
    "print(len(casename_dataset))"
   ]
  },
  {
   "cell_type": "code",
   "execution_count": 5,
   "metadata": {},
   "outputs": [
    {
     "name": "stdout",
     "output_type": "stream",
     "text": [
      "[{'instruction': '판결 이유를 설명하시오.', 'input': '사건 종류: 강제추행, 법률사실: 피고인은 2020. 9. 25. 23:45경 포항시 남구 B에 있는 피해자 C(여, 62세) 운영의 D에서 피해자와 함께 술을 마신 후 결제를 하고 나왔고, 피해자가 피고인을 배웅하자 갑자기 피해자의 양 손목을 잡고 포항시 남구 E에 있는 F 출입구까지 약 20m 가량 끌고 간 뒤, 피해자를 강제로 끌어안고 입을 맞추며 손으로 피해자의 가슴을 수회 만졌다.\\n이로써 피고인은 피해자를 강제로 추행하였다.', 'output': '양형의 이유\\n1. 법률상 처단형의 범위: 징역 1월 ∼ 10년\\n2. 양형기준에 따른 권고형의 범위\\n[유형의 결정] 성범죄 > 01. 일반적 기준 > 나. 강제추행죄(13세 이상 대상) > [제1유형] 일반강제추행\\n[특별양형인자] 감경요소 : 처벌불원\\n[권고영역 및 권고형의 범위] 감경영역, 징역 1월∼1년\\n3. 선고형의 결정 :\\n추행의 정도가 가볍지 않은 점을 고려하여 징역형으로 처벌하되, 피고인이 이 사건 범행을 인정하고 있는 점, 피해자와 합의하여 피해자가 피고인의 처벌을 원하지 않는 점, 그 밖에 피고인의 나이, 성행, 환경, 범행의 동기와 경위, 범행 후의 정황 등 이 사건 변론에 나타난 여러 양형조건을 종합하여 주문과 같이 형을 정한다.\\n신상정보 등록 및 제출의무\\n판시 범죄사실에 관한 유죄판결이 확정되는 경우 피고인은 성폭력범죄의 처벌 등에 관한 특례법 제42조 제1항에 의하여 신상정보 등록대상자에 해당하게 되므로, 같은 법 제43조에 따라 관할기관에 신상정보를 제출할 의무가 있다.'}, {'instruction': '판결 이유를 설명하시오.', 'input': '사건 종류: 강제추행, 법률사실: 피고인은 2019. 9.5. 08:16경 9호선 전동차를 타고 가던 중, 서울 서초구 B에 있는 C역에서 하차하면서 옆에 있던 피해자 D(가명, 여, 30세)의 음부 부분을 손등으로 갑자기 1회 만져 피해자를 강제로 추행하였다.', 'output': '양형의 이유\\n피고인이 동종 범죄로 처벌받은 전력이 있는 점, 피고인이 전동차 안에서 피해자를 추행한 것으로 죄질이 좋지 않은 점은 불리한 정상이다.\\n다만, 피고인이 수사기관에서 범행을 부인하다가 이 법원에 이르러 범행을 전부 시인하고 반성하고 있는 점, 기소된 이후 피해자와 합의되어 피해자가 피고인의 처벌을 원하지 않고 있는 점은 유리한 정상이다.\\n이러한 정상들과 피고인의 나이, 성행, 환경, 범행의 동기 및 결과, 범행 후의 정황 등 형법 제51조에서 정한 양형조건을 참작하여 주문과 같은 형을 선고한다.\\n신상정보 등록 및 제출의무\\n등록대상 성범죄인 판시 범죄사실에 대하여 유죄판결이 확정되는 경우, 피고인은 성폭력범죄의 처벌 등에 관한 특례법 제42조 제1항에 의하여 신상정보 등록대상자에 해당하게 되므로, 같은 법 제43조에 따라 관할기관에 신상정보를 제출할 의무가 있다.\\n신상정보에 대한 공개, 고지명령의 면제\\n피고인의 연령, 사회적 유대관계, 범행내용이나 방법, 경위, 범행 후의 정황에 비추어 성폭력범죄의 재범의 위험성이 낮은 것으로 보이는 점, 피고인에 대하여는 신상정보 등록 및 성폭력치료강의 수강만으로도 그 재범을 방지하는 효과를 거둘 수 있다고 보이는 점, 그 밖에 공개명령, 고지명령으로 기대되는 사회적 이익 및 성폭력 범죄의 예방 효과와 그로 인한 피고인의 불이익 및 예상되는 부작용 등 제반 사정을 종합하여, 성폭력범죄의 처벌 등에 관한 특례법 제47조 제1항, 제49조 제1항, 아동·청소년의 성보호에 관한 법률 제49조 제1항 단서, 제50조 제1항 단서, 제56조 제1항 단서에 따라 피고인의 신상정보를 공개, 고지하여서는 아니 될 특별한 사정이 있다고 판단되므로, 공개명령 및 고지명령을 선고하지 않는다.'}, {'instruction': '판결 이유를 설명하시오.', 'input': '사건 종류: 강제추행, 법률사실: 피고인은 2019. 8. 19. 23:00경 서울 강서구 C 오피스텔 D동 1층 입구에서 피해자 E(가명, 여, 25세)에게 전화번호를 알려 달라고 요구하였으나, 피해자가 이를 거부하자 \"너가 뭐가 그렇게 잘났어, 너가 그렇게 대단해. \"라고 말하면서 갑자기 손으로 피해자의 손목을 잡고, 피해자의 오른쪽 가슴을 움켜쥐어 피해자를 강제로 추행하였다.', 'output': '양형의 이유\\n피고인이 피해자로부터 용서받지는 못하였으나, 피고인이 자신의 잘못을 인정하면서 반성하는 점, 벌금형으로 1회 처벌받은 외에 별다른 처벌전력이 없는 점, 추행의 정도, 그 밖에 피고인의 나이, 성행, 환경, 범행의 동기, 수단과 결과, 범행 후의 정황 등 제반 양형조건을 종합하여 주문과 같이 형을 정한다.\\n신상정보 등록 및 제출의무\\n판시 범죄사실에 대하여 유죄판결이 확정되는 경우, 피고인은 성폭력범죄의 처벌 등에 관한 특례법 제42조 제 1항에 의하여 신상정보 등록대상자가 되므로, 같은 법 제43조에 따라 관할기관에 신상정보를 제출할 의무가 있다.'}, {'instruction': '판결 이유를 설명하시오.', 'input': '사건 종류: 강제추행, 법률사실: 피고인은 2021. 10. 5. 01:00경 피해자 B(가명, 여, 24세)의 주거지인 논산시 C에 있는 오피스텔에서, 방바닥에서 잠을 자다가 일어나 피해자가 누워있는 침대에 올라가 갑자기 피해자의 몸 뒤쪽에 밀착하고 누워 약 3분간 피해자를 껴안고 엉덩이에 성기를 비벼 피해자를 강제로 추행하였다.', 'output': '양형의 이유\\n1. 법률상 처단형의 범위: 징역 1월∼10년\\n2. 양형기준에 따른 권고형의 범위\\n[유형의 결정] 성범죄 > 01. 일반적 기준 > 나. 강제추행죄(13세 이상 대상) > [제1유형] 일반강제추행\\n[특별양형인자] 없음\\n[권고영역 및 권고형의 범위] 기본영역, 징역 6월∼2년\\n3. 선고형의 결정: 피해자와 합의에 이르지 못하였고 피해자가 피고인에 대한 엄벌을 탄원하고 있는 점의 불리한 정상과 피고인이 이 사건 범행을 시인하고 있는 점, 처벌 전력이 없는 초범인 점의 유리한 정상, 그 밖에 피고인의 연령, 성행, 범행의 동기와 수단, 범행 후 정황 등 이 사건 기록과 변론에 나타난 여러 양형조건을 종합적으로 고려하여 주문과 같이 형을 정한다.'}, {'instruction': '판결 이유를 설명하시오.', 'input': '사건 종류: 강제추행, 법률사실: 피고인은 인천 서구 B에 있는 \\'C\\' 식당의 실장으로 근무하는 자이고, 피해자 D(여, 19세)가 위 식당의 아르바이트생으로 일하면서 피해자와 서로 알게 되었다.\\n피고인은 2019. 10. 15. 00:00경, 인천 서구 E 3층에 있는 \\'F노래주점\\'내 4번 방에서, 피해자와 함께 술을 마시던 중 노래를 부르고 있는 피해자에게 갑자기 다가가 손으로 피해자의 종아리와 발 부위를 주무르고 이마와 왼쪽 손등에 입을 맞추고, 이에 피해자가 \"저 남자친구 있는데 왜 이러세요\"라고 말하며 거부함에도 팔로 피해자의 허리와 어깨를 감싸 안는 등의 방법으로 피해자를 강제로 추행하였다.', 'output': '양형의 이유\\n1. 법률상 처단형의 범위: 징역 1월 ~ 10년\\n2. 양형기준에 따른 권고형의 범위\\n[유형의 결정] 성범죄 > 01. 일반적 기준 > 나. 강제추행죄(13세 이상 대상) > [제1유형] 일반강제추행\\n[특별양형인자] 없음\\n[권고영역 및 권고형의 범위] 기본영역, 징역 6월 ~ 2년\\n3. 선고형의 결정\\n이 사건은 피고인이 이제 막 성년에 이른 피해자를 강제로 추행한 것으로서 그 죄질이 좋지 않다. 피해자의 정신적 충격이 상당할 것으로 보이고, 피고인은 피해자로부터 용서받지 못하였다. 피고인은 동종 범행으로 처벌받은 전력이 있음에도 다시 이 사건 범행을 저질렀다. 다만, 벌금형을 초과하는 범죄전력은 없는 점은 피고인에게 유리한 정상이다. 그 밖에 피고인의 연령, 성행, 환경, 가족관계, 범행의 동기, 범행의 수단과 결과, 범행 후의 정황 등 이 사건 기록과 변론에 나타난 모든 양형 요소를 종합적으로 고려하여 주문과 같이 형을 정한다.'}]\n",
      "[{'instruction': '판결 이유를 설명하시오.', 'input': '사건 종류: 폭행, 법률사실: 피고인은 2019. 9. 6. 12:28경 대구 달서구 B시장 내 C 앞 야외 테이블에서 술을 마시다가 소주병을 깨트리며 소란을 피우고, 이에 위 식당 손님인 피해자 D(61세)가 피고인이 깨진 소주병에 손을 다친 것을 보고 위 식당 업주에게 \"저 사람에게 휴지를 좀줘라\"라고 말하자, 이를 듣고 피해자에게 다가가 아무런 이유 없이 오른손으로 피해자의 얼굴과 목, 가슴 부위를 수회 밀치고, 피해자의 목을 감싸 조르는 등 폭행하였다.', 'output': '양형의 이유\\n피고인이 동종 범죄로 처벌받은 전력이 다수 있고, 특히 2018. 4. 17. 이 법원에서 상해죄로 징역 6월에 집행유예 1년을 선고받았음에도 자숙하지 아니하고 범행한 점은 피고인에게 불리한 정상이다. 한편 피고인이 자신의 잘못을 시인하며 반성하는 점을 참작하고, 피고인의 나이, 성행, 피고인이 피해자에게 행사한 폭력의 정도, 경제적 사정 등을 모두 고려하여 주문과 같이 형을 정한다.'}, {'instruction': '판결 이유를 설명하시오.', 'input': '사건 종류: 폭행, 법률사실: 피고인은 2019. 4.3. 08:30경 경기 고양시 일산동구 B 빌딩 14층 승강기 앞 복도에서 평소 사이가 좋지 않은 직장 상사인 피해자 C(45세)이 휴대전화로 피고인을 향해 동영상을 찍는 것에 화가 나 가슴으로 피해자의 가슴 부분을 밀치고 손으로 피해자의 얼굴을 1회 때려 폭행하였다.', 'output': '양형의 이유\\n생략'}, {'instruction': '판결 이유를 설명하시오.', 'input': \"사건 종류: 폭행, 법률사실: 피고인은 2019. 3. 29. 22:00경 부산 기장군 B에 있는 'C' 식당에서 피해자 D(남, 40세)과 같이 술을 마시던 중 피해자와 말다툼을 하게 되었고, 피해자가 피고인의 얼굴에 소주를 뿌린 것에 화가 나 소주병을 들고 병 안에 든 소주를 피해자의 얼굴에 부어 피해자를 폭행하였다.\", 'output': '양형의 이유\\n피해자가 먼저 피고인의 얼굴에 소주를 뿌리자 피고인이 이에 대항하여 이 사건 범행으로 나아간 점, 이후 피해자가 피고인의 뺨을 때리는 폭행을 가한 점 등을 감안하더라도, 피고인이 벌금형으로 1회 처벌받은 전력이 있는 점, 피해자도 위와 같은 폭행행위로 벌금 700,000원의 처벌을 받은 점, 이 사건 폭행을 그 정도가 매우 가벼운 것이라고 볼 수는 없는 점, 그 밖에 피고인의 연령, 성행, 지능과 환경, 피해자에 대한 관계, 범행의 동기, 수단과 결과, 범행 후의 정황 등을 종합하면, 약식명령에서 정한 벌금 300,000원이 무거워서 부당하다고 보이지는 아니하므로, 벌금 300,000원을 선고한다.'}, {'instruction': '판결 이유를 설명하시오.', 'input': '사건 종류: 폭행, 법률사실: 피고인은 2021. 2. 1. 20:05경 안산시 상록구 B에 있는 자신이 운영하는 C 앞길에 피해자 D(51세)이 (차량번호 1 생략) 렉스턴 차량을 주차하는 것을 보고 피해자에게 영업장 앞이니 차량을 빼달라고 요구했으나 피해자가 이에 응하지 않았다는 이유로 격분하여 운전석에 앉아 있던 피해자의 멱살을 한손으로 2-3회 잡아 당기고, 왼손으로 피해자의 빰을 1회 때려 폭행하였다.', 'output': '양형의 이유\\n생략'}, {'instruction': '판결 이유를 설명하시오.', 'input': \"사건 종류: 폭행, 법률사실: 피고인은 2019. 1. 5. 18:30경부터 같은 날 19:00경까지 사이에 부산 부산진구 B에 있는 ‘C식당'에서 피해자 D(62세)과 함께 술을 마시던 중 피고인이 피해자의 일행에게 험담을 한다는 이유로 피해자와 사이에 시비가 붙자 식당 밖으로 나가 피해자와 말다툼을 하던 중 피해자의 멱살을 잡고 흔들어 피해자를 폭행하였다.\", 'output': '양형의 이유\\n생략'}]\n",
      "8400\n"
     ]
    }
   ],
   "source": [
    "# reason from fact\n",
    "reason_dataset = []\n",
    "for data in train_data:\n",
    "    new_data = {}\n",
    "    new_data['instruction'] = '판결 이유를 설명하시오.'\n",
    "    new_data['input'] = \"사건 종류: \" + data['casename'] + \", 법률사실: \" + data['facts']\n",
    "    new_data['output'] = data['reason']\n",
    "    reason_dataset.append(new_data)\n",
    "    \n",
    "print(reason_dataset[:5])\n",
    "print(reason_dataset[-5:])\n",
    "print(len(reason_dataset))"
   ]
  },
  {
   "cell_type": "code",
   "execution_count": 6,
   "metadata": {},
   "outputs": [
    {
     "name": "stdout",
     "output_type": "stream",
     "text": [
      "[{'instruction': '재판 결과를 예측해보시오.', 'input': '법률사실: 피고인은 2020. 9. 25. 23:45경 포항시 남구 B에 있는 피해자 C(여, 62세) 운영의 D에서 피해자와 함께 술을 마신 후 결제를 하고 나왔고, 피해자가 피고인을 배웅하자 갑자기 피해자의 양 손목을 잡고 포항시 남구 E에 있는 F 출입구까지 약 20m 가량 끌고 간 뒤, 피해자를 강제로 끌어안고 입을 맞추며 손으로 피해자의 가슴을 수회 만졌다.\\n이로써 피고인은 피해자를 강제로 추행하였다., 판결 요지: 양형의 이유\\n1. 법률상 처단형의 범위: 징역 1월 ∼ 10년\\n2. 양형기준에 따른 권고형의 범위\\n[유형의 결정] 성범죄 > 01. 일반적 기준 > 나. 강제추행죄(13세 이상 대상) > [제1유형] 일반강제추행\\n[특별양형인자] 감경요소 : 처벌불원\\n[권고영역 및 권고형의 범위] 감경영역, 징역 1월∼1년\\n3. 선고형의 결정 :\\n추행의 정도가 가볍지 않은 점을 고려하여 징역형으로 처벌하되, 피고인이 이 사건 범행을 인정하고 있는 점, 피해자와 합의하여 피해자가 피고인의 처벌을 원하지 않는 점, 그 밖에 피고인의 나이, 성행, 환경, 범행의 동기와 경위, 범행 후의 정황 등 이 사건 변론에 나타난 여러 양형조건을 종합하여 주문과 같이 형을 정한다.\\n신상정보 등록 및 제출의무\\n판시 범죄사실에 관한 유죄판결이 확정되는 경우 피고인은 성폭력범죄의 처벌 등에 관한 특례법 제42조 제1항에 의하여 신상정보 등록대상자에 해당하게 되므로, 같은 법 제43조에 따라 관할기관에 신상정보를 제출할 의무가 있다.', 'output': '피고인을 징역 6월에 처한다.\\n다만, 이 판결 확정일부터 2년간 위 형의 집행을 유예한다.\\n피고인에게 40시간의 성폭력치료강의 수강을 명한다.'}, {'instruction': '재판 결과를 예측해보시오.', 'input': '법률사실: 피고인은 2019. 9.5. 08:16경 9호선 전동차를 타고 가던 중, 서울 서초구 B에 있는 C역에서 하차하면서 옆에 있던 피해자 D(가명, 여, 30세)의 음부 부분을 손등으로 갑자기 1회 만져 피해자를 강제로 추행하였다., 판결 요지: 양형의 이유\\n피고인이 동종 범죄로 처벌받은 전력이 있는 점, 피고인이 전동차 안에서 피해자를 추행한 것으로 죄질이 좋지 않은 점은 불리한 정상이다.\\n다만, 피고인이 수사기관에서 범행을 부인하다가 이 법원에 이르러 범행을 전부 시인하고 반성하고 있는 점, 기소된 이후 피해자와 합의되어 피해자가 피고인의 처벌을 원하지 않고 있는 점은 유리한 정상이다.\\n이러한 정상들과 피고인의 나이, 성행, 환경, 범행의 동기 및 결과, 범행 후의 정황 등 형법 제51조에서 정한 양형조건을 참작하여 주문과 같은 형을 선고한다.\\n신상정보 등록 및 제출의무\\n등록대상 성범죄인 판시 범죄사실에 대하여 유죄판결이 확정되는 경우, 피고인은 성폭력범죄의 처벌 등에 관한 특례법 제42조 제1항에 의하여 신상정보 등록대상자에 해당하게 되므로, 같은 법 제43조에 따라 관할기관에 신상정보를 제출할 의무가 있다.\\n신상정보에 대한 공개, 고지명령의 면제\\n피고인의 연령, 사회적 유대관계, 범행내용이나 방법, 경위, 범행 후의 정황에 비추어 성폭력범죄의 재범의 위험성이 낮은 것으로 보이는 점, 피고인에 대하여는 신상정보 등록 및 성폭력치료강의 수강만으로도 그 재범을 방지하는 효과를 거둘 수 있다고 보이는 점, 그 밖에 공개명령, 고지명령으로 기대되는 사회적 이익 및 성폭력 범죄의 예방 효과와 그로 인한 피고인의 불이익 및 예상되는 부작용 등 제반 사정을 종합하여, 성폭력범죄의 처벌 등에 관한 특례법 제47조 제1항, 제49조 제1항, 아동·청소년의 성보호에 관한 법률 제49조 제1항 단서, 제50조 제1항 단서, 제56조 제1항 단서에 따라 피고인의 신상정보를 공개, 고지하여서는 아니 될 특별한 사정이 있다고 판단되므로, 공개명령 및 고지명령을 선고하지 않는다.', 'output': '피고인을 징역 8월에 처한다.\\n다만, 이 판결 확정일로부터 2년간 위 형의 집행을 유예한다.\\n피고인에 대하여 40시간의 성폭력치료강의 수강을 명한다.\\n피고인에 대하여 아동·청소년 관련기관등과 장애인복지시설에 각 5년간 취업제한을 명한다.'}, {'instruction': '재판 결과를 예측해보시오.', 'input': '법률사실: 피고인은 2019. 8. 19. 23:00경 서울 강서구 C 오피스텔 D동 1층 입구에서 피해자 E(가명, 여, 25세)에게 전화번호를 알려 달라고 요구하였으나, 피해자가 이를 거부하자 \"너가 뭐가 그렇게 잘났어, 너가 그렇게 대단해. \"라고 말하면서 갑자기 손으로 피해자의 손목을 잡고, 피해자의 오른쪽 가슴을 움켜쥐어 피해자를 강제로 추행하였다., 판결 요지: 양형의 이유\\n피고인이 피해자로부터 용서받지는 못하였으나, 피고인이 자신의 잘못을 인정하면서 반성하는 점, 벌금형으로 1회 처벌받은 외에 별다른 처벌전력이 없는 점, 추행의 정도, 그 밖에 피고인의 나이, 성행, 환경, 범행의 동기, 수단과 결과, 범행 후의 정황 등 제반 양형조건을 종합하여 주문과 같이 형을 정한다.\\n신상정보 등록 및 제출의무\\n판시 범죄사실에 대하여 유죄판결이 확정되는 경우, 피고인은 성폭력범죄의 처벌 등에 관한 특례법 제42조 제 1항에 의하여 신상정보 등록대상자가 되므로, 같은 법 제43조에 따라 관할기관에 신상정보를 제출할 의무가 있다.', 'output': '피고인을 벌금 5,000,000원에 처한다.\\n피고인이 위 벌금을 납입하지 아니하는 경우 100,000원을 1일로 환산한 기간 피고인을 노역장에 유치한다.\\n피고인에게 40시간의 성폭력 치료프로그램 이수를 명한다.\\n위 벌금에 상당한 금액의 가납을 명한다.'}, {'instruction': '재판 결과를 예측해보시오.', 'input': '법률사실: 피고인은 2021. 10. 5. 01:00경 피해자 B(가명, 여, 24세)의 주거지인 논산시 C에 있는 오피스텔에서, 방바닥에서 잠을 자다가 일어나 피해자가 누워있는 침대에 올라가 갑자기 피해자의 몸 뒤쪽에 밀착하고 누워 약 3분간 피해자를 껴안고 엉덩이에 성기를 비벼 피해자를 강제로 추행하였다., 판결 요지: 양형의 이유\\n1. 법률상 처단형의 범위: 징역 1월∼10년\\n2. 양형기준에 따른 권고형의 범위\\n[유형의 결정] 성범죄 > 01. 일반적 기준 > 나. 강제추행죄(13세 이상 대상) > [제1유형] 일반강제추행\\n[특별양형인자] 없음\\n[권고영역 및 권고형의 범위] 기본영역, 징역 6월∼2년\\n3. 선고형의 결정: 피해자와 합의에 이르지 못하였고 피해자가 피고인에 대한 엄벌을 탄원하고 있는 점의 불리한 정상과 피고인이 이 사건 범행을 시인하고 있는 점, 처벌 전력이 없는 초범인 점의 유리한 정상, 그 밖에 피고인의 연령, 성행, 범행의 동기와 수단, 범행 후 정황 등 이 사건 기록과 변론에 나타난 여러 양형조건을 종합적으로 고려하여 주문과 같이 형을 정한다.', 'output': '피고인을 징역 8월에 처한다.\\n다만, 이 판결 확정일부터 2년간 위 형의 집행을 유예한다.\\n피고인에게 40시간의 성폭력치료강의 수강을 명한다.\\n피고인에 대하여 아동․청소년 관련기관 등과 장애인복지시설에 각 3년간 취업제한을 명한다.'}, {'instruction': '재판 결과를 예측해보시오.', 'input': '법률사실: 피고인은 인천 서구 B에 있는 \\'C\\' 식당의 실장으로 근무하는 자이고, 피해자 D(여, 19세)가 위 식당의 아르바이트생으로 일하면서 피해자와 서로 알게 되었다.\\n피고인은 2019. 10. 15. 00:00경, 인천 서구 E 3층에 있는 \\'F노래주점\\'내 4번 방에서, 피해자와 함께 술을 마시던 중 노래를 부르고 있는 피해자에게 갑자기 다가가 손으로 피해자의 종아리와 발 부위를 주무르고 이마와 왼쪽 손등에 입을 맞추고, 이에 피해자가 \"저 남자친구 있는데 왜 이러세요\"라고 말하며 거부함에도 팔로 피해자의 허리와 어깨를 감싸 안는 등의 방법으로 피해자를 강제로 추행하였다., 판결 요지: 양형의 이유\\n1. 법률상 처단형의 범위: 징역 1월 ~ 10년\\n2. 양형기준에 따른 권고형의 범위\\n[유형의 결정] 성범죄 > 01. 일반적 기준 > 나. 강제추행죄(13세 이상 대상) > [제1유형] 일반강제추행\\n[특별양형인자] 없음\\n[권고영역 및 권고형의 범위] 기본영역, 징역 6월 ~ 2년\\n3. 선고형의 결정\\n이 사건은 피고인이 이제 막 성년에 이른 피해자를 강제로 추행한 것으로서 그 죄질이 좋지 않다. 피해자의 정신적 충격이 상당할 것으로 보이고, 피고인은 피해자로부터 용서받지 못하였다. 피고인은 동종 범행으로 처벌받은 전력이 있음에도 다시 이 사건 범행을 저질렀다. 다만, 벌금형을 초과하는 범죄전력은 없는 점은 피고인에게 유리한 정상이다. 그 밖에 피고인의 연령, 성행, 환경, 가족관계, 범행의 동기, 범행의 수단과 결과, 범행 후의 정황 등 이 사건 기록과 변론에 나타난 모든 양형 요소를 종합적으로 고려하여 주문과 같이 형을 정한다.', 'output': '피고인을 징역 6개월에 처한다.\\n다만, 이 판결 확정일로부터 2년간 위 형의 집행을 유예한다.\\n피고인에게 80시간의 사회봉사와 40시간의 성폭력 치료강의 수강을 각 명한다.\\n피고인에게 아동·청소년 관련기관 등과 장애인복지시설에 3년간 취업제한을 명한다.'}]\n",
      "[{'instruction': '재판 결과를 예측해보시오.', 'input': '법률사실: 피고인은 2019. 9. 6. 12:28경 대구 달서구 B시장 내 C 앞 야외 테이블에서 술을 마시다가 소주병을 깨트리며 소란을 피우고, 이에 위 식당 손님인 피해자 D(61세)가 피고인이 깨진 소주병에 손을 다친 것을 보고 위 식당 업주에게 \"저 사람에게 휴지를 좀줘라\"라고 말하자, 이를 듣고 피해자에게 다가가 아무런 이유 없이 오른손으로 피해자의 얼굴과 목, 가슴 부위를 수회 밀치고, 피해자의 목을 감싸 조르는 등 폭행하였다., 판결 요지: 양형의 이유\\n피고인이 동종 범죄로 처벌받은 전력이 다수 있고, 특히 2018. 4. 17. 이 법원에서 상해죄로 징역 6월에 집행유예 1년을 선고받았음에도 자숙하지 아니하고 범행한 점은 피고인에게 불리한 정상이다. 한편 피고인이 자신의 잘못을 시인하며 반성하는 점을 참작하고, 피고인의 나이, 성행, 피고인이 피해자에게 행사한 폭력의 정도, 경제적 사정 등을 모두 고려하여 주문과 같이 형을 정한다.', 'output': '피고인을 벌금 3,000,000원에 처한다.\\n피고인이 위 벌금을 납입하지 아니하는 경우 100,000원을 1일로 환산한 기간 피고인을 노역장에 유치한다.\\n위 벌금에 상당한 금액의 가납을 명한다.'}, {'instruction': '재판 결과를 예측해보시오.', 'input': '법률사실: 피고인은 2019. 4.3. 08:30경 경기 고양시 일산동구 B 빌딩 14층 승강기 앞 복도에서 평소 사이가 좋지 않은 직장 상사인 피해자 C(45세)이 휴대전화로 피고인을 향해 동영상을 찍는 것에 화가 나 가슴으로 피해자의 가슴 부분을 밀치고 손으로 피해자의 얼굴을 1회 때려 폭행하였다., 판결 요지: 양형의 이유\\n생략', 'output': '피고인을 벌금 50만 원에 처한다.\\n피고인이 위 벌금을 납입하지 아니하는 경우 10만 원을 1일로 환산한 기간 피고인을 노역장에 유치한다.\\n피고인에게 위 벌금에 상당한 금액의 가납을 명한다.\\n소송비용은 피고인이 부담한다.'}, {'instruction': '재판 결과를 예측해보시오.', 'input': \"법률사실: 피고인은 2019. 3. 29. 22:00경 부산 기장군 B에 있는 'C' 식당에서 피해자 D(남, 40세)과 같이 술을 마시던 중 피해자와 말다툼을 하게 되었고, 피해자가 피고인의 얼굴에 소주를 뿌린 것에 화가 나 소주병을 들고 병 안에 든 소주를 피해자의 얼굴에 부어 피해자를 폭행하였다., 판결 요지: 양형의 이유\\n피해자가 먼저 피고인의 얼굴에 소주를 뿌리자 피고인이 이에 대항하여 이 사건 범행으로 나아간 점, 이후 피해자가 피고인의 뺨을 때리는 폭행을 가한 점 등을 감안하더라도, 피고인이 벌금형으로 1회 처벌받은 전력이 있는 점, 피해자도 위와 같은 폭행행위로 벌금 700,000원의 처벌을 받은 점, 이 사건 폭행을 그 정도가 매우 가벼운 것이라고 볼 수는 없는 점, 그 밖에 피고인의 연령, 성행, 지능과 환경, 피해자에 대한 관계, 범행의 동기, 수단과 결과, 범행 후의 정황 등을 종합하면, 약식명령에서 정한 벌금 300,000원이 무거워서 부당하다고 보이지는 아니하므로, 벌금 300,000원을 선고한다.\", 'output': '피고인을 벌금 300,000원에 처한다.\\n피고인이 위 벌금을 납입하지 아니하는 경우 100,000원을 1일로 환산한 기간 피고인을 노역장에 유치한다.\\n피고인에 대하여 위 벌금에 상당한 금액의 가납을 명한다.'}, {'instruction': '재판 결과를 예측해보시오.', 'input': '법률사실: 피고인은 2021. 2. 1. 20:05경 안산시 상록구 B에 있는 자신이 운영하는 C 앞길에 피해자 D(51세)이 (차량번호 1 생략) 렉스턴 차량을 주차하는 것을 보고 피해자에게 영업장 앞이니 차량을 빼달라고 요구했으나 피해자가 이에 응하지 않았다는 이유로 격분하여 운전석에 앉아 있던 피해자의 멱살을 한손으로 2-3회 잡아 당기고, 왼손으로 피해자의 빰을 1회 때려 폭행하였다., 판결 요지: 양형의 이유\\n생략', 'output': '피고인을 벌금 150만 원에 처한다.\\n피고인이 위 벌금을 납입하지 아니하는 경우 10만 원을 1일로 환산한 기간 피고인을 노역장에 유치한다.\\n위 벌금 상당액의 가납을 명한다.'}, {'instruction': '재판 결과를 예측해보시오.', 'input': \"법률사실: 피고인은 2019. 1. 5. 18:30경부터 같은 날 19:00경까지 사이에 부산 부산진구 B에 있는 ‘C식당'에서 피해자 D(62세)과 함께 술을 마시던 중 피고인이 피해자의 일행에게 험담을 한다는 이유로 피해자와 사이에 시비가 붙자 식당 밖으로 나가 피해자와 말다툼을 하던 중 피해자의 멱살을 잡고 흔들어 피해자를 폭행하였다., 판결 요지: 양형의 이유\\n생략\", 'output': '피고인을 벌금 150만 원에 처한다.\\n피고인이 위 벌금을 납입하지 아니하는 경우 10만 원을 1일로 환산한 기간 피고인을 노역장에 유치한다.\\n위 벌금 상당액의 가납을 명한다.'}]\n",
      "8400\n"
     ]
    }
   ],
   "source": [
    "# sentence from fact\n",
    "sentence_dataset = []\n",
    "for data in train_data:\n",
    "    new_data = {}\n",
    "    new_data['instruction'] = '재판 결과를 예측해보시오.'\n",
    "    new_data['input'] = \"법률사실: \" + data['facts'] + \", 판결 요지: \" + data['reason']\n",
    "    new_data['output'] = data['ruling']['text']\n",
    "    sentence_dataset.append(new_data)\n",
    "    \n",
    "print(sentence_dataset[:5])\n",
    "print(sentence_dataset[-5:])\n",
    "print(len(sentence_dataset))"
   ]
  },
  {
   "cell_type": "code",
   "execution_count": 7,
   "metadata": {},
   "outputs": [
    {
     "data": {
      "text/plain": [
       "'/home/yunho/Documents/NLP/legal_prediction/chatbot'"
      ]
     },
     "execution_count": 7,
     "metadata": {},
     "output_type": "execute_result"
    }
   ],
   "source": [
    "import os\n",
    "\n",
    "PATH = os.getcwd()\n",
    "PATH"
   ]
  },
  {
   "cell_type": "code",
   "execution_count": 9,
   "metadata": {},
   "outputs": [],
   "source": [
    "import json\n",
    "\n",
    "with open(PATH + '/Data/casename_dataset.json', 'w', encoding='utf-8') as json_file:\n",
    "    json.dump(casename_dataset, json_file, ensure_ascii=False, indent=4)\n",
    "\n",
    "with open(PATH + '/Data/reason_dataset.json', 'w', encoding='utf-8') as json_file:\n",
    "   json.dump(reason_dataset, json_file, ensure_ascii=False, indent=4)\n",
    "\n",
    "with open(PATH + '/Data/sentence_dataset.json', 'w', encoding='utf-8') as json_file:\n",
    "    json.dump(sentence_dataset, json_file, ensure_ascii=False, indent=4)"
   ]
  },
  {
   "cell_type": "markdown",
   "metadata": {},
   "source": [
    "## LLaMA"
   ]
  },
  {
   "cell_type": "code",
   "execution_count": 10,
   "metadata": {},
   "outputs": [
    {
     "name": "stdout",
     "output_type": "stream",
     "text": [
      "fatal: destination path 'alpaca-lora' already exists and is not an empty directory.\n",
      "/home/yunho/Documents/NLP/legal_prediction/chatbot/alpaca-lora\n"
     ]
    }
   ],
   "source": [
    "!git clone -q https://github.com/kairess/alpaca-lora.git\n",
    "%cd alpaca-lora\n",
    "!pip install -r requirements.txt -q\n",
    "!pip uninstall peft -y -q\n",
    "!pip install -q git+https://github.com/huggingface/peft.git@e536616888d51b453ed354a6f1e243fecb02ea08"
   ]
  },
  {
   "cell_type": "code",
   "execution_count": 11,
   "metadata": {},
   "outputs": [],
   "source": [
    "import json\n",
    "\n",
    "prompt_template = {\n",
    "    \"description\": \"Alpaca-LoRA Custom 템플릿\",\n",
    "    \"prompt_input\": (\n",
    "        \"Below is an instruction that describes a task, paired with an input that provides further context.\\n\"\n",
    "        \"아래는 작업을 설명하는 명령어와 추가적 맥락을 제공하는 입력이 짝을 이루는 예제입니다.\\n\\n\"\n",
    "        \"Write a response that appropriately completes the request.\\n요청을 적절히 완료하는 응답을 작성하세요.\\n\\n\"\n",
    "        \"### Instruction(명령어):\\n{instruction}\\n\\n### Input(입력):\\n{input}\\n\\n### Response:\\n\"\n",
    "    ),\n",
    "    \"prompt_no_input\": (\n",
    "        \"Below is an instruction that describes a task.\\n\"\n",
    "        \"아래는 작업을 설명하는 명령어입니다.\\n\\n\"\n",
    "        \"Write a response that appropriately completes the request.\\n명령어에 따른 요청을 적절히 완료하는 응답을 작성하세요.\\n\\n\"\n",
    "        \"### Instruction(명령어):\\n{instruction}\\n\\n### Response:\\n\"\n",
    "    ),\n",
    "    \"response_split\": \"### Response:\",\n",
    "}\n",
    "\n",
    "with open('templates/custom.json', 'w', encoding='utf-8') as f:\n",
    "    json.dump(prompt_template, f, ensure_ascii=False)"
   ]
  },
  {
   "cell_type": "code",
   "execution_count": 12,
   "metadata": {},
   "outputs": [
    {
     "name": "stdout",
     "output_type": "stream",
     "text": [
      "/home/yunho/Documents/NLP/legal_prediction/chatbot/alpaca-lora\n"
     ]
    }
   ],
   "source": [
    "!pwd"
   ]
  },
  {
   "cell_type": "code",
   "execution_count": 14,
   "metadata": {},
   "outputs": [
    {
     "name": "stdout",
     "output_type": "stream",
     "text": [
      "Training Alpaca-LoRA model with params:\n",
      "base_model: decapoda-research/llama-7b-hf\n",
      "data_path: ../Data/casename_dataset.json\n",
      "output_dir: ./output\n",
      "batch_size: 1024\n",
      "micro_batch_size: 128\n",
      "num_epochs: 10\n",
      "learning_rate: 0.0005\n",
      "cutoff_len: 256\n",
      "val_set_size: 1680\n",
      "lora_r: 8\n",
      "lora_alpha: 16\n",
      "lora_dropout: 0.05\n",
      "lora_target_modules: ['q_proj', 'v_proj']\n",
      "train_on_inputs: True\n",
      "add_eos_token: False\n",
      "group_by_length: False\n",
      "wandb_project: \n",
      "wandb_run_name: \n",
      "wandb_watch: \n",
      "wandb_log_model: \n",
      "resume_from_checkpoint: False\n",
      "prompt template: custom\n",
      "\n",
      "Loading checkpoint shards: 100%|████████████████| 33/33 [00:07<00:00,  4.61it/s]\n",
      "The tokenizer class you load from this checkpoint is not the same type as the class this function is called from. It may result in unexpected tokenization. \n",
      "The tokenizer class you load from this checkpoint is 'LLaMATokenizer'. \n",
      "The class this function is called from is 'LlamaTokenizer'.\n",
      "Found cached dataset json (/home/yunho/.cache/huggingface/datasets/json/default-0f7149f0ad8c7def/0.0.0/e347ab1c932092252e717ff3f949105a4dd28b27e842dd53157d2f72e276c2e4)\n",
      "100%|████████████████████████████████████████████| 1/1 [00:00<00:00, 683.56it/s]\n",
      "trainable params: 4194304 || all params: 6742609920 || trainable%: 0.06220594176090199\n",
      "Loading cached split indices for dataset at /home/yunho/.cache/huggingface/datasets/json/default-0f7149f0ad8c7def/0.0.0/e347ab1c932092252e717ff3f949105a4dd28b27e842dd53157d2f72e276c2e4/cache-ffc513c3aa13eacc.arrow and /home/yunho/.cache/huggingface/datasets/json/default-0f7149f0ad8c7def/0.0.0/e347ab1c932092252e717ff3f949105a4dd28b27e842dd53157d2f72e276c2e4/cache-acd2ab751324a9db.arrow\n",
      " 10%|████                                     | 6/60 [16:59<2:32:51, 169.84s/it]^C\n"
     ]
    }
   ],
   "source": [
    "!python finetune.py \\\n",
    "    --base_model 'decapoda-research/llama-7b-hf' \\\n",
    "    --data_path '../Data/casename_dataset.json' \\\n",
    "    --output_dir './output' \\\n",
    "    --num_epochs 10 \\\n",
    "    --learning_rate 5e-4 \\\n",
    "    --val_set_size 1680 \\\n",
    "    --batch_size 1024 \\\n",
    "    --micro_batch_size 128 \\\n",
    "    --prompt_template_name 'custom'"
   ]
  },
  {
   "cell_type": "code",
   "execution_count": null,
   "metadata": {},
   "outputs": [],
   "source": []
  }
 ],
 "metadata": {
  "kernelspec": {
   "display_name": "nlp",
   "language": "python",
   "name": "python3"
  },
  "language_info": {
   "codemirror_mode": {
    "name": "ipython",
    "version": 3
   },
   "file_extension": ".py",
   "mimetype": "text/x-python",
   "name": "python",
   "nbconvert_exporter": "python",
   "pygments_lexer": "ipython3",
   "version": "3.8.16"
  },
  "orig_nbformat": 4
 },
 "nbformat": 4,
 "nbformat_minor": 2
}
