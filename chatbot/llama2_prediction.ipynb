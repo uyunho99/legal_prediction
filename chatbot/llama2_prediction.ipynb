{
 "cells": [
  {
   "cell_type": "code",
   "execution_count": 1,
   "metadata": {},
   "outputs": [
    {
     "name": "stderr",
     "output_type": "stream",
     "text": [
      "Found cached dataset lbox_open (/home/user/.cache/huggingface/datasets/lbox___lbox_open/ljp_criminal/0.2.0/3d5761e2d9292b674a2adabbe7f4bc200d1985908e6f657e7953c9bf247da7ae)\n"
     ]
    },
    {
     "data": {
      "application/vnd.jupyter.widget-view+json": {
       "model_id": "565c83f96aff4bbdaa98f6e84c029136",
       "version_major": 2,
       "version_minor": 0
      },
      "text/plain": [
       "  0%|          | 0/4 [00:00<?, ?it/s]"
      ]
     },
     "metadata": {},
     "output_type": "display_data"
    },
    {
     "data": {
      "text/plain": [
       "DatasetDict({\n",
       "    train: Dataset({\n",
       "        features: ['id', 'casetype', 'casename', 'facts', 'reason', 'label', 'ruling'],\n",
       "        num_rows: 8400\n",
       "    })\n",
       "    validation: Dataset({\n",
       "        features: ['id', 'casetype', 'casename', 'facts', 'reason', 'label', 'ruling'],\n",
       "        num_rows: 1050\n",
       "    })\n",
       "    test: Dataset({\n",
       "        features: ['id', 'casetype', 'casename', 'facts', 'reason', 'label', 'ruling'],\n",
       "        num_rows: 1050\n",
       "    })\n",
       "    test2: Dataset({\n",
       "        features: ['id', 'casetype', 'casename', 'facts', 'reason', 'label', 'ruling'],\n",
       "        num_rows: 928\n",
       "    })\n",
       "})"
      ]
     },
     "execution_count": 1,
     "metadata": {},
     "output_type": "execute_result"
    }
   ],
   "source": [
    "from datasets import load_dataset\n",
    "\n",
    "data_ljp_criminal = load_dataset(\"lbox/lbox_open\", \"ljp_criminal\")\n",
    "data_ljp_criminal"
   ]
  },
  {
   "cell_type": "code",
   "execution_count": 2,
   "metadata": {},
   "outputs": [
    {
     "name": "stderr",
     "output_type": "stream",
     "text": [
      "Loading cached processed dataset at /home/user/.cache/huggingface/datasets/lbox___lbox_open/ljp_criminal/0.2.0/3d5761e2d9292b674a2adabbe7f4bc200d1985908e6f657e7953c9bf247da7ae/cache-26b58faa5ebf6697.arrow\n",
      "Loading cached processed dataset at /home/user/.cache/huggingface/datasets/lbox___lbox_open/ljp_criminal/0.2.0/3d5761e2d9292b674a2adabbe7f4bc200d1985908e6f657e7953c9bf247da7ae/cache-df03410a3183f2e0.arrow\n",
      "Loading cached processed dataset at /home/user/.cache/huggingface/datasets/lbox___lbox_open/ljp_criminal/0.2.0/3d5761e2d9292b674a2adabbe7f4bc200d1985908e6f657e7953c9bf247da7ae/cache-4720b1ce8c4943af.arrow\n",
      "Loading cached processed dataset at /home/user/.cache/huggingface/datasets/lbox___lbox_open/ljp_criminal/0.2.0/3d5761e2d9292b674a2adabbe7f4bc200d1985908e6f657e7953c9bf247da7ae/cache-21830d3d96dda84b.arrow\n"
     ]
    }
   ],
   "source": [
    "import re\n",
    "def clean(example):\n",
    "    example['facts'] = re.sub(r'\\n+', ' ', example['facts'])\n",
    "    return example\n",
    "\n",
    "data_ljp_criminal = data_ljp_criminal.map(clean)"
   ]
  },
  {
   "cell_type": "code",
   "execution_count": 3,
   "metadata": {},
   "outputs": [
    {
     "name": "stdout",
     "output_type": "stream",
     "text": [
      "피고인은 2020. 9. 25. 23:45경 포항시 남구 B에 있는 피해자 C(여, 62세) 운영의 D에서 피해자와 함께 술을 마신 후 결제를 하고 나왔고, 피해자가 피고인을 배웅하자 갑자기 피해자의 양 손목을 잡고 포항시 남구 E에 있는 F 출입구까지 약 20m 가량 끌고 간 뒤, 피해자를 강제로 끌어안고 입을 맞추며 손으로 피해자의 가슴을 수회 만졌다. 이로써 피고인은 피해자를 강제로 추행하였다.\n"
     ]
    }
   ],
   "source": [
    "print(data_ljp_criminal['train'][0]['facts'])"
   ]
  },
  {
   "cell_type": "code",
   "execution_count": 4,
   "metadata": {},
   "outputs": [
    {
     "name": "stdout",
     "output_type": "stream",
     "text": [
      "{'text': '징역 6월', 'fine_lv': 0, 'imprisonment_with_labor_lv': 2, 'imprisonment_without_labor_lv': 0}\n"
     ]
    }
   ],
   "source": [
    "print(data_ljp_criminal['train']['label'][0])"
   ]
  },
  {
   "cell_type": "code",
   "execution_count": 5,
   "metadata": {},
   "outputs": [
    {
     "name": "stdout",
     "output_type": "stream",
     "text": [
      "{'casename': '강제추행',\n",
      " 'casetype': 'criminal',\n",
      " 'facts': '피고인은 2020. 9. 25. 23:45경 포항시 남구 B에 있는 피해자 C(여, 62세) 운영의 D에서 피해자와 함께 '\n",
      "          '술을 마신 후 결제를 하고 나왔고, 피해자가 피고인을 배웅하자 갑자기 피해자의 양 손목을 잡고 포항시 남구 E에 있는 F '\n",
      "          '출입구까지 약 20m 가량 끌고 간 뒤, 피해자를 강제로 끌어안고 입을 맞추며 손으로 피해자의 가슴을 수회 만졌다. '\n",
      "          '이로써 피고인은 피해자를 강제로 추행하였다.',\n",
      " 'id': 0,\n",
      " 'label': {'fine_lv': 0,\n",
      "           'imprisonment_with_labor_lv': 2,\n",
      "           'imprisonment_without_labor_lv': 0,\n",
      "           'text': '징역 6월'},\n",
      " 'reason': '양형의 이유\\n'\n",
      "           '1. 법률상 처단형의 범위: 징역 1월 ∼ 10년\\n'\n",
      "           '2. 양형기준에 따른 권고형의 범위\\n'\n",
      "           '[유형의 결정] 성범죄 > 01. 일반적 기준 > 나. 강제추행죄(13세 이상 대상) > [제1유형] 일반강제추행\\n'\n",
      "           '[특별양형인자] 감경요소 : 처벌불원\\n'\n",
      "           '[권고영역 및 권고형의 범위] 감경영역, 징역 1월∼1년\\n'\n",
      "           '3. 선고형의 결정 :\\n'\n",
      "           '추행의 정도가 가볍지 않은 점을 고려하여 징역형으로 처벌하되, 피고인이 이 사건 범행을 인정하고 있는 점, 피해자와 '\n",
      "           '합의하여 피해자가 피고인의 처벌을 원하지 않는 점, 그 밖에 피고인의 나이, 성행, 환경, 범행의 동기와 경위, 범행 '\n",
      "           '후의 정황 등 이 사건 변론에 나타난 여러 양형조건을 종합하여 주문과 같이 형을 정한다.\\n'\n",
      "           '신상정보 등록 및 제출의무\\n'\n",
      "           '판시 범죄사실에 관한 유죄판결이 확정되는 경우 피고인은 성폭력범죄의 처벌 등에 관한 특례법 제42조 제1항에 의하여 '\n",
      "           '신상정보 등록대상자에 해당하게 되므로, 같은 법 제43조에 따라 관할기관에 신상정보를 제출할 의무가 있다.',\n",
      " 'ruling': {'parse': {'fine': {'type': '', 'unit': '', 'value': -1},\n",
      "                      'imprisonment': {'type': '징역', 'unit': 'mo', 'value': 6}},\n",
      "            'text': '피고인을 징역 6월에 처한다.\\n'\n",
      "                    '다만, 이 판결 확정일부터 2년간 위 형의 집행을 유예한다.\\n'\n",
      "                    '피고인에게 40시간의 성폭력치료강의 수강을 명한다.'}}\n"
     ]
    }
   ],
   "source": [
    "from pprint import pprint\n",
    "pprint(data_ljp_criminal['train'][0])"
   ]
  },
  {
   "cell_type": "code",
   "execution_count": 6,
   "metadata": {},
   "outputs": [
    {
     "name": "stderr",
     "output_type": "stream",
     "text": [
      "Loading cached processed dataset at /home/user/.cache/huggingface/datasets/lbox___lbox_open/ljp_criminal/0.2.0/3d5761e2d9292b674a2adabbe7f4bc200d1985908e6f657e7953c9bf247da7ae/cache-929eaa6ec3f1c4f1.arrow\n",
      "Loading cached processed dataset at /home/user/.cache/huggingface/datasets/lbox___lbox_open/ljp_criminal/0.2.0/3d5761e2d9292b674a2adabbe7f4bc200d1985908e6f657e7953c9bf247da7ae/cache-22e0dc42f497a996.arrow\n",
      "Loading cached processed dataset at /home/user/.cache/huggingface/datasets/lbox___lbox_open/ljp_criminal/0.2.0/3d5761e2d9292b674a2adabbe7f4bc200d1985908e6f657e7953c9bf247da7ae/cache-79b64e43f7e1fb54.arrow\n",
      "Loading cached processed dataset at /home/user/.cache/huggingface/datasets/lbox___lbox_open/ljp_criminal/0.2.0/3d5761e2d9292b674a2adabbe7f4bc200d1985908e6f657e7953c9bf247da7ae/cache-a610127320fccef1.arrow\n"
     ]
    }
   ],
   "source": [
    "data_ljp_criminal = data_ljp_criminal.map(\n",
    "    lambda x: {'text': \n",
    "        f\"\"\"###명령어: 판결 이유를 설명하시오.\n",
    "        \n",
    "###혐의: {x['casename']}\n",
    "        \n",
    "###법률 사실: {x['facts']}\n",
    "        \n",
    "###판결 및 이유: \"\"\"}\n",
    ")\n",
    "\n",
    "# data_ljp_criminal = data_ljp_criminal.map(\n",
    "#     lambda x: {'text': f\"### 명령어: 판결 이유를 설명하시오.\\n\\n###사건 종류: {x['casename']}, 법률사실: {x['facts']}\\n\\n### 답변: {x['reason']}<|endoftext|>\" }\n",
    "# )"
   ]
  },
  {
   "cell_type": "code",
   "execution_count": 7,
   "metadata": {},
   "outputs": [
    {
     "name": "stdout",
     "output_type": "stream",
     "text": [
      "###명령어: 판결 이유를 설명하시오.\n",
      "        \n",
      "###혐의: 강제추행\n",
      "        \n",
      "###법률 사실: 피고인은 2020. 9. 25. 23:45경 포항시 남구 B에 있는 피해자 C(여, 62세) 운영의 D에서 피해자와 함께 술을 마신 후 결제를 하고 나왔고, 피해자가 피고인을 배웅하자 갑자기 피해자의 양 손목을 잡고 포항시 남구 E에 있는 F 출입구까지 약 20m 가량 끌고 간 뒤, 피해자를 강제로 끌어안고 입을 맞추며 손으로 피해자의 가슴을 수회 만졌다. 이로써 피고인은 피해자를 강제로 추행하였다.\n",
      "        \n",
      "###판결 및 이유: \n"
     ]
    }
   ],
   "source": [
    "print(data_ljp_criminal['train']['text'][0])"
   ]
  },
  {
   "cell_type": "code",
   "execution_count": 8,
   "metadata": {},
   "outputs": [],
   "source": [
    "import torch as th\n",
    "from transformers import AutoTokenizer, AutoModelForCausalLM, BitsAndBytesConfig\n",
    "\n",
    "model_ckpt = \"beomi/llama-2-ko-7b\"\n",
    "bnb_config = BitsAndBytesConfig(\n",
    "    load_in_8bits=True, # 4bit quantization\n",
    "    bnb_8bit_use_double_quant=True, # 양자화 상수 공유\n",
    "    bnb_8bit_quant_type=\"nf4\",\n",
    "    bnb_8bit_compute_dtype=th.bfloat16\n",
    ")"
   ]
  },
  {
   "cell_type": "code",
   "execution_count": 9,
   "metadata": {},
   "outputs": [],
   "source": [
    "tokenizer = AutoTokenizer.from_pretrained(model_ckpt, padding_side='right')"
   ]
  },
  {
   "cell_type": "code",
   "execution_count": 10,
   "metadata": {},
   "outputs": [
    {
     "data": {
      "application/vnd.jupyter.widget-view+json": {
       "model_id": "998e4c73a0d849a698c4f149715516d1",
       "version_major": 2,
       "version_minor": 0
      },
      "text/plain": [
       "Loading checkpoint shards:   0%|          | 0/15 [00:00<?, ?it/s]"
      ]
     },
     "metadata": {},
     "output_type": "display_data"
    }
   ],
   "source": [
    "model = AutoModelForCausalLM.from_pretrained(model_ckpt, quantization_config=bnb_config, device_map=\"auto\")"
   ]
  },
  {
   "cell_type": "code",
   "execution_count": 11,
   "metadata": {},
   "outputs": [
    {
     "name": "stdout",
     "output_type": "stream",
     "text": [
      "</s> 2\n"
     ]
    }
   ],
   "source": [
    "tokenizer.pad_token = tokenizer.eos_token\n",
    "print(tokenizer.eos_token, tokenizer.eos_token_id)"
   ]
  },
  {
   "cell_type": "code",
   "execution_count": 12,
   "metadata": {},
   "outputs": [
    {
     "name": "stdout",
     "output_type": "stream",
     "text": [
      "{'parse': {'fine': {'type': '', 'unit': '', 'value': -1},\n",
      "           'imprisonment': {'type': '징역', 'unit': 'mo', 'value': 6}},\n",
      " 'text': '피고인을 징역 6월에 처한다.\\n'\n",
      "         '다만, 이 판결 확정일부터 2년간 위 형의 집행을 유예한다.\\n'\n",
      "         '피고인에게 40시간의 성폭력치료강의 수강을 명한다.'}\n"
     ]
    }
   ],
   "source": [
    "pprint(data_ljp_criminal['train']['ruling'][0])"
   ]
  },
  {
   "cell_type": "code",
   "execution_count": 13,
   "metadata": {},
   "outputs": [
    {
     "name": "stderr",
     "output_type": "stream",
     "text": [
      "Loading cached processed dataset at /home/user/.cache/huggingface/datasets/lbox___lbox_open/ljp_criminal/0.2.0/3d5761e2d9292b674a2adabbe7f4bc200d1985908e6f657e7953c9bf247da7ae/cache-81e18945a96fe842.arrow\n",
      "Loading cached processed dataset at /home/user/.cache/huggingface/datasets/lbox___lbox_open/ljp_criminal/0.2.0/3d5761e2d9292b674a2adabbe7f4bc200d1985908e6f657e7953c9bf247da7ae/cache-77e4c3ef745a3b4c.arrow\n",
      "Loading cached processed dataset at /home/user/.cache/huggingface/datasets/lbox___lbox_open/ljp_criminal/0.2.0/3d5761e2d9292b674a2adabbe7f4bc200d1985908e6f657e7953c9bf247da7ae/cache-e1a19a009dda1ec2.arrow\n",
      "Loading cached processed dataset at /home/user/.cache/huggingface/datasets/lbox___lbox_open/ljp_criminal/0.2.0/3d5761e2d9292b674a2adabbe7f4bc200d1985908e6f657e7953c9bf247da7ae/cache-bdbdfbff7b02b69f.arrow\n"
     ]
    }
   ],
   "source": [
    "def encode(examples):\n",
    "    inputs = tokenizer(examples['text'], truncation=True, padding='max_length', max_length=512)\n",
    "    label_text = [f\"\\n판결 이유: {label['text']}\\n\\n{reason}\" for label, reason in zip(examples['label'], examples['reason'])]\n",
    "    labels = tokenizer(label_text, truncation=True, padding='max_length', max_length=512)\n",
    "    inputs['labels'] = labels['input_ids']  # the labels are the input_ids of the target text\n",
    "    return inputs\n",
    "\n",
    "dataset = data_ljp_criminal.map(encode, batched=True)"
   ]
  },
  {
   "cell_type": "code",
   "execution_count": 14,
   "metadata": {},
   "outputs": [
    {
     "data": {
      "text/plain": [
       "[1,\n",
       " 29871,\n",
       " 13,\n",
       " 44930,\n",
       " 44902,\n",
       " 32583,\n",
       " 29901,\n",
       " 34912,\n",
       " 29871,\n",
       " 29953,\n",
       " 31950,\n",
       " 13,\n",
       " 13,\n",
       " 44910,\n",
       " 44964,\n",
       " 30708,\n",
       " 32583,\n",
       " 13,\n",
       " 29896,\n",
       " 29889,\n",
       " 36791,\n",
       " 31158,\n",
       " 42914,\n",
       " 44964,\n",
       " 30708,\n",
       " 32459,\n",
       " 31724,\n",
       " 29901,\n",
       " 34912,\n",
       " 29871,\n",
       " 29896,\n",
       " 31950,\n",
       " 29871,\n",
       " 31186,\n",
       " 29871,\n",
       " 29896,\n",
       " 29900,\n",
       " 31571,\n",
       " 13,\n",
       " 29906,\n",
       " 29889,\n",
       " 32239,\n",
       " 44964,\n",
       " 36321,\n",
       " 31054,\n",
       " 33945,\n",
       " 37323,\n",
       " 44964,\n",
       " 30708,\n",
       " 32459,\n",
       " 31724,\n",
       " 13,\n",
       " 29961,\n",
       " 31533,\n",
       " 44964,\n",
       " 30708,\n",
       " 33140,\n",
       " 29962,\n",
       " 37299,\n",
       " 1405,\n",
       " 29871,\n",
       " 29900,\n",
       " 29896,\n",
       " 29889,\n",
       " 33039,\n",
       " 44824,\n",
       " 32722,\n",
       " 1405,\n",
       " 32019,\n",
       " 29889,\n",
       " 34289,\n",
       " 35867,\n",
       " 44966,\n",
       " 29898,\n",
       " 29896,\n",
       " 29941,\n",
       " 31578,\n",
       " 32309,\n",
       " 32794,\n",
       " 29897,\n",
       " 1405,\n",
       " 518,\n",
       " 31306,\n",
       " 29896,\n",
       " 31533,\n",
       " 44964,\n",
       " 29962,\n",
       " 33039,\n",
       " 31774,\n",
       " 31306,\n",
       " 35867,\n",
       " 13,\n",
       " 29961,\n",
       " 36776,\n",
       " 44910,\n",
       " 44964,\n",
       " 30918,\n",
       " 31013,\n",
       " 29962,\n",
       " 32088,\n",
       " 31378,\n",
       " 31527,\n",
       " 31189,\n",
       " 584,\n",
       " 33251,\n",
       " 44879,\n",
       " 31198,\n",
       " 13,\n",
       " 29961,\n",
       " 44862,\n",
       " 31137,\n",
       " 31288,\n",
       " 31987,\n",
       " 32356,\n",
       " 37323,\n",
       " 44964,\n",
       " 30708,\n",
       " 32459,\n",
       " 31724,\n",
       " 29962,\n",
       " 32088,\n",
       " 34647,\n",
       " 31987,\n",
       " 29892,\n",
       " 34912,\n",
       " 29871,\n",
       " 29896,\n",
       " 31950,\n",
       " 31186,\n",
       " 29896,\n",
       " 31571,\n",
       " 13,\n",
       " 29941,\n",
       " 29889,\n",
       " 35530,\n",
       " 44964,\n",
       " 30708,\n",
       " 33140,\n",
       " 584,\n",
       " 13,\n",
       " 35867,\n",
       " 30708,\n",
       " 42411,\n",
       " 35324,\n",
       " 30811,\n",
       " 33018,\n",
       " 36043,\n",
       " 33689,\n",
       " 32932,\n",
       " 34912,\n",
       " 41785,\n",
       " 33251,\n",
       " 30944,\n",
       " 44833,\n",
       " 29892,\n",
       " 42117,\n",
       " 32385,\n",
       " 32001,\n",
       " 32821,\n",
       " 44122,\n",
       " 40640,\n",
       " 32123,\n",
       " 32414,\n",
       " 29892,\n",
       " 33671,\n",
       " 44834,\n",
       " 34736,\n",
       " 32932,\n",
       " 40041,\n",
       " 42117,\n",
       " 32941,\n",
       " 41093,\n",
       " 32133,\n",
       " 32175,\n",
       " 33050,\n",
       " 32414,\n",
       " 29892,\n",
       " 32004,\n",
       " 33933,\n",
       " 42117,\n",
       " 32941,\n",
       " 34110,\n",
       " 29892,\n",
       " 32145,\n",
       " 44853,\n",
       " 29892,\n",
       " 33235,\n",
       " 29892,\n",
       " 38440,\n",
       " 30708,\n",
       " 32135,\n",
       " 36052,\n",
       " 32046,\n",
       " 31724,\n",
       " 29892,\n",
       " 38440,\n",
       " 32147,\n",
       " 30708,\n",
       " 42070,\n",
       " 32055,\n",
       " 32001,\n",
       " 32821,\n",
       " 32359,\n",
       " 44976,\n",
       " 31054,\n",
       " 33161,\n",
       " 44868,\n",
       " 32709,\n",
       " 32239,\n",
       " 44964,\n",
       " 33354,\n",
       " 31286,\n",
       " 34713,\n",
       " 32932,\n",
       " 32996,\n",
       " 31906,\n",
       " 32896,\n",
       " 32683,\n",
       " 31286,\n",
       " 32010,\n",
       " 32079,\n",
       " 29889,\n",
       " 13,\n",
       " 31262,\n",
       " 31158,\n",
       " 33869,\n",
       " 35215,\n",
       " 32356,\n",
       " 34764,\n",
       " 30708,\n",
       " 31716,\n",
       " 13,\n",
       " 44930,\n",
       " 30889,\n",
       " 32733,\n",
       " 35206,\n",
       " 31054,\n",
       " 35718,\n",
       " 40388,\n",
       " 44930,\n",
       " 44902,\n",
       " 30393,\n",
       " 34245,\n",
       " 32312,\n",
       " 32734,\n",
       " 42117,\n",
       " 32737,\n",
       " 44284,\n",
       " 33681,\n",
       " 30708,\n",
       " 33251,\n",
       " 33548,\n",
       " 35718,\n",
       " 32198,\n",
       " 45156,\n",
       " 44899,\n",
       " 32032,\n",
       " 29946,\n",
       " 29906,\n",
       " 31408,\n",
       " 32032,\n",
       " 29896,\n",
       " 45042,\n",
       " 31054,\n",
       " 32090,\n",
       " 32932,\n",
       " 44416,\n",
       " 33869,\n",
       " 35215,\n",
       " 35885,\n",
       " 34964,\n",
       " 33206,\n",
       " 32108,\n",
       " 32117,\n",
       " 37891,\n",
       " 29892,\n",
       " 32280,\n",
       " 32227,\n",
       " 32032,\n",
       " 29946,\n",
       " 29941,\n",
       " 43315,\n",
       " 32567,\n",
       " 32093,\n",
       " 44827,\n",
       " 33058,\n",
       " 31054,\n",
       " 44416,\n",
       " 30852,\n",
       " 33138,\n",
       " 34764,\n",
       " 44827,\n",
       " 34472,\n",
       " 30903,\n",
       " 32065,\n",
       " 29889,\n",
       " 2,\n",
       " 2,\n",
       " 2,\n",
       " 2,\n",
       " 2,\n",
       " 2,\n",
       " 2,\n",
       " 2,\n",
       " 2,\n",
       " 2,\n",
       " 2,\n",
       " 2,\n",
       " 2,\n",
       " 2,\n",
       " 2,\n",
       " 2,\n",
       " 2,\n",
       " 2,\n",
       " 2,\n",
       " 2,\n",
       " 2,\n",
       " 2,\n",
       " 2,\n",
       " 2,\n",
       " 2,\n",
       " 2,\n",
       " 2,\n",
       " 2,\n",
       " 2,\n",
       " 2,\n",
       " 2,\n",
       " 2,\n",
       " 2,\n",
       " 2,\n",
       " 2,\n",
       " 2,\n",
       " 2,\n",
       " 2,\n",
       " 2,\n",
       " 2,\n",
       " 2,\n",
       " 2,\n",
       " 2,\n",
       " 2,\n",
       " 2,\n",
       " 2,\n",
       " 2,\n",
       " 2,\n",
       " 2,\n",
       " 2,\n",
       " 2,\n",
       " 2,\n",
       " 2,\n",
       " 2,\n",
       " 2,\n",
       " 2,\n",
       " 2,\n",
       " 2,\n",
       " 2,\n",
       " 2,\n",
       " 2,\n",
       " 2,\n",
       " 2,\n",
       " 2,\n",
       " 2,\n",
       " 2,\n",
       " 2,\n",
       " 2,\n",
       " 2,\n",
       " 2,\n",
       " 2,\n",
       " 2,\n",
       " 2,\n",
       " 2,\n",
       " 2,\n",
       " 2,\n",
       " 2,\n",
       " 2,\n",
       " 2,\n",
       " 2,\n",
       " 2,\n",
       " 2,\n",
       " 2,\n",
       " 2,\n",
       " 2,\n",
       " 2,\n",
       " 2,\n",
       " 2,\n",
       " 2,\n",
       " 2,\n",
       " 2,\n",
       " 2,\n",
       " 2,\n",
       " 2,\n",
       " 2,\n",
       " 2,\n",
       " 2,\n",
       " 2,\n",
       " 2,\n",
       " 2,\n",
       " 2,\n",
       " 2,\n",
       " 2,\n",
       " 2,\n",
       " 2,\n",
       " 2,\n",
       " 2,\n",
       " 2,\n",
       " 2,\n",
       " 2,\n",
       " 2,\n",
       " 2,\n",
       " 2,\n",
       " 2,\n",
       " 2,\n",
       " 2,\n",
       " 2,\n",
       " 2,\n",
       " 2,\n",
       " 2,\n",
       " 2,\n",
       " 2,\n",
       " 2,\n",
       " 2,\n",
       " 2,\n",
       " 2,\n",
       " 2,\n",
       " 2,\n",
       " 2,\n",
       " 2,\n",
       " 2,\n",
       " 2,\n",
       " 2,\n",
       " 2,\n",
       " 2,\n",
       " 2,\n",
       " 2,\n",
       " 2,\n",
       " 2,\n",
       " 2,\n",
       " 2,\n",
       " 2,\n",
       " 2,\n",
       " 2,\n",
       " 2,\n",
       " 2,\n",
       " 2,\n",
       " 2,\n",
       " 2,\n",
       " 2,\n",
       " 2,\n",
       " 2,\n",
       " 2,\n",
       " 2,\n",
       " 2,\n",
       " 2,\n",
       " 2,\n",
       " 2,\n",
       " 2,\n",
       " 2,\n",
       " 2,\n",
       " 2,\n",
       " 2,\n",
       " 2,\n",
       " 2,\n",
       " 2,\n",
       " 2,\n",
       " 2,\n",
       " 2,\n",
       " 2,\n",
       " 2,\n",
       " 2,\n",
       " 2,\n",
       " 2,\n",
       " 2,\n",
       " 2,\n",
       " 2,\n",
       " 2,\n",
       " 2,\n",
       " 2,\n",
       " 2,\n",
       " 2,\n",
       " 2,\n",
       " 2,\n",
       " 2,\n",
       " 2,\n",
       " 2,\n",
       " 2,\n",
       " 2,\n",
       " 2,\n",
       " 2,\n",
       " 2,\n",
       " 2,\n",
       " 2,\n",
       " 2,\n",
       " 2,\n",
       " 2,\n",
       " 2,\n",
       " 2,\n",
       " 2,\n",
       " 2,\n",
       " 2,\n",
       " 2,\n",
       " 2,\n",
       " 2,\n",
       " 2,\n",
       " 2,\n",
       " 2,\n",
       " 2,\n",
       " 2,\n",
       " 2,\n",
       " 2,\n",
       " 2,\n",
       " 2,\n",
       " 2,\n",
       " 2]"
      ]
     },
     "execution_count": 14,
     "metadata": {},
     "output_type": "execute_result"
    }
   ],
   "source": [
    "dataset['train']['labels'][0]"
   ]
  },
  {
   "cell_type": "code",
   "execution_count": 15,
   "metadata": {},
   "outputs": [
    {
     "name": "stderr",
     "output_type": "stream",
     "text": [
      "2023-07-31 12:06:32.201415: I tensorflow/core/platform/cpu_feature_guard.cc:193] This TensorFlow binary is optimized with oneAPI Deep Neural Network Library (oneDNN) to use the following CPU instructions in performance-critical operations:  AVX2 AVX512F AVX512_VNNI FMA\n",
      "To enable them in other operations, rebuild TensorFlow with the appropriate compiler flags.\n",
      "2023-07-31 12:06:32.335734: I tensorflow/core/util/port.cc:104] oneDNN custom operations are on. You may see slightly different numerical results due to floating-point round-off errors from different computation orders. To turn them off, set the environment variable `TF_ENABLE_ONEDNN_OPTS=0`.\n",
      "2023-07-31 12:06:32.925547: W tensorflow/compiler/xla/stream_executor/platform/default/dso_loader.cc:64] Could not load dynamic library 'libnvinfer.so.7'; dlerror: libnvinfer.so.7: cannot open shared object file: No such file or directory; LD_LIBRARY_PATH: /usr/local/cuda-11.8/lib64${LD_LIBRARY_PATH:+:/usr/lib/mesa-diverted/x86_64-linux-gnu:/usr/lib/x86_64-linux-gnu/mesa:/usr/lib/x86_64-linux-gnu/dri:/usr/lib/x86_64-linux-gnu/gallium-pipe:/usr/local/cuda-11.8/lib64}\n",
      "2023-07-31 12:06:32.925609: W tensorflow/compiler/xla/stream_executor/platform/default/dso_loader.cc:64] Could not load dynamic library 'libnvinfer_plugin.so.7'; dlerror: libnvinfer_plugin.so.7: cannot open shared object file: No such file or directory; LD_LIBRARY_PATH: /usr/local/cuda-11.8/lib64${LD_LIBRARY_PATH:+:/usr/lib/mesa-diverted/x86_64-linux-gnu:/usr/lib/x86_64-linux-gnu/mesa:/usr/lib/x86_64-linux-gnu/dri:/usr/lib/x86_64-linux-gnu/gallium-pipe:/usr/local/cuda-11.8/lib64}\n",
      "2023-07-31 12:06:32.925614: W tensorflow/compiler/tf2tensorrt/utils/py_utils.cc:38] TF-TRT Warning: Cannot dlopen some TensorRT libraries. If you would like to use Nvidia GPU with TensorRT, please make sure the missing libraries mentioned above are installed properly.\n"
     ]
    },
    {
     "name": "stdout",
     "output_type": "stream",
     "text": [
      "<s> \n",
      "판결 이유: 징역 6월\n",
      "\n",
      "양형의 이유\n",
      "1. 법률상 처단형의 범위: 징역 1월 ∼ 10년\n",
      "2. 양형기준에 따른 권고형의 범위\n",
      "[유형의 결정] 성범죄 > 01. 일반적 기준 > 나. 강제추행죄(13세 이상 대상) > [제1유형] 일반강제추행\n",
      "[특별양형인자] 감경요소 : 처벌불원\n",
      "[권고영역 및 권고형의 범위] 감경영역, 징역 1월∼1년\n",
      "3. 선고형의 결정 :\n",
      "추행의 정도가 가볍지 않은 점을 고려하여 징역형으로 처벌하되, 피고인이 이 사건 범행을 인정하고 있는 점, 피해자와 합의하여 피해자가 피고인의 처벌을 원하지 않는 점, 그 밖에 피고인의 나이, 성행, 환경, 범행의 동기와 경위, 범행 후의 정황 등 이 사건 변론에 나타난 여러 양형조건을 종합하여 주문과 같이 형을 정한다.\n",
      "신상정보 등록 및 제출의무\n",
      "판시 범죄사실에 관한 유죄판결이 확정되는 경우 피고인은 성폭력범죄의 처벌 등에 관한 특례법 제42조 제1항에 의하여 신상정보 등록대상자에 해당하게 되므로, 같은 법 제43조에 따라 관할기관에 신상정보를 제출할 의무가 있다.</s></s></s></s></s></s></s></s></s></s></s></s></s></s></s></s></s></s></s></s></s></s></s></s></s></s></s></s></s></s></s></s></s></s></s></s></s></s></s></s></s></s></s></s></s></s></s></s></s></s></s></s></s></s></s></s></s></s></s></s></s></s></s></s></s></s></s></s></s></s></s></s></s></s></s></s></s></s></s></s></s></s></s></s></s></s></s></s></s></s></s></s></s></s></s></s></s></s></s></s></s></s></s></s></s></s></s></s></s></s></s></s></s></s></s></s></s></s></s></s></s></s></s></s></s></s></s></s></s></s></s></s></s></s></s></s></s></s></s></s></s></s></s></s></s></s></s></s></s></s></s></s></s></s></s></s></s></s></s></s></s></s></s></s></s></s></s></s></s></s></s></s></s></s></s></s></s></s></s></s></s></s></s></s></s></s></s></s></s></s></s></s></s></s></s></s></s></s></s></s></s></s></s></s></s></s></s></s></s></s></s></s></s></s></s></s>\n"
     ]
    }
   ],
   "source": [
    "print(tokenizer.decode(dataset['train']['labels'][0]))"
   ]
  },
  {
   "cell_type": "code",
   "execution_count": 16,
   "metadata": {},
   "outputs": [
    {
     "data": {
      "text/plain": [
       "DatasetDict({\n",
       "    train: Dataset({\n",
       "        features: ['id', 'casetype', 'casename', 'facts', 'reason', 'label', 'ruling', 'text', 'input_ids', 'attention_mask', 'labels'],\n",
       "        num_rows: 8400\n",
       "    })\n",
       "    validation: Dataset({\n",
       "        features: ['id', 'casetype', 'casename', 'facts', 'reason', 'label', 'ruling', 'text', 'input_ids', 'attention_mask', 'labels'],\n",
       "        num_rows: 1050\n",
       "    })\n",
       "    test: Dataset({\n",
       "        features: ['id', 'casetype', 'casename', 'facts', 'reason', 'label', 'ruling', 'text', 'input_ids', 'attention_mask', 'labels'],\n",
       "        num_rows: 1050\n",
       "    })\n",
       "    test2: Dataset({\n",
       "        features: ['id', 'casetype', 'casename', 'facts', 'reason', 'label', 'ruling', 'text', 'input_ids', 'attention_mask', 'labels'],\n",
       "        num_rows: 928\n",
       "    })\n",
       "})"
      ]
     },
     "execution_count": 16,
     "metadata": {},
     "output_type": "execute_result"
    }
   ],
   "source": [
    "dataset"
   ]
  },
  {
   "cell_type": "code",
   "execution_count": 17,
   "metadata": {},
   "outputs": [
    {
     "name": "stdout",
     "output_type": "stream",
     "text": [
      "<s> ###명령어: 판결 이유를 설명하시오.\n",
      "        \n",
      "###혐의: 강제추행\n",
      "        \n",
      "###법률 사실: 피고인은 2020. 9. 25. 23:45경 포항시 남구 B에 있는 피해자 C(여, 62세) 운영의 D에서 피해자와 함께 술을 마신 후 결제를 하고 나왔고, 피해자가 피고인을 배웅하자 갑자기 피해자의 양 손목을 잡고 포항시 남구 E에 있는 F 출입구까지 약 20m 가량 끌고 간 뒤, 피해자를 강제로 끌어안고 입을 맞추며 손으로 피해자의 가슴을 수회 만졌다. 이로써 피고인은 피해자를 강제로 추행하였다.\n",
      "        \n",
      "###판결 및 이유: </s></s></s></s></s></s></s></s></s></s></s></s></s></s></s></s></s></s></s></s></s></s></s></s></s></s></s></s></s></s></s></s></s></s></s></s></s></s></s></s></s></s></s></s></s></s></s></s></s></s></s></s></s></s></s></s></s></s></s></s></s></s></s></s></s></s></s></s></s></s></s></s></s></s></s></s></s></s></s></s></s></s></s></s></s></s></s></s></s></s></s></s></s></s></s></s></s></s></s></s></s></s></s></s></s></s></s></s></s></s></s></s></s></s></s></s></s></s></s></s></s></s></s></s></s></s></s></s></s></s></s></s></s></s></s></s></s></s></s></s></s></s></s></s></s></s></s></s></s></s></s></s></s></s></s></s></s></s></s></s></s></s></s></s></s></s></s></s></s></s></s></s></s></s></s></s></s></s></s></s></s></s></s></s></s></s></s></s></s></s></s></s></s></s></s></s></s></s></s></s></s></s></s></s></s></s></s></s></s></s></s></s></s></s></s></s></s></s></s></s></s></s></s></s></s></s></s></s></s></s></s></s></s></s></s></s></s></s></s></s></s></s></s></s></s></s></s></s></s></s></s></s></s></s></s></s></s></s></s></s></s></s></s></s></s></s></s></s></s></s></s></s></s></s></s></s></s></s></s></s></s></s></s></s></s></s></s></s></s></s></s></s></s></s></s></s></s></s></s></s></s></s></s></s></s></s></s></s></s></s></s></s></s></s></s></s></s></s></s></s></s></s></s></s></s></s></s></s></s></s></s></s></s></s></s></s></s></s></s></s></s></s></s></s></s></s></s></s></s></s></s>\n",
      "<s> \n",
      "판결 이유: 징역 6월\n",
      "\n",
      "양형의 이유\n",
      "1. 법률상 처단형의 범위: 징역 1월 ∼ 10년\n",
      "2. 양형기준에 따른 권고형의 범위\n",
      "[유형의 결정] 성범죄 > 01. 일반적 기준 > 나. 강제추행죄(13세 이상 대상) > [제1유형] 일반강제추행\n",
      "[특별양형인자] 감경요소 : 처벌불원\n",
      "[권고영역 및 권고형의 범위] 감경영역, 징역 1월∼1년\n",
      "3. 선고형의 결정 :\n",
      "추행의 정도가 가볍지 않은 점을 고려하여 징역형으로 처벌하되, 피고인이 이 사건 범행을 인정하고 있는 점, 피해자와 합의하여 피해자가 피고인의 처벌을 원하지 않는 점, 그 밖에 피고인의 나이, 성행, 환경, 범행의 동기와 경위, 범행 후의 정황 등 이 사건 변론에 나타난 여러 양형조건을 종합하여 주문과 같이 형을 정한다.\n",
      "신상정보 등록 및 제출의무\n",
      "판시 범죄사실에 관한 유죄판결이 확정되는 경우 피고인은 성폭력범죄의 처벌 등에 관한 특례법 제42조 제1항에 의하여 신상정보 등록대상자에 해당하게 되므로, 같은 법 제43조에 따라 관할기관에 신상정보를 제출할 의무가 있다.</s></s></s></s></s></s></s></s></s></s></s></s></s></s></s></s></s></s></s></s></s></s></s></s></s></s></s></s></s></s></s></s></s></s></s></s></s></s></s></s></s></s></s></s></s></s></s></s></s></s></s></s></s></s></s></s></s></s></s></s></s></s></s></s></s></s></s></s></s></s></s></s></s></s></s></s></s></s></s></s></s></s></s></s></s></s></s></s></s></s></s></s></s></s></s></s></s></s></s></s></s></s></s></s></s></s></s></s></s></s></s></s></s></s></s></s></s></s></s></s></s></s></s></s></s></s></s></s></s></s></s></s></s></s></s></s></s></s></s></s></s></s></s></s></s></s></s></s></s></s></s></s></s></s></s></s></s></s></s></s></s></s></s></s></s></s></s></s></s></s></s></s></s></s></s></s></s></s></s></s></s></s></s></s></s></s></s></s></s></s></s></s></s></s></s></s></s></s></s></s></s></s></s></s></s></s></s></s></s></s></s></s></s></s></s></s>\n"
     ]
    }
   ],
   "source": [
    "print(tokenizer.decode(dataset['train']['input_ids'][0]))\n",
    "print(tokenizer.decode(dataset['train']['labels'][0]))"
   ]
  },
  {
   "cell_type": "code",
   "execution_count": 18,
   "metadata": {},
   "outputs": [],
   "source": [
    "from peft import prepare_model_for_kbit_training\n",
    "\n",
    "model.gradient_checkpointing_enable()\n",
    "model = prepare_model_for_kbit_training(model)"
   ]
  },
  {
   "cell_type": "code",
   "execution_count": 19,
   "metadata": {},
   "outputs": [],
   "source": [
    "def print_trainable_parameters(model):\n",
    "    \"\"\"\n",
    "    Prints the number of trainable parameters in the model.\n",
    "    \"\"\"\n",
    "    trainable_params = 0\n",
    "    all_param = 0\n",
    "    for _, param in model.named_parameters():\n",
    "        all_param += param.numel()\n",
    "        if param.requires_grad:\n",
    "            trainable_params += param.numel()\n",
    "    print(\n",
    "        f\"trainable params: {trainable_params} || all params: {all_param} || trainable%: {100 * trainable_params / all_param}\"\n",
    "    )"
   ]
  },
  {
   "cell_type": "code",
   "execution_count": 20,
   "metadata": {},
   "outputs": [
    {
     "name": "stdout",
     "output_type": "stream",
     "text": [
      "trainable params: 4,194,304 || all params: 6,860,050,432 || trainable%: 0.06114100824149743\n"
     ]
    }
   ],
   "source": [
    "from peft import LoraConfig, get_peft_model\n",
    "\n",
    "peft_config = LoraConfig(\n",
    "    r=8, # attention dim\n",
    "    lora_alpha=32, # LoRA 스케일링 파라미터\n",
    "    target_modules=[\"q_proj\", \"v_proj\"], # LoRA 적용할 모듈\n",
    "    # target_modules=[\"query_key_value\"] : 오류 발생(이유 모름)\n",
    "    lora_dropout=0.05, # LoRA 드롭아웃\n",
    "    bias=\"none\",\n",
    "    task_type=\"CAUSAL_LM\",\n",
    ")\n",
    "\n",
    "peft_config.inference_mode = False\n",
    "model = get_peft_model(model, peft_config)\n",
    "model.print_trainable_parameters()"
   ]
  },
  {
   "cell_type": "code",
   "execution_count": 21,
   "metadata": {},
   "outputs": [
    {
     "name": "stdout",
     "output_type": "stream",
     "text": [
      "Device: cuda\n",
      "Current cuda device: 0\n",
      "Count of using GPUs: 4\n"
     ]
    }
   ],
   "source": [
    "device = th.device(\"cuda\" if th.cuda.is_available() else \"cpu\")\n",
    "\n",
    "print('Device:', device)\n",
    "print('Current cuda device:', th.cuda.current_device())\n",
    "print('Count of using GPUs:', th.cuda.device_count())"
   ]
  },
  {
   "cell_type": "code",
   "execution_count": 22,
   "metadata": {},
   "outputs": [
    {
     "data": {
      "text/plain": [
       "Dataset({\n",
       "    features: ['id', 'casetype', 'casename', 'facts', 'reason', 'label', 'ruling', 'text', 'input_ids', 'attention_mask', 'labels'],\n",
       "    num_rows: 8400\n",
       "})"
      ]
     },
     "execution_count": 22,
     "metadata": {},
     "output_type": "execute_result"
    }
   ],
   "source": [
    "dataset.set_format(type='torch', columns=['input_ids', 'attention_mask', 'labels'])\n",
    "dataset['train']"
   ]
  },
  {
   "cell_type": "code",
   "execution_count": 23,
   "metadata": {},
   "outputs": [
    {
     "name": "stderr",
     "output_type": "stream",
     "text": [
      "Failed to detect the name of this notebook, you can set it manually with the WANDB_NOTEBOOK_NAME environment variable to enable code saving.\n",
      "\u001b[34m\u001b[1mwandb\u001b[0m: Currently logged in as: \u001b[33mbluesun\u001b[0m. Use \u001b[1m`wandb login --relogin`\u001b[0m to force relogin\n"
     ]
    },
    {
     "data": {
      "text/html": [
       "wandb version 0.15.7 is available!  To upgrade, please run:\n",
       " $ pip install wandb --upgrade"
      ],
      "text/plain": [
       "<IPython.core.display.HTML object>"
      ]
     },
     "metadata": {},
     "output_type": "display_data"
    },
    {
     "data": {
      "text/html": [
       "Tracking run with wandb version 0.15.4"
      ],
      "text/plain": [
       "<IPython.core.display.HTML object>"
      ]
     },
     "metadata": {},
     "output_type": "display_data"
    },
    {
     "data": {
      "text/html": [
       "Run data is saved locally in <code>/home/user/PycharmProjects/legal_prediction/chatbot/llama2/wandb/run-20230731_120649-24e02fne</code>"
      ],
      "text/plain": [
       "<IPython.core.display.HTML object>"
      ]
     },
     "metadata": {},
     "output_type": "display_data"
    },
    {
     "data": {
      "text/html": [
       "Syncing run <strong><a href='https://wandb.ai/bluesun/huggingface/runs/24e02fne' target=\"_blank\">jumping-resonance-8</a></strong> to <a href='https://wandb.ai/bluesun/huggingface' target=\"_blank\">Weights & Biases</a> (<a href='https://wandb.me/run' target=\"_blank\">docs</a>)<br/>"
      ],
      "text/plain": [
       "<IPython.core.display.HTML object>"
      ]
     },
     "metadata": {},
     "output_type": "display_data"
    },
    {
     "data": {
      "text/html": [
       " View project at <a href='https://wandb.ai/bluesun/huggingface' target=\"_blank\">https://wandb.ai/bluesun/huggingface</a>"
      ],
      "text/plain": [
       "<IPython.core.display.HTML object>"
      ]
     },
     "metadata": {},
     "output_type": "display_data"
    },
    {
     "data": {
      "text/html": [
       " View run at <a href='https://wandb.ai/bluesun/huggingface/runs/24e02fne' target=\"_blank\">https://wandb.ai/bluesun/huggingface/runs/24e02fne</a>"
      ],
      "text/plain": [
       "<IPython.core.display.HTML object>"
      ]
     },
     "metadata": {},
     "output_type": "display_data"
    },
    {
     "data": {
      "application/vnd.jupyter.widget-view+json": {
       "model_id": "bab02f996cd44f80bc849c97ac3b51a6",
       "version_major": 2,
       "version_minor": 0
      },
      "text/plain": [
       "  0%|          | 0/1050 [00:00<?, ?it/s]"
      ]
     },
     "metadata": {},
     "output_type": "display_data"
    },
    {
     "name": "stderr",
     "output_type": "stream",
     "text": [
      "You're using a LlamaTokenizerFast tokenizer. Please note that with a fast tokenizer, using the `__call__` method is faster than using a method to encode the text followed by a call to the `pad` method to get a padded encoding.\n"
     ]
    },
    {
     "name": "stdout",
     "output_type": "stream",
     "text": [
      "{'loss': 2.675, 'learning_rate': 8.000000000000001e-06, 'epoch': 0.02}\n",
      "{'loss': 2.6416, 'learning_rate': 1.6000000000000003e-05, 'epoch': 0.04}\n",
      "{'loss': 2.4462, 'learning_rate': 2.4e-05, 'epoch': 0.06}\n",
      "{'loss': 2.1424, 'learning_rate': 3.2000000000000005e-05, 'epoch': 0.08}\n",
      "{'loss': 1.6494, 'learning_rate': 4e-05, 'epoch': 0.1}\n",
      "{'loss': 1.3836, 'learning_rate': 4.8e-05, 'epoch': 0.11}\n",
      "{'loss': 1.3069, 'learning_rate': 5.6000000000000006e-05, 'epoch': 0.13}\n",
      "{'loss': 1.2841, 'learning_rate': 6.400000000000001e-05, 'epoch': 0.15}\n",
      "{'loss': 1.2206, 'learning_rate': 7.2e-05, 'epoch': 0.17}\n",
      "{'loss': 1.1855, 'learning_rate': 8e-05, 'epoch': 0.19}\n",
      "{'loss': 1.1465, 'learning_rate': 8.800000000000001e-05, 'epoch': 0.21}\n",
      "{'loss': 1.1394, 'learning_rate': 9.6e-05, 'epoch': 0.23}\n",
      "{'loss': 1.1238, 'learning_rate': 0.00010400000000000001, 'epoch': 0.25}\n",
      "{'loss': 1.1095, 'learning_rate': 0.00011200000000000001, 'epoch': 0.27}\n",
      "{'loss': 1.1056, 'learning_rate': 0.00012, 'epoch': 0.29}\n",
      "{'loss': 1.1305, 'learning_rate': 0.00012800000000000002, 'epoch': 0.3}\n",
      "{'loss': 1.148, 'learning_rate': 0.00013600000000000003, 'epoch': 0.32}\n",
      "{'loss': 1.1095, 'learning_rate': 0.000144, 'epoch': 0.34}\n",
      "{'loss': 1.0882, 'learning_rate': 0.000152, 'epoch': 0.36}\n",
      "{'loss': 1.0914, 'learning_rate': 0.00016, 'epoch': 0.38}\n",
      "{'loss': 1.1009, 'learning_rate': 0.000168, 'epoch': 0.4}\n",
      "{'loss': 1.172, 'learning_rate': 0.00017600000000000002, 'epoch': 0.42}\n",
      "{'loss': 1.0644, 'learning_rate': 0.0001832, 'epoch': 0.44}\n",
      "{'loss': 1.0843, 'learning_rate': 0.0001912, 'epoch': 0.46}\n",
      "{'loss': 1.0598, 'learning_rate': 0.0001984, 'epoch': 0.48}\n",
      "{'loss': 1.0652, 'learning_rate': 0.00019800000000000002, 'epoch': 0.5}\n",
      "{'loss': 1.099, 'learning_rate': 0.00019575000000000001, 'epoch': 0.51}\n",
      "{'loss': 1.0953, 'learning_rate': 0.00019325, 'epoch': 0.53}\n",
      "{'loss': 1.0847, 'learning_rate': 0.00019075, 'epoch': 0.55}\n",
      "{'loss': 1.076, 'learning_rate': 0.00018825000000000002, 'epoch': 0.57}\n",
      "{'loss': 1.0745, 'learning_rate': 0.00018575, 'epoch': 0.59}\n",
      "{'loss': 1.0694, 'learning_rate': 0.00018325, 'epoch': 0.61}\n",
      "{'loss': 1.0328, 'learning_rate': 0.00018075000000000003, 'epoch': 0.63}\n",
      "{'loss': 1.0757, 'learning_rate': 0.00017825, 'epoch': 0.65}\n",
      "{'loss': 1.0677, 'learning_rate': 0.00017625, 'epoch': 0.67}\n",
      "{'loss': 1.1669, 'learning_rate': 0.00017375000000000002, 'epoch': 0.69}\n",
      "{'loss': 1.1176, 'learning_rate': 0.00017125, 'epoch': 0.7}\n",
      "{'loss': 1.0554, 'learning_rate': 0.00016875, 'epoch': 0.72}\n",
      "{'loss': 1.1074, 'learning_rate': 0.00016625000000000003, 'epoch': 0.74}\n",
      "{'loss': 1.0685, 'learning_rate': 0.00016375, 'epoch': 0.76}\n",
      "{'loss': 1.1036, 'learning_rate': 0.00016125000000000002, 'epoch': 0.78}\n",
      "{'loss': 1.3998, 'learning_rate': 0.00015925000000000002, 'epoch': 0.8}\n",
      "{'loss': 1.1903, 'learning_rate': 0.00015675, 'epoch': 0.82}\n",
      "{'loss': 1.1574, 'learning_rate': 0.00015425, 'epoch': 0.84}\n",
      "{'loss': 1.0809, 'learning_rate': 0.00015175, 'epoch': 0.86}\n",
      "{'loss': 1.1208, 'learning_rate': 0.00014925, 'epoch': 0.88}\n",
      "{'loss': 1.0492, 'learning_rate': 0.00014675000000000002, 'epoch': 0.9}\n",
      "{'loss': 1.0728, 'learning_rate': 0.00014425, 'epoch': 0.91}\n",
      "{'loss': 1.0859, 'learning_rate': 0.00014175, 'epoch': 0.93}\n",
      "{'loss': 1.0157, 'learning_rate': 0.00013925000000000002, 'epoch': 0.95}\n",
      "{'loss': 1.0431, 'learning_rate': 0.00013675, 'epoch': 0.97}\n",
      "{'loss': 1.0882, 'learning_rate': 0.00013425, 'epoch': 0.99}\n",
      "{'loss': 0.9703, 'learning_rate': 0.00013175, 'epoch': 1.01}\n",
      "{'loss': 1.0433, 'learning_rate': 0.00012925, 'epoch': 1.03}\n",
      "{'loss': 0.9704, 'learning_rate': 0.00012675000000000002, 'epoch': 1.05}\n",
      "{'loss': 1.0601, 'learning_rate': 0.00012425, 'epoch': 1.07}\n",
      "{'loss': 0.9838, 'learning_rate': 0.00012175, 'epoch': 1.09}\n",
      "{'loss': 1.0362, 'learning_rate': 0.00011925, 'epoch': 1.1}\n",
      "{'loss': 1.039, 'learning_rate': 0.00011675, 'epoch': 1.12}\n",
      "{'loss': 1.0257, 'learning_rate': 0.00011425000000000001, 'epoch': 1.14}\n",
      "{'loss': 0.9933, 'learning_rate': 0.00011175, 'epoch': 1.16}\n",
      "{'loss': 1.1342, 'learning_rate': 0.00010925000000000001, 'epoch': 1.18}\n",
      "{'loss': 1.0313, 'learning_rate': 0.00010674999999999999, 'epoch': 1.2}\n",
      "{'loss': 1.054, 'learning_rate': 0.00010425, 'epoch': 1.22}\n",
      "{'loss': 1.0378, 'learning_rate': 0.00010175, 'epoch': 1.24}\n",
      "{'loss': 1.0446, 'learning_rate': 9.925000000000001e-05, 'epoch': 1.26}\n",
      "{'loss': 0.9747, 'learning_rate': 9.675000000000001e-05, 'epoch': 1.28}\n",
      "{'loss': 1.0384, 'learning_rate': 9.425e-05, 'epoch': 1.3}\n",
      "{'loss': 1.0277, 'learning_rate': 9.175000000000001e-05, 'epoch': 1.31}\n",
      "{'loss': 0.9952, 'learning_rate': 8.925e-05, 'epoch': 1.33}\n",
      "{'loss': 1.0321, 'learning_rate': 8.675000000000001e-05, 'epoch': 1.35}\n",
      "{'loss': 1.0274, 'learning_rate': 8.425e-05, 'epoch': 1.37}\n",
      "{'loss': 0.9509, 'learning_rate': 8.175000000000001e-05, 'epoch': 1.39}\n",
      "{'loss': 0.9835, 'learning_rate': 7.925e-05, 'epoch': 1.41}\n",
      "{'loss': 1.0138, 'learning_rate': 7.675e-05, 'epoch': 1.43}\n",
      "{'loss': 1.0319, 'learning_rate': 7.425e-05, 'epoch': 1.45}\n",
      "{'loss': 0.9593, 'learning_rate': 7.175000000000001e-05, 'epoch': 1.47}\n",
      "{'loss': 1.0091, 'learning_rate': 6.925e-05, 'epoch': 1.49}\n",
      "{'loss': 0.9998, 'learning_rate': 6.675e-05, 'epoch': 1.5}\n",
      "{'loss': 1.0254, 'learning_rate': 6.425e-05, 'epoch': 1.52}\n",
      "{'loss': 0.9708, 'learning_rate': 6.175000000000001e-05, 'epoch': 1.54}\n",
      "{'loss': 0.9945, 'learning_rate': 5.9250000000000004e-05, 'epoch': 1.56}\n",
      "{'loss': 1.0099, 'learning_rate': 5.6750000000000004e-05, 'epoch': 1.58}\n",
      "{'loss': 1.051, 'learning_rate': 5.4250000000000004e-05, 'epoch': 1.6}\n",
      "{'loss': 0.9669, 'learning_rate': 5.175e-05, 'epoch': 1.62}\n",
      "{'loss': 0.9834, 'learning_rate': 4.9250000000000004e-05, 'epoch': 1.64}\n",
      "{'loss': 1.0053, 'learning_rate': 4.6750000000000005e-05, 'epoch': 1.66}\n",
      "{'loss': 0.9698, 'learning_rate': 4.4250000000000005e-05, 'epoch': 1.68}\n",
      "{'loss': 0.9458, 'learning_rate': 4.175e-05, 'epoch': 1.7}\n",
      "{'loss': 0.9986, 'learning_rate': 3.9250000000000005e-05, 'epoch': 1.71}\n",
      "{'loss': 0.9821, 'learning_rate': 3.675e-05, 'epoch': 1.73}\n",
      "{'loss': 0.968, 'learning_rate': 3.4250000000000006e-05, 'epoch': 1.75}\n",
      "{'loss': 0.9993, 'learning_rate': 3.175e-05, 'epoch': 1.77}\n",
      "{'loss': 0.9282, 'learning_rate': 2.925e-05, 'epoch': 1.79}\n",
      "{'loss': 0.9133, 'learning_rate': 2.6750000000000003e-05, 'epoch': 1.81}\n",
      "{'loss': 0.9487, 'learning_rate': 2.425e-05, 'epoch': 1.83}\n",
      "{'loss': 0.9568, 'learning_rate': 2.175e-05, 'epoch': 1.85}\n",
      "{'loss': 0.9914, 'learning_rate': 1.925e-05, 'epoch': 1.87}\n",
      "{'loss': 0.9108, 'learning_rate': 1.675e-05, 'epoch': 1.89}\n",
      "{'loss': 0.9377, 'learning_rate': 1.4249999999999999e-05, 'epoch': 1.9}\n",
      "{'loss': 0.9596, 'learning_rate': 1.175e-05, 'epoch': 1.92}\n",
      "{'loss': 0.9561, 'learning_rate': 9.25e-06, 'epoch': 1.94}\n",
      "{'loss': 0.9691, 'learning_rate': 6.750000000000001e-06, 'epoch': 1.96}\n",
      "{'loss': 0.9395, 'learning_rate': 4.250000000000001e-06, 'epoch': 1.98}\n",
      "{'loss': 0.9218, 'learning_rate': 1.7500000000000002e-06, 'epoch': 2.0}\n",
      "{'train_runtime': 7181.408, 'train_samples_per_second': 2.339, 'train_steps_per_second': 0.146, 'train_loss': 1.1137604468209403, 'epoch': 2.0}\n"
     ]
    },
    {
     "data": {
      "text/plain": [
       "TrainOutput(global_step=1050, training_loss=1.1137604468209403, metrics={'train_runtime': 7181.408, 'train_samples_per_second': 2.339, 'train_steps_per_second': 0.146, 'train_loss': 1.1137604468209403, 'epoch': 2.0})"
      ]
     },
     "execution_count": 23,
     "metadata": {},
     "output_type": "execute_result"
    }
   ],
   "source": [
    "import transformers\n",
    "\n",
    "args = transformers.TrainingArguments(\n",
    "    per_device_train_batch_size=16,\n",
    "    gradient_accumulation_steps=1,\n",
    "    warmup_steps=250,\n",
    "    num_train_epochs=2,\n",
    "    learning_rate=2e-4,\n",
    "    # max_grad_norm=2.0,\n",
    "    fp16=True,\n",
    "    logging_steps=10,\n",
    "    output_dir=\"outputs\",\n",
    "    optim=\"paged_adamw_8bit\",\n",
    "    overwrite_output_dir=True,\n",
    ")\n",
    "\n",
    "trainer = transformers.Trainer(\n",
    "    model=model,\n",
    "    train_dataset=dataset[\"train\"],\n",
    "    args=args,\n",
    "    data_collator=transformers.DataCollatorForLanguageModeling(tokenizer, mlm=False),\n",
    ")\n",
    "model.config.use_cache = False \n",
    "trainer.train()"
   ]
  },
  {
   "cell_type": "code",
   "execution_count": 39,
   "metadata": {},
   "outputs": [],
   "source": [
    "# model.eval()\n",
    "# model.config.use_cache = True\n",
    "\n",
    "def gen(casename, facts):\n",
    "    gened = model.generate(\n",
    "        **tokenizer(\n",
    "            f\"\"\"###명령어: 판결 이유를 설명하시오.\n",
    "        \n",
    "###혐의: {casename}\n",
    "        \n",
    "###법률 사실: {facts}\n",
    "        \n",
    "###판결 및 이유: \"\"\",\n",
    "            return_tensors='pt',\n",
    "            return_token_type_ids=False\n",
    "        ),\n",
    "        max_new_tokens=256,\n",
    "        early_stopping=True,\n",
    "        do_sample=True,\n",
    "        eos_token_id=2,\n",
    "    )\n",
    "    return gened\n",
    "        "
   ]
  },
  {
   "cell_type": "code",
   "execution_count": 40,
   "metadata": {},
   "outputs": [
    {
     "name": "stdout",
     "output_type": "stream",
     "text": [
      "{'casename': '교통사고처리특례법위반(치상)',\n",
      " 'casetype': 'criminal',\n",
      " 'facts': '피고인은 (차량번호 1 생략) 코란도 승용차의 운전업무에 종사하는 사람이다. 피고인은 2020. 9. 10. 03:20경 '\n",
      "          '위 승용차를 운전하여 익산시 B에 있는 C 건너편 23번 국도를 익산 방면에서 김제 방면으로 편도 2차로 중 1차로를 '\n",
      "          '따라 진행하게 되었다. 그 곳은 자동차 등의 통행속도가 시속 80킬로미터로 제한되어 있는 구간이므로 자동차 운전업무에 '\n",
      "          '종사하는 사람에게는 제한속도를 지키면서 안전하게 운전하여 사고를 미리 방지하여야 할 업무상 주의의무가 있다. 그럼에도 '\n",
      "          '불구하고, 피고인은 이를 게을리 한 채 제한속도를 시속 75킬로미터 가량 초과한 시속 155킬로미터로 진행한 과실로, '\n",
      "          '술에 취한 상태로 전방 1차로 및 2차로 사이에 걸쳐 정차하고 있는 피해자 D(남, 26세) 운전의 (차량번호 2 생략) '\n",
      "          '화물차 운전석 앞 부분을 들이받았다. 결국, 피고인은 위와 같은 업무상 과실로 피해자에게 약 12주간의 치료가 필요한 '\n",
      "          '흉추의 다발성 골절 및 폐쇄성 등의 상해를 입게 하였다.',\n",
      " 'id': 4380,\n",
      " 'label': {'fine_lv': 0,\n",
      "           'imprisonment_with_labor_lv': 0,\n",
      "           'imprisonment_without_labor_lv': 2,\n",
      "           'text': '금고 9월'},\n",
      " 'reason': '양형의 이유\\n'\n",
      "           '피고인이 규정 속도보다 약 두 배 가까이 과속하여 운전한 결과 이 사건 사고가 발생하여 피해자에게 상해를 입혔고, '\n",
      "           '피해자가 입은 상해의 정도도 상당히 중한 편이며, 피해자의 가족은 피고인에 대한 엄벌을 탄원하고 있으므로 피고인에 '\n",
      "           '대하여 금고형을 선택하기로 한다.\\n'\n",
      "           '그러나 이 사건의 경우 피해자 또한 사고 당시 혈중알코올농도 0.150%의 술에 취한 상태에 있었고, 관련자들의 진술에 '\n",
      "           '의하면 당시 피해자가 운전하는 포터화물자동차가 한적한 도로의 1차로와 2차로에 걸쳐서 정차하고 있었던 사정이 인정된다. '\n",
      "           '그렇다면, 이 사건 사고에는 단지 피고인의 과실뿐만이 아니라, 피해자의 과실도 상당 부분 개입되었다고 판단된다.\\n'\n",
      "           '이같은 사정에 더해 피고인이 운전하는 자동차의 종합보험을 통해 피해자가 입은 피해가 일정 정도 금전적으로 배상되었다고 '\n",
      "           '보이고, 피고인에게는 과거에 그 어떤 전과가 없는 점을 종합하면, 피고인의 금고형의 집행을 유예하는 것이 타당하다고 '\n",
      "           '판단되어 주문과 같이 판결한다.',\n",
      " 'ruling': {'parse': {'fine': {'type': '', 'unit': '', 'value': -1},\n",
      "                      'imprisonment': {'type': '금고', 'unit': 'mo', 'value': 9}},\n",
      "            'text': '피고인을 금고 9월에 처한다.\\n'\n",
      "                    '단, 이 판결 확정일부터 2년간 위 형의 집행을 유예한다.\\n'\n",
      "                    '피고인에게 40시간의 사회봉사를 명한다.'},\n",
      " 'text': '###명령어: 판결 이유를 설명하시오.\\n'\n",
      "         '        \\n'\n",
      "         '###혐의: 교통사고처리특례법위반(치상)\\n'\n",
      "         '        \\n'\n",
      "         '###법률 사실: 피고인은 (차량번호 1 생략) 코란도 승용차의 운전업무에 종사하는 사람이다. 피고인은 2020. 9. '\n",
      "         '10. 03:20경 위 승용차를 운전하여 익산시 B에 있는 C 건너편 23번 국도를 익산 방면에서 김제 방면으로 편도 '\n",
      "         '2차로 중 1차로를 따라 진행하게 되었다. 그 곳은 자동차 등의 통행속도가 시속 80킬로미터로 제한되어 있는 구간이므로 '\n",
      "         '자동차 운전업무에 종사하는 사람에게는 제한속도를 지키면서 안전하게 운전하여 사고를 미리 방지하여야 할 업무상 주의의무가 '\n",
      "         '있다. 그럼에도 불구하고, 피고인은 이를 게을리 한 채 제한속도를 시속 75킬로미터 가량 초과한 시속 155킬로미터로 '\n",
      "         '진행한 과실로, 술에 취한 상태로 전방 1차로 및 2차로 사이에 걸쳐 정차하고 있는 피해자 D(남, 26세) 운전의 '\n",
      "         '(차량번호 2 생략) 화물차 운전석 앞 부분을 들이받았다. 결국, 피고인은 위와 같은 업무상 과실로 피해자에게 약 '\n",
      "         '12주간의 치료가 필요한 흉추의 다발성 골절 및 폐쇄성 등의 상해를 입게 하였다.\\n'\n",
      "         '        \\n'\n",
      "         '###판결 및 이유: '}\n",
      "교통사고처리특례법위반(치상)\n",
      "피고인은 (차량번호 1 생략) 코란도 승용차의 운전업무에 종사하는 사람이다. 피고인은 2020. 9. 10. 03:20경 위 승용차를 운전하여 익산시 B에 있는 C 건너편 23번 국도를 익산 방면에서 김제 방면으로 편도 2차로 중 1차로를 따라 진행하게 되었다. 그 곳은 자동차 등의 통행속도가 시속 80킬로미터로 제한되어 있는 구간이므로 자동차 운전업무에 종사하는 사람에게는 제한속도를 지키면서 안전하게 운전하여 사고를 미리 방지하여야 할 업무상 주의의무가 있다. 그럼에도 불구하고, 피고인은 이를 게을리 한 채 제한속도를 시속 75킬로미터 가량 초과한 시속 155킬로미터로 진행한 과실로, 술에 취한 상태로 전방 1차로 및 2차로 사이에 걸쳐 정차하고 있는 피해자 D(남, 26세) 운전의 (차량번호 2 생략) 화물차 운전석 앞 부분을 들이받았다. 결국, 피고인은 위와 같은 업무상 과실로 피해자에게 약 12주간의 치료가 필요한 흉추의 다발성 골절 및 폐쇄성 등의 상해를 입게 하였다.\n"
     ]
    }
   ],
   "source": [
    "import numpy as np\n",
    "n = np.random.randint(0, len(data_ljp_criminal['test']))\n",
    "pprint(data_ljp_criminal['test'][n])\n",
    "casename = data_ljp_criminal['test'][n]['casename']\n",
    "facts = data_ljp_criminal['test'][n]['facts']\n",
    "\n",
    "print(casename)\n",
    "print(facts)"
   ]
  },
  {
   "cell_type": "code",
   "execution_count": 41,
   "metadata": {},
   "outputs": [
    {
     "name": "stderr",
     "output_type": "stream",
     "text": [
      "/home/user/anaconda3/envs/nlp/lib/python3.8/site-packages/transformers/generation/utils.py:1494: UserWarning: You are calling .generate() with the `input_ids` being on a device type different than your model's device. `input_ids` is on cpu, whereas the model is on cuda. You may experience unexpected behaviors or slower generation. Please make sure that you have put `input_ids` to the correct device by calling for example input_ids = input_ids.to('cuda') before running `.generate()`.\n",
      "  warnings.warn(\n"
     ]
    },
    {
     "data": {
      "text/plain": [
       "tensor([[    1,   835, 40558, 31129, 29901, 34739, 36942, 32750, 33216, 31346,\n",
       "         29889,    13,   308,    13,  2277, 29937, 40430, 29901, 38648, 36166,\n",
       "         44980, 45156, 44899, 40141, 29898, 44825, 31158, 29897,    13,   308,\n",
       "            13,  2277, 29937, 44899, 45212, 32591, 29901, 42117, 32737,   313,\n",
       "         38021, 40644, 29871, 29896, 32073, 45297, 29897, 32159, 45001, 31136,\n",
       "         32496, 41491, 30708, 34274, 39791, 31054, 39577, 32022, 42867, 29889,\n",
       "         42117, 32737, 29871, 29906, 29900, 29906, 29900, 29889, 29871, 29929,\n",
       "         29889, 29871, 29896, 29900, 29889, 29871, 29900, 29941, 29901, 29906,\n",
       "         29900, 31378, 32056, 32496, 31737, 34201, 34274, 32932, 35493, 31458,\n",
       "         30889,   350, 31054, 32123,   315, 41464, 44950, 29871, 29906, 29941,\n",
       "         44901, 32025, 33147, 35493, 31458, 32094, 43746, 32091, 31306, 32094,\n",
       "         43578, 32354, 31136, 29871, 29906, 37750, 32030, 29871, 29896, 37750,\n",
       "         31517, 32567, 32453, 32108, 38524, 29889, 32004, 40411, 34582, 33385,\n",
       "         32120, 44853, 44882, 33210, 42255, 29871, 29947, 29900, 45397, 30906,\n",
       "         37132, 30906, 34084, 33584, 32123, 39849, 30393, 37891, 34582, 34274,\n",
       "         39791, 31054, 39577, 32022, 32100, 35615, 34084, 44882, 33147, 33714,\n",
       "         32103, 39590, 34274, 32932, 39035, 35285, 37792, 32932, 44820, 32149,\n",
       "         33267, 31158, 38037, 30708, 40782, 32065, 29889, 42672, 37480, 29892,\n",
       "         42117, 32737, 33279, 32336, 31286, 30826, 32016, 32515, 34084, 44882,\n",
       "         33147, 42255, 29871, 29955, 29945, 45397, 30906, 37132, 42657, 38910,\n",
       "         30877, 42255, 29871, 29896, 29945, 29945, 45397, 30906, 37132, 30906,\n",
       "         39315, 32234, 44626, 29892, 33595, 31054, 32372, 30877, 39793, 32014,\n",
       "         31945, 29871, 29896, 37750, 32356, 29871, 29906, 37750, 39200, 37886,\n",
       "         32010, 31817, 32020, 32123, 33671,   360, 29898, 31754, 29892, 29871,\n",
       "         29906, 29953, 31578, 29897, 34274, 30708,   313, 38021, 40644, 29871,\n",
       "         29906, 32073, 45297, 29897, 35966, 31817, 34274, 44906, 32219, 42640,\n",
       "         35501, 37613, 29889, 32833, 29892, 42117, 32737, 32056, 44834, 32280,\n",
       "         33267, 31158, 32234, 44626, 33671, 32136, 32341, 29871, 29896, 29906,\n",
       "         39915, 30708, 33199, 30903, 33703, 35130, 44914, 30708, 32021, 44846,\n",
       "         31126, 32645, 44999, 32356, 36907, 31126, 33385, 32061, 38682, 32127,\n",
       "         44814, 32011, 32509, 29889,    13,   308,    13,  2277, 29937, 44930,\n",
       "         44902, 32356, 32583, 29901, 29871, 29896, 29889, 42117, 32737, 29892,\n",
       "         42117, 32385, 33595, 31054, 32372, 32175, 33167, 42860, 37480, 42117,\n",
       "         32385, 34582, 30708, 34274, 30889, 33171, 32007, 30826, 44824, 40271,\n",
       "         32041, 32140, 43287, 32031, 44987, 44594, 32356, 32032, 31000, 31299,\n",
       "         33051, 38862, 33391, 32932, 34274, 40137, 39035, 35285, 37792, 32932,\n",
       "         44820, 32149, 33267, 31158, 38037, 30708, 40782, 34562, 32306, 33279,\n",
       "         32336, 31286, 30826, 32016, 32515, 34084, 44882, 33147, 42255, 29871,\n",
       "         29945, 29945, 45397, 30906, 37132, 42657, 38910, 32932, 32234, 44882,\n",
       "         30877, 32234, 44626, 29892, 41795, 33671,   360, 34274, 30708, 35966,\n",
       "         31817, 34274, 44906, 32219, 42640, 42117, 32941, 32056, 32496, 31737,\n",
       "         37750, 35501, 34608, 32666, 37891, 29892, 32056, 44834, 32280, 32234,\n",
       "         36830, 32157, 42117, 32941, 32796, 44967, 42384, 42988, 31153, 32017,\n",
       "         32420, 29889, 29871, 29906, 29889, 42117, 32737, 29892, 42117, 32385,\n",
       "         33267, 31158, 32234, 44626, 32056, 44834, 32896, 33671, 32136, 32061,\n",
       "         38682, 32127, 44814, 32011, 45036, 44813, 37891, 32004, 33671, 32136,\n",
       "         32635, 34543, 31286, 34412, 30877, 33662, 34201, 34150, 34274, 32108,\n",
       "         32016, 32233, 33389, 32002, 32932, 33267, 31158, 32234, 44626, 34839,\n",
       "         32398, 44830, 40410, 32359, 31158, 32022, 32635, 34543, 33305, 31093,\n",
       "         33671,   360, 44834, 41033, 32932, 33671, 32136, 34919, 31517, 40352,\n",
       "         44827, 41190, 32883, 33110, 32020, 32065, 29889, 42117, 34388, 33671,\n",
       "           360, 31354, 34582, 34274, 39791, 31054, 32157, 34544, 37872, 34676,\n",
       "         30877, 32552, 31054, 32065, 29889, 42117, 32385, 32004, 34544, 32341,\n",
       "         40780, 32567, 32056, 33671,   360, 32136, 34582, 30708, 32589, 31286,\n",
       "         32049, 44871, 30877, 32658, 37989, 31435, 34584, 34582, 30708, 38653,\n",
       "         31054, 32002, 32932, 33703, 32506, 31517, 32262, 36503, 32670, 44846,\n",
       "         44829, 30708, 37757, 32067, 31285, 31054, 37792, 32932, 44820, 32149,\n",
       "         33267]])"
      ]
     },
     "execution_count": 41,
     "metadata": {},
     "output_type": "execute_result"
    }
   ],
   "source": [
    "gened = gen(casename=casename, facts=facts)\n",
    "gened"
   ]
  },
  {
   "cell_type": "code",
   "execution_count": 42,
   "metadata": {},
   "outputs": [
    {
     "data": {
      "text/plain": [
       "torch.Size([1, 571])"
      ]
     },
     "execution_count": 42,
     "metadata": {},
     "output_type": "execute_result"
    }
   ],
   "source": [
    "gened.shape"
   ]
  },
  {
   "cell_type": "code",
   "execution_count": 44,
   "metadata": {},
   "outputs": [
    {
     "name": "stdout",
     "output_type": "stream",
     "text": [
      "<s> ###명령어: 판결 이유를 설명하시오.\n",
      "        \n",
      "###혐의: 교통사고처리특례법위반(치상)\n",
      "        \n",
      "###법률 사실: 피고인은 (차량번호 1 생략) 코란도 승용차의 운전업무에 종사하는 사람이다. 피고인은 2020. 9. 10. 03:20경 위 승용차를 운전하여 익산시 B에 있는 C 건너편 23번 국도를 익산 방면에서 김제 방면으로 편도 2차로 중 1차로를 따라 진행하게 되었다. 그 곳은 자동차 등의 통행속도가 시속 80킬로미터로 제한되어 있는 구간이므로 자동차 운전업무에 종사하는 사람에게는 제한속도를 지키면서 안전하게 운전하여 사고를 미리 방지하여야 할 업무상 주의의무가 있다. 그럼에도 불구하고, 피고인은 이를 게을리 한 채 제한속도를 시속 75킬로미터 가량 초과한 시속 155킬로미터로 진행한 과실로, 술에 취한 상태로 전방 1차로 및 2차로 사이에 걸쳐 정차하고 있는 피해자 D(남, 26세) 운전의 (차량번호 2 생략) 화물차 운전석 앞 부분을 들이받았다. 결국, 피고인은 위와 같은 업무상 과실로 피해자에게 약 12주간의 치료가 필요한 흉추의 다발성 골절 및 폐쇄성 등의 상해를 입게 하였다.\n",
      "        \n",
      "###판결 및 이유: 1. 피고인은, 피고인이 술에 취하지 않았음에도 불구하고 피고인이 자동차의 운전시마다 지리적 환경을 잘 살피고 조향장치 및 제동장치를 정확히 조작하여 운전함으로써 사고를 미리 방지하여야 할 업무상 주의의무가 있음에도 이를 게을리 한 채 제한속도를 시속 55킬로미터 가량 초과하여 과속한 과실로, 마침 피해자 D 운전의 화물차 운전석 앞 부분을 피고인의 위 승용차로 들이받은 것이므로, 위와 같은 과실에 대한 피고인의 면책 주장을 받아들일 수 없다. 2. 피고인은, 피고인이 업무상 과실로 위와 같이 피해자에게 상해를 입게 하였으므로 그 피해자에게 책임보험을 가입한 자동차를 대신 운전하게 한 행위에 대하여 업무상 과실로 인한 피해금액을 변상하는 책임보험자로서 피해자 D와 연대하여 피해자에게 손해를 배상할 책임이 있다고 주장하고 있다. 피고인과 피해자 D은 자동차 운전업무에 대한 보험 계약을 체결한 관계에 있다. 피고인이 그 보험 약관에 따라 위 피해자 D에게 자동차의 이용을 해임한 다음 대리해 주는 자동차의 운행에 대하여 필요한 보고를 함으로써 사고발생의 가능성을 미연에 방지하여야 할 업무\n"
     ]
    }
   ],
   "source": [
    "print(tokenizer.decode(gened[0]))"
   ]
  },
  {
   "cell_type": "code",
   "execution_count": null,
   "metadata": {},
   "outputs": [],
   "source": []
  }
 ],
 "metadata": {
  "kernelspec": {
   "display_name": "nlp",
   "language": "python",
   "name": "python3"
  },
  "language_info": {
   "codemirror_mode": {
    "name": "ipython",
    "version": 3
   },
   "file_extension": ".py",
   "mimetype": "text/x-python",
   "name": "python",
   "nbconvert_exporter": "python",
   "pygments_lexer": "ipython3",
   "version": "3.8.13"
  },
  "orig_nbformat": 4
 },
 "nbformat": 4,
 "nbformat_minor": 2
}
